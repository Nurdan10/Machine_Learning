{
 "cells": [
  {
   "cell_type": "markdown",
   "metadata": {
    "id": "AKlDPJPQUiIL"
   },
   "source": [
    "# PCA with Supervised Algorithms"
   ]
  },
  {
   "cell_type": "markdown",
   "metadata": {
    "id": "7e3VhqHwUiIQ"
   },
   "source": [
    "## Imports"
   ]
  },
  {
   "cell_type": "code",
   "execution_count": 1,
   "metadata": {
    "id": "Keic6cQkUiIR"
   },
   "outputs": [],
   "source": [
    "import numpy as np\n",
    "import matplotlib.pyplot as plt\n",
    "import pandas as pd\n",
    "import seaborn as sns\n",
    "\n",
    "from sklearn.preprocessing import StandardScaler\n",
    "from sklearn.decomposition import PCA\n",
    "\n",
    "import warnings\n",
    "warnings.filterwarnings(\"ignore\")\n",
    "plt.rcParams[\"figure.figsize\"] = (7,4)"
   ]
  },
  {
   "cell_type": "code",
   "execution_count": 2,
   "metadata": {
    "id": "8R1dwfwWUiIS"
   },
   "outputs": [],
   "source": [
    "df = pd.read_csv(\"Wine.csv\")"
   ]
  },
  {
   "cell_type": "code",
   "execution_count": 3,
   "metadata": {
    "id": "CVKvjm6IUiIS",
    "outputId": "6963f902-3a55-4f0e-c204-a1338fced152"
   },
   "outputs": [
    {
     "data": {
      "text/html": [
       "<div>\n",
       "<style scoped>\n",
       "    .dataframe tbody tr th:only-of-type {\n",
       "        vertical-align: middle;\n",
       "    }\n",
       "\n",
       "    .dataframe tbody tr th {\n",
       "        vertical-align: top;\n",
       "    }\n",
       "\n",
       "    .dataframe thead th {\n",
       "        text-align: right;\n",
       "    }\n",
       "</style>\n",
       "<table border=\"1\" class=\"dataframe\">\n",
       "  <thead>\n",
       "    <tr style=\"text-align: right;\">\n",
       "      <th></th>\n",
       "      <th>Alcohol</th>\n",
       "      <th>Malic_Acid</th>\n",
       "      <th>Ash</th>\n",
       "      <th>Ash_Alcanity</th>\n",
       "      <th>Magnesium</th>\n",
       "      <th>Total_Phenols</th>\n",
       "      <th>Flavanoids</th>\n",
       "      <th>Nonflavanoid_Phenols</th>\n",
       "      <th>Proanthocyanins</th>\n",
       "      <th>Color_Intensity</th>\n",
       "      <th>Hue</th>\n",
       "      <th>OD280</th>\n",
       "      <th>Proline</th>\n",
       "      <th>Customer_Segment</th>\n",
       "    </tr>\n",
       "  </thead>\n",
       "  <tbody>\n",
       "    <tr>\n",
       "      <th>0</th>\n",
       "      <td>14.23</td>\n",
       "      <td>1.71</td>\n",
       "      <td>2.43</td>\n",
       "      <td>15.6</td>\n",
       "      <td>127</td>\n",
       "      <td>2.80</td>\n",
       "      <td>3.06</td>\n",
       "      <td>0.28</td>\n",
       "      <td>2.29</td>\n",
       "      <td>5.64</td>\n",
       "      <td>1.04</td>\n",
       "      <td>3.92</td>\n",
       "      <td>1065</td>\n",
       "      <td>1</td>\n",
       "    </tr>\n",
       "    <tr>\n",
       "      <th>1</th>\n",
       "      <td>13.20</td>\n",
       "      <td>1.78</td>\n",
       "      <td>2.14</td>\n",
       "      <td>11.2</td>\n",
       "      <td>100</td>\n",
       "      <td>2.65</td>\n",
       "      <td>2.76</td>\n",
       "      <td>0.26</td>\n",
       "      <td>1.28</td>\n",
       "      <td>4.38</td>\n",
       "      <td>1.05</td>\n",
       "      <td>3.40</td>\n",
       "      <td>1050</td>\n",
       "      <td>1</td>\n",
       "    </tr>\n",
       "    <tr>\n",
       "      <th>2</th>\n",
       "      <td>13.16</td>\n",
       "      <td>2.36</td>\n",
       "      <td>2.67</td>\n",
       "      <td>18.6</td>\n",
       "      <td>101</td>\n",
       "      <td>2.80</td>\n",
       "      <td>3.24</td>\n",
       "      <td>0.30</td>\n",
       "      <td>2.81</td>\n",
       "      <td>5.68</td>\n",
       "      <td>1.03</td>\n",
       "      <td>3.17</td>\n",
       "      <td>1185</td>\n",
       "      <td>1</td>\n",
       "    </tr>\n",
       "    <tr>\n",
       "      <th>3</th>\n",
       "      <td>14.37</td>\n",
       "      <td>1.95</td>\n",
       "      <td>2.50</td>\n",
       "      <td>16.8</td>\n",
       "      <td>113</td>\n",
       "      <td>3.85</td>\n",
       "      <td>3.49</td>\n",
       "      <td>0.24</td>\n",
       "      <td>2.18</td>\n",
       "      <td>7.80</td>\n",
       "      <td>0.86</td>\n",
       "      <td>3.45</td>\n",
       "      <td>1480</td>\n",
       "      <td>1</td>\n",
       "    </tr>\n",
       "    <tr>\n",
       "      <th>4</th>\n",
       "      <td>13.24</td>\n",
       "      <td>2.59</td>\n",
       "      <td>2.87</td>\n",
       "      <td>21.0</td>\n",
       "      <td>118</td>\n",
       "      <td>2.80</td>\n",
       "      <td>2.69</td>\n",
       "      <td>0.39</td>\n",
       "      <td>1.82</td>\n",
       "      <td>4.32</td>\n",
       "      <td>1.04</td>\n",
       "      <td>2.93</td>\n",
       "      <td>735</td>\n",
       "      <td>1</td>\n",
       "    </tr>\n",
       "  </tbody>\n",
       "</table>\n",
       "</div>"
      ],
      "text/plain": [
       "   Alcohol  Malic_Acid   Ash  Ash_Alcanity  Magnesium  Total_Phenols  \\\n",
       "0    14.23        1.71  2.43          15.6        127           2.80   \n",
       "1    13.20        1.78  2.14          11.2        100           2.65   \n",
       "2    13.16        2.36  2.67          18.6        101           2.80   \n",
       "3    14.37        1.95  2.50          16.8        113           3.85   \n",
       "4    13.24        2.59  2.87          21.0        118           2.80   \n",
       "\n",
       "   Flavanoids  Nonflavanoid_Phenols  Proanthocyanins  Color_Intensity   Hue  \\\n",
       "0        3.06                  0.28             2.29             5.64  1.04   \n",
       "1        2.76                  0.26             1.28             4.38  1.05   \n",
       "2        3.24                  0.30             2.81             5.68  1.03   \n",
       "3        3.49                  0.24             2.18             7.80  0.86   \n",
       "4        2.69                  0.39             1.82             4.32  1.04   \n",
       "\n",
       "   OD280  Proline  Customer_Segment  \n",
       "0   3.92     1065                 1  \n",
       "1   3.40     1050                 1  \n",
       "2   3.17     1185                 1  \n",
       "3   3.45     1480                 1  \n",
       "4   2.93      735                 1  "
      ]
     },
     "execution_count": 3,
     "metadata": {},
     "output_type": "execute_result"
    }
   ],
   "source": [
    "df.head()"
   ]
  },
  {
   "cell_type": "code",
   "execution_count": 4,
   "metadata": {
    "id": "BWpnoslwUiIT",
    "outputId": "2d5bef48-1bf3-443a-bc6e-ce2885a72f02"
   },
   "outputs": [
    {
     "data": {
      "text/plain": [
       "(178, 14)"
      ]
     },
     "execution_count": 4,
     "metadata": {},
     "output_type": "execute_result"
    }
   ],
   "source": [
    "df.shape"
   ]
  },
  {
   "cell_type": "code",
   "execution_count": 5,
   "metadata": {
    "id": "JFGHryZkUiIY",
    "outputId": "51bb72f0-72fb-4ffa-8362-ec26f21eb0c6"
   },
   "outputs": [
    {
     "data": {
      "text/plain": [
       "False"
      ]
     },
     "execution_count": 5,
     "metadata": {},
     "output_type": "execute_result"
    }
   ],
   "source": [
    "df.isnull().sum().any()"
   ]
  },
  {
   "cell_type": "code",
   "execution_count": 6,
   "metadata": {},
   "outputs": [
    {
     "data": {
      "text/plain": [
       "False"
      ]
     },
     "execution_count": 6,
     "metadata": {},
     "output_type": "execute_result"
    }
   ],
   "source": [
    "df.duplicated().sum().any()"
   ]
  },
  {
   "cell_type": "code",
   "execution_count": 7,
   "metadata": {
    "id": "-dPYJ8v9UiIU",
    "outputId": "757460b4-bfe6-47e8-da33-af44380e4fdc"
   },
   "outputs": [
    {
     "data": {
      "text/plain": [
       "array([1, 2, 3], dtype=int64)"
      ]
     },
     "execution_count": 7,
     "metadata": {},
     "output_type": "execute_result"
    }
   ],
   "source": [
    "df.Customer_Segment.unique()"
   ]
  },
  {
   "cell_type": "code",
   "execution_count": 8,
   "metadata": {
    "id": "tZ2mfL-SUiIU",
    "outputId": "c59260c7-9a4e-4af2-b92b-77df6d80197d"
   },
   "outputs": [
    {
     "data": {
      "text/plain": [
       "Customer_Segment\n",
       "2    71\n",
       "1    59\n",
       "3    48\n",
       "Name: count, dtype: int64"
      ]
     },
     "execution_count": 8,
     "metadata": {},
     "output_type": "execute_result"
    }
   ],
   "source": [
    "df.Customer_Segment.value_counts()"
   ]
  },
  {
   "cell_type": "code",
   "execution_count": 9,
   "metadata": {
    "id": "oY-CtNlfUiIV"
   },
   "outputs": [],
   "source": [
    "df[\"Customer_Segment\"] = df.Customer_Segment.map({3: 1, 2: 2, 1: 3})\n",
    "\n",
    "# top quality wines are coded as 1, medium quality wines 2, poor quality wines 3.\n",
    "# We code quality wines as 3 and poor quality wines as 1 in order to make their interpretation easier to understand."
   ]
  },
  {
   "cell_type": "code",
   "execution_count": 106,
   "metadata": {
    "id": "SNGPxTzQUiIW",
    "outputId": "6225c0bd-1914-49fc-dd7d-bd9099746c71"
   },
   "outputs": [
    {
     "data": {
      "text/plain": [
       "2    71\n",
       "3    59\n",
       "1    48\n",
       "Name: Customer_Segment, dtype: int64"
      ]
     },
     "execution_count": 106,
     "metadata": {},
     "output_type": "execute_result"
    }
   ],
   "source": [
    "df.Customer_Segment.value_counts()"
   ]
  },
  {
   "cell_type": "code",
   "execution_count": 107,
   "metadata": {
    "id": "IsssLxZlUiIX",
    "outputId": "09abd54c-7b1d-40be-80db-8b90f540fb48"
   },
   "outputs": [
    {
     "data": {
      "image/png": "[encoded data removed]",
      "text/plain": [
       "<Figure size 700x400 with 1 Axes>"
      ]
     },
     "metadata": {},
     "output_type": "display_data"
    }
   ],
   "source": [
    "ax = df.Customer_Segment.value_counts().plot.bar()\n",
    "ax.bar_label(ax.containers[0]);"
   ]
  },
  {
   "cell_type": "code",
   "execution_count": 108,
   "metadata": {
    "id": "j4f_KA0TUiIX",
    "outputId": "a3431c0b-8c80-433f-8305-b30b4c491dd3"
   },
   "outputs": [
    {
     "data": {
      "text/html": [
       "<div>\n",
       "<style scoped>\n",
       "    .dataframe tbody tr th:only-of-type {\n",
       "        vertical-align: middle;\n",
       "    }\n",
       "\n",
       "    .dataframe tbody tr th {\n",
       "        vertical-align: top;\n",
       "    }\n",
       "\n",
       "    .dataframe thead th {\n",
       "        text-align: right;\n",
       "    }\n",
       "</style>\n",
       "<table border=\"1\" class=\"dataframe\">\n",
       "  <thead>\n",
       "    <tr style=\"text-align: right;\">\n",
       "      <th></th>\n",
       "      <th>count</th>\n",
       "      <th>mean</th>\n",
       "      <th>std</th>\n",
       "      <th>min</th>\n",
       "      <th>25%</th>\n",
       "      <th>50%</th>\n",
       "      <th>75%</th>\n",
       "      <th>max</th>\n",
       "    </tr>\n",
       "  </thead>\n",
       "  <tbody>\n",
       "    <tr>\n",
       "      <th>Alcohol</th>\n",
       "      <td>178.0</td>\n",
       "      <td>13.000618</td>\n",
       "      <td>0.811827</td>\n",
       "      <td>11.03</td>\n",
       "      <td>12.3625</td>\n",
       "      <td>13.050</td>\n",
       "      <td>13.6775</td>\n",
       "      <td>14.83</td>\n",
       "    </tr>\n",
       "    <tr>\n",
       "      <th>Malic_Acid</th>\n",
       "      <td>178.0</td>\n",
       "      <td>2.336348</td>\n",
       "      <td>1.117146</td>\n",
       "      <td>0.74</td>\n",
       "      <td>1.6025</td>\n",
       "      <td>1.865</td>\n",
       "      <td>3.0825</td>\n",
       "      <td>5.80</td>\n",
       "    </tr>\n",
       "    <tr>\n",
       "      <th>Ash</th>\n",
       "      <td>178.0</td>\n",
       "      <td>2.366517</td>\n",
       "      <td>0.274344</td>\n",
       "      <td>1.36</td>\n",
       "      <td>2.2100</td>\n",
       "      <td>2.360</td>\n",
       "      <td>2.5575</td>\n",
       "      <td>3.23</td>\n",
       "    </tr>\n",
       "    <tr>\n",
       "      <th>Ash_Alcanity</th>\n",
       "      <td>178.0</td>\n",
       "      <td>19.494944</td>\n",
       "      <td>3.339564</td>\n",
       "      <td>10.60</td>\n",
       "      <td>17.2000</td>\n",
       "      <td>19.500</td>\n",
       "      <td>21.5000</td>\n",
       "      <td>30.00</td>\n",
       "    </tr>\n",
       "    <tr>\n",
       "      <th>Magnesium</th>\n",
       "      <td>178.0</td>\n",
       "      <td>99.741573</td>\n",
       "      <td>14.282484</td>\n",
       "      <td>70.00</td>\n",
       "      <td>88.0000</td>\n",
       "      <td>98.000</td>\n",
       "      <td>107.0000</td>\n",
       "      <td>162.00</td>\n",
       "    </tr>\n",
       "    <tr>\n",
       "      <th>Total_Phenols</th>\n",
       "      <td>178.0</td>\n",
       "      <td>2.295112</td>\n",
       "      <td>0.625851</td>\n",
       "      <td>0.98</td>\n",
       "      <td>1.7425</td>\n",
       "      <td>2.355</td>\n",
       "      <td>2.8000</td>\n",
       "      <td>3.88</td>\n",
       "    </tr>\n",
       "    <tr>\n",
       "      <th>Flavanoids</th>\n",
       "      <td>178.0</td>\n",
       "      <td>2.029270</td>\n",
       "      <td>0.998859</td>\n",
       "      <td>0.34</td>\n",
       "      <td>1.2050</td>\n",
       "      <td>2.135</td>\n",
       "      <td>2.8750</td>\n",
       "      <td>5.08</td>\n",
       "    </tr>\n",
       "    <tr>\n",
       "      <th>Nonflavanoid_Phenols</th>\n",
       "      <td>178.0</td>\n",
       "      <td>0.361854</td>\n",
       "      <td>0.124453</td>\n",
       "      <td>0.13</td>\n",
       "      <td>0.2700</td>\n",
       "      <td>0.340</td>\n",
       "      <td>0.4375</td>\n",
       "      <td>0.66</td>\n",
       "    </tr>\n",
       "    <tr>\n",
       "      <th>Proanthocyanins</th>\n",
       "      <td>178.0</td>\n",
       "      <td>1.590899</td>\n",
       "      <td>0.572359</td>\n",
       "      <td>0.41</td>\n",
       "      <td>1.2500</td>\n",
       "      <td>1.555</td>\n",
       "      <td>1.9500</td>\n",
       "      <td>3.58</td>\n",
       "    </tr>\n",
       "    <tr>\n",
       "      <th>Color_Intensity</th>\n",
       "      <td>178.0</td>\n",
       "      <td>5.058090</td>\n",
       "      <td>2.318286</td>\n",
       "      <td>1.28</td>\n",
       "      <td>3.2200</td>\n",
       "      <td>4.690</td>\n",
       "      <td>6.2000</td>\n",
       "      <td>13.00</td>\n",
       "    </tr>\n",
       "    <tr>\n",
       "      <th>Hue</th>\n",
       "      <td>178.0</td>\n",
       "      <td>0.957449</td>\n",
       "      <td>0.228572</td>\n",
       "      <td>0.48</td>\n",
       "      <td>0.7825</td>\n",
       "      <td>0.965</td>\n",
       "      <td>1.1200</td>\n",
       "      <td>1.71</td>\n",
       "    </tr>\n",
       "    <tr>\n",
       "      <th>OD280</th>\n",
       "      <td>178.0</td>\n",
       "      <td>2.611685</td>\n",
       "      <td>0.709990</td>\n",
       "      <td>1.27</td>\n",
       "      <td>1.9375</td>\n",
       "      <td>2.780</td>\n",
       "      <td>3.1700</td>\n",
       "      <td>4.00</td>\n",
       "    </tr>\n",
       "    <tr>\n",
       "      <th>Proline</th>\n",
       "      <td>178.0</td>\n",
       "      <td>746.893258</td>\n",
       "      <td>314.907474</td>\n",
       "      <td>278.00</td>\n",
       "      <td>500.5000</td>\n",
       "      <td>673.500</td>\n",
       "      <td>985.0000</td>\n",
       "      <td>1680.00</td>\n",
       "    </tr>\n",
       "    <tr>\n",
       "      <th>Customer_Segment</th>\n",
       "      <td>178.0</td>\n",
       "      <td>2.061798</td>\n",
       "      <td>0.775035</td>\n",
       "      <td>1.00</td>\n",
       "      <td>1.0000</td>\n",
       "      <td>2.000</td>\n",
       "      <td>3.0000</td>\n",
       "      <td>3.00</td>\n",
       "    </tr>\n",
       "  </tbody>\n",
       "</table>\n",
       "</div>"
      ],
      "text/plain": [
       "                      count        mean         std     min       25%  \\\n",
       "Alcohol               178.0   13.000618    0.811827   11.03   12.3625   \n",
       "Malic_Acid            178.0    2.336348    1.117146    0.74    1.6025   \n",
       "Ash                   178.0    2.366517    0.274344    1.36    2.2100   \n",
       "Ash_Alcanity          178.0   19.494944    3.339564   10.60   17.2000   \n",
       "Magnesium             178.0   99.741573   14.282484   70.00   88.0000   \n",
       "Total_Phenols         178.0    2.295112    0.625851    0.98    1.7425   \n",
       "Flavanoids            178.0    2.029270    0.998859    0.34    1.2050   \n",
       "Nonflavanoid_Phenols  178.0    0.361854    0.124453    0.13    0.2700   \n",
       "Proanthocyanins       178.0    1.590899    0.572359    0.41    1.2500   \n",
       "Color_Intensity       178.0    5.058090    2.318286    1.28    3.2200   \n",
       "Hue                   178.0    0.957449    0.228572    0.48    0.7825   \n",
       "OD280                 178.0    2.611685    0.709990    1.27    1.9375   \n",
       "Proline               178.0  746.893258  314.907474  278.00  500.5000   \n",
       "Customer_Segment      178.0    2.061798    0.775035    1.00    1.0000   \n",
       "\n",
       "                          50%       75%      max  \n",
       "Alcohol                13.050   13.6775    14.83  \n",
       "Malic_Acid              1.865    3.0825     5.80  \n",
       "Ash                     2.360    2.5575     3.23  \n",
       "Ash_Alcanity           19.500   21.5000    30.00  \n",
       "Magnesium              98.000  107.0000   162.00  \n",
       "Total_Phenols           2.355    2.8000     3.88  \n",
       "Flavanoids              2.135    2.8750     5.08  \n",
       "Nonflavanoid_Phenols    0.340    0.4375     0.66  \n",
       "Proanthocyanins         1.555    1.9500     3.58  \n",
       "Color_Intensity         4.690    6.2000    13.00  \n",
       "Hue                     0.965    1.1200     1.71  \n",
       "OD280                   2.780    3.1700     4.00  \n",
       "Proline               673.500  985.0000  1680.00  \n",
       "Customer_Segment        2.000    3.0000     3.00  "
      ]
     },
     "execution_count": 108,
     "metadata": {},
     "output_type": "execute_result"
    }
   ],
   "source": [
    "df.describe().T"
   ]
  },
  {
   "cell_type": "code",
   "execution_count": 109,
   "metadata": {
    "id": "Q4725Ru4UiIX",
    "outputId": "7967970b-f75f-49eb-9b46-1cf0109559d5"
   },
   "outputs": [
    {
     "data": {
      "text/plain": [
       "<Axes: >"
      ]
     },
     "execution_count": 109,
     "metadata": {},
     "output_type": "execute_result"
    },
    {
     "data": {
      "image/png": "[encoded data removed]",
      "text/plain": [
       "<Figure size 1200x500 with 2 Axes>"
      ]
     },
     "metadata": {},
     "output_type": "display_data"
    }
   ],
   "source": [
    "plt.figure(figsize=(12,5))\n",
    "sns.heatmap(df.corr(), vmin=-1, vmax=1, annot=True, cmap=\"coolwarm\", fmt=\".2f\")"
   ]
  },
  {
   "cell_type": "code",
   "execution_count": 110,
   "metadata": {
    "id": "MmgQidblUiIY",
    "outputId": "12594e61-c815-4713-a394-4e71007b2cad"
   },
   "outputs": [
    {
     "data": {
      "image/png": "[encoded data removed]",
      "text/plain": [
       "<Figure size 700x400 with 1 Axes>"
      ]
     },
     "metadata": {},
     "output_type": "display_data"
    }
   ],
   "source": [
    "ax = df.corr()[\"Customer_Segment\"][:-1].sort_values().plot(kind=\"barh\")\n",
    "ax.bar_label(ax.containers[0], fmt=\"%.2f\");"
   ]
  },
  {
   "cell_type": "markdown",
   "metadata": {
    "id": "lnYTUM6tUiIZ"
   },
   "source": [
    "## Split the Data"
   ]
  },
  {
   "cell_type": "code",
   "execution_count": 111,
   "metadata": {
    "id": "leYlgIK0UiIZ"
   },
   "outputs": [],
   "source": [
    "X = df.drop(\"Customer_Segment\", axis=1)"
   ]
  },
  {
   "cell_type": "code",
   "execution_count": 112,
   "metadata": {
    "id": "-I44ZF_KUiIZ"
   },
   "outputs": [],
   "source": [
    "y = df[\"Customer_Segment\"]"
   ]
  },
  {
   "cell_type": "code",
   "execution_count": 113,
   "metadata": {
    "id": "7CWTW9KQUiIZ"
   },
   "outputs": [],
   "source": [
    "from sklearn.model_selection import train_test_split\n",
    "X_train, X_test, y_train, y_test = train_test_split(X, \n",
    "                                                    y,\n",
    "                                                    test_size=0.2,\n",
    "                                                    stratify=y,\n",
    "                                                    random_state=0)"
   ]
  },
  {
   "cell_type": "markdown",
   "metadata": {
    "id": "fITvVTo5UiIZ"
   },
   "source": [
    "## Modeling with Random Forest"
   ]
  },
  {
   "cell_type": "code",
   "execution_count": 114,
   "metadata": {
    "id": "lwX3SFjCUiIa"
   },
   "outputs": [],
   "source": [
    "from sklearn.metrics import confusion_matrix, classification_report"
   ]
  },
  {
   "cell_type": "code",
   "execution_count": 115,
   "metadata": {
    "id": "5PZSEx4nUiIa"
   },
   "outputs": [],
   "source": [
    "def eval_metric(model, X_train, y_train, X_test, y_test):\n",
    "    y_train_pred = model.predict(X_train)\n",
    "    y_pred = model.predict(X_test)\n",
    "    \n",
    "    print(\"Test_Set\")\n",
    "    print(confusion_matrix(y_test, y_pred))\n",
    "    print(classification_report(y_test, y_pred))\n",
    "    print()\n",
    "    print(\"Train_Set\")\n",
    "    print(confusion_matrix(y_train, y_train_pred))\n",
    "    print(classification_report(y_train, y_train_pred))"
   ]
  },
  {
   "cell_type": "code",
   "execution_count": 116,
   "metadata": {
    "id": "1EpxEELRUiIa"
   },
   "outputs": [],
   "source": [
    "from sklearn.ensemble import RandomForestClassifier\n",
    "\n",
    "# herhangibir modeli tercih edebiliriz."
   ]
  },
  {
   "cell_type": "code",
   "execution_count": 117,
   "metadata": {
    "id": "mDgmJgnQUiIb",
    "outputId": "ce5d663b-9478-429a-9492-a9dc45bbd795"
   },
   "outputs": [
    {
     "name": "stdout",
     "output_type": "stream",
     "text": [
      "Test_Set\n",
      "[[10  0  0]\n",
      " [ 0 14  0]\n",
      " [ 0  1 11]]\n",
      "              precision    recall  f1-score   support\n",
      "\n",
      "           1       1.00      1.00      1.00        10\n",
      "           2       0.93      1.00      0.97        14\n",
      "           3       1.00      0.92      0.96        12\n",
      "\n",
      "    accuracy                           0.97        36\n",
      "   macro avg       0.98      0.97      0.97        36\n",
      "weighted avg       0.97      0.97      0.97        36\n",
      "\n",
      "\n",
      "Train_Set\n",
      "[[38  0  0]\n",
      " [ 0 57  0]\n",
      " [ 0  0 47]]\n",
      "              precision    recall  f1-score   support\n",
      "\n",
      "           1       1.00      1.00      1.00        38\n",
      "           2       1.00      1.00      1.00        57\n",
      "           3       1.00      1.00      1.00        47\n",
      "\n",
      "    accuracy                           1.00       142\n",
      "   macro avg       1.00      1.00      1.00       142\n",
      "weighted avg       1.00      1.00      1.00       142\n",
      "\n"
     ]
    }
   ],
   "source": [
    "classifier = RandomForestClassifier(random_state=0)\n",
    "classifier.fit(X_train, y_train)\n",
    "eval_metric(classifier, X_train, y_train, X_test, y_test)"
   ]
  },
  {
   "cell_type": "code",
   "execution_count": 118,
   "metadata": {
    "id": "RbZCgjtoUiIb",
    "outputId": "9569a443-477b-4400-a1bd-18f37a509c05"
   },
   "outputs": [
    {
     "data": {
      "text/plain": [
       "test_accuracy            0.985714\n",
       "train_accuracy           1.000000\n",
       "test_precision_micro     0.985714\n",
       "train_precision_micro    1.000000\n",
       "test_recall_micro        0.985714\n",
       "train_recall_micro       1.000000\n",
       "test_f1_micro            0.985714\n",
       "train_f1_micro           1.000000\n",
       "dtype: float64"
      ]
     },
     "execution_count": 118,
     "metadata": {},
     "output_type": "execute_result"
    }
   ],
   "source": [
    "from sklearn.model_selection import cross_validate\n",
    "\n",
    "model = RandomForestClassifier(random_state=0)\n",
    "\n",
    "scores = cross_validate(model,\n",
    "                        X_train,\n",
    "                        y_train,\n",
    "                        scoring=['accuracy',\n",
    "                                 'precision_micro',\n",
    "                                 'recall_micro',\n",
    "                                 'f1_micro'], \n",
    "                        cv=10,\n",
    "                        return_train_score=True)\n",
    "df_scores = pd.DataFrame(scores, index=range(1, 11))\n",
    "df_scores.mean()[2:]"
   ]
  },
  {
   "cell_type": "code",
   "execution_count": 119,
   "metadata": {
    "id": "UQLS45sjUiIb",
    "outputId": "dc5d4bfc-11ad-482f-f67e-2b99d02c995d"
   },
   "outputs": [
    {
     "data": {
      "text/plain": [
       "array([0.09118767, 0.03337355, 0.01428735, 0.04553722, 0.02403198,\n",
       "       0.04182253, 0.18429102, 0.01254126, 0.03013279, 0.15017738,\n",
       "       0.06761653, 0.09590212, 0.20909858])"
      ]
     },
     "execution_count": 119,
     "metadata": {},
     "output_type": "execute_result"
    }
   ],
   "source": [
    "classifier.feature_importances_"
   ]
  },
  {
   "cell_type": "code",
   "execution_count": 120,
   "metadata": {
    "id": "bvigC-W9UiIb",
    "outputId": "897cad51-d078-449a-e822-36edd826b14c"
   },
   "outputs": [
    {
     "data": {
      "text/html": [
       "<div>\n",
       "<style scoped>\n",
       "    .dataframe tbody tr th:only-of-type {\n",
       "        vertical-align: middle;\n",
       "    }\n",
       "\n",
       "    .dataframe tbody tr th {\n",
       "        vertical-align: top;\n",
       "    }\n",
       "\n",
       "    .dataframe thead th {\n",
       "        text-align: right;\n",
       "    }\n",
       "</style>\n",
       "<table border=\"1\" class=\"dataframe\">\n",
       "  <thead>\n",
       "    <tr style=\"text-align: right;\">\n",
       "      <th></th>\n",
       "      <th>Alcohol</th>\n",
       "      <th>Malic_Acid</th>\n",
       "      <th>Ash</th>\n",
       "      <th>Ash_Alcanity</th>\n",
       "      <th>Magnesium</th>\n",
       "      <th>Total_Phenols</th>\n",
       "      <th>Flavanoids</th>\n",
       "      <th>Nonflavanoid_Phenols</th>\n",
       "      <th>Proanthocyanins</th>\n",
       "      <th>Color_Intensity</th>\n",
       "      <th>Hue</th>\n",
       "      <th>OD280</th>\n",
       "      <th>Proline</th>\n",
       "    </tr>\n",
       "  </thead>\n",
       "  <tbody>\n",
       "    <tr>\n",
       "      <th>0</th>\n",
       "      <td>14.23</td>\n",
       "      <td>1.71</td>\n",
       "      <td>2.43</td>\n",
       "      <td>15.6</td>\n",
       "      <td>127</td>\n",
       "      <td>2.80</td>\n",
       "      <td>3.06</td>\n",
       "      <td>0.28</td>\n",
       "      <td>2.29</td>\n",
       "      <td>5.64</td>\n",
       "      <td>1.04</td>\n",
       "      <td>3.92</td>\n",
       "      <td>1065</td>\n",
       "    </tr>\n",
       "    <tr>\n",
       "      <th>1</th>\n",
       "      <td>13.20</td>\n",
       "      <td>1.78</td>\n",
       "      <td>2.14</td>\n",
       "      <td>11.2</td>\n",
       "      <td>100</td>\n",
       "      <td>2.65</td>\n",
       "      <td>2.76</td>\n",
       "      <td>0.26</td>\n",
       "      <td>1.28</td>\n",
       "      <td>4.38</td>\n",
       "      <td>1.05</td>\n",
       "      <td>3.40</td>\n",
       "      <td>1050</td>\n",
       "    </tr>\n",
       "    <tr>\n",
       "      <th>2</th>\n",
       "      <td>13.16</td>\n",
       "      <td>2.36</td>\n",
       "      <td>2.67</td>\n",
       "      <td>18.6</td>\n",
       "      <td>101</td>\n",
       "      <td>2.80</td>\n",
       "      <td>3.24</td>\n",
       "      <td>0.30</td>\n",
       "      <td>2.81</td>\n",
       "      <td>5.68</td>\n",
       "      <td>1.03</td>\n",
       "      <td>3.17</td>\n",
       "      <td>1185</td>\n",
       "    </tr>\n",
       "    <tr>\n",
       "      <th>3</th>\n",
       "      <td>14.37</td>\n",
       "      <td>1.95</td>\n",
       "      <td>2.50</td>\n",
       "      <td>16.8</td>\n",
       "      <td>113</td>\n",
       "      <td>3.85</td>\n",
       "      <td>3.49</td>\n",
       "      <td>0.24</td>\n",
       "      <td>2.18</td>\n",
       "      <td>7.80</td>\n",
       "      <td>0.86</td>\n",
       "      <td>3.45</td>\n",
       "      <td>1480</td>\n",
       "    </tr>\n",
       "    <tr>\n",
       "      <th>4</th>\n",
       "      <td>13.24</td>\n",
       "      <td>2.59</td>\n",
       "      <td>2.87</td>\n",
       "      <td>21.0</td>\n",
       "      <td>118</td>\n",
       "      <td>2.80</td>\n",
       "      <td>2.69</td>\n",
       "      <td>0.39</td>\n",
       "      <td>1.82</td>\n",
       "      <td>4.32</td>\n",
       "      <td>1.04</td>\n",
       "      <td>2.93</td>\n",
       "      <td>735</td>\n",
       "    </tr>\n",
       "  </tbody>\n",
       "</table>\n",
       "</div>"
      ],
      "text/plain": [
       "   Alcohol  Malic_Acid   Ash  Ash_Alcanity  Magnesium  Total_Phenols  \\\n",
       "0    14.23        1.71  2.43          15.6        127           2.80   \n",
       "1    13.20        1.78  2.14          11.2        100           2.65   \n",
       "2    13.16        2.36  2.67          18.6        101           2.80   \n",
       "3    14.37        1.95  2.50          16.8        113           3.85   \n",
       "4    13.24        2.59  2.87          21.0        118           2.80   \n",
       "\n",
       "   Flavanoids  Nonflavanoid_Phenols  Proanthocyanins  Color_Intensity   Hue  \\\n",
       "0        3.06                  0.28             2.29             5.64  1.04   \n",
       "1        2.76                  0.26             1.28             4.38  1.05   \n",
       "2        3.24                  0.30             2.81             5.68  1.03   \n",
       "3        3.49                  0.24             2.18             7.80  0.86   \n",
       "4        2.69                  0.39             1.82             4.32  1.04   \n",
       "\n",
       "   OD280  Proline  \n",
       "0   3.92     1065  \n",
       "1   3.40     1050  \n",
       "2   3.17     1185  \n",
       "3   3.45     1480  \n",
       "4   2.93      735  "
      ]
     },
     "execution_count": 120,
     "metadata": {},
     "output_type": "execute_result"
    }
   ],
   "source": [
    "X.head()"
   ]
  },
  {
   "cell_type": "code",
   "execution_count": 121,
   "metadata": {
    "id": "RznZAn3QUiIb",
    "outputId": "99dbb134-fab9-4c7b-c8d0-3454a566a9d8"
   },
   "outputs": [
    {
     "data": {
      "text/html": [
       "<div>\n",
       "<style scoped>\n",
       "    .dataframe tbody tr th:only-of-type {\n",
       "        vertical-align: middle;\n",
       "    }\n",
       "\n",
       "    .dataframe tbody tr th {\n",
       "        vertical-align: top;\n",
       "    }\n",
       "\n",
       "    .dataframe thead th {\n",
       "        text-align: right;\n",
       "    }\n",
       "</style>\n",
       "<table border=\"1\" class=\"dataframe\">\n",
       "  <thead>\n",
       "    <tr style=\"text-align: right;\">\n",
       "      <th></th>\n",
       "      <th>Importance</th>\n",
       "    </tr>\n",
       "  </thead>\n",
       "  <tbody>\n",
       "    <tr>\n",
       "      <th>Nonflavanoid_Phenols</th>\n",
       "      <td>0.012541</td>\n",
       "    </tr>\n",
       "    <tr>\n",
       "      <th>Ash</th>\n",
       "      <td>0.014287</td>\n",
       "    </tr>\n",
       "    <tr>\n",
       "      <th>Magnesium</th>\n",
       "      <td>0.024032</td>\n",
       "    </tr>\n",
       "    <tr>\n",
       "      <th>Proanthocyanins</th>\n",
       "      <td>0.030133</td>\n",
       "    </tr>\n",
       "    <tr>\n",
       "      <th>Malic_Acid</th>\n",
       "      <td>0.033374</td>\n",
       "    </tr>\n",
       "    <tr>\n",
       "      <th>Total_Phenols</th>\n",
       "      <td>0.041823</td>\n",
       "    </tr>\n",
       "    <tr>\n",
       "      <th>Ash_Alcanity</th>\n",
       "      <td>0.045537</td>\n",
       "    </tr>\n",
       "    <tr>\n",
       "      <th>Hue</th>\n",
       "      <td>0.067617</td>\n",
       "    </tr>\n",
       "    <tr>\n",
       "      <th>Alcohol</th>\n",
       "      <td>0.091188</td>\n",
       "    </tr>\n",
       "    <tr>\n",
       "      <th>OD280</th>\n",
       "      <td>0.095902</td>\n",
       "    </tr>\n",
       "    <tr>\n",
       "      <th>Color_Intensity</th>\n",
       "      <td>0.150177</td>\n",
       "    </tr>\n",
       "    <tr>\n",
       "      <th>Flavanoids</th>\n",
       "      <td>0.184291</td>\n",
       "    </tr>\n",
       "    <tr>\n",
       "      <th>Proline</th>\n",
       "      <td>0.209099</td>\n",
       "    </tr>\n",
       "  </tbody>\n",
       "</table>\n",
       "</div>"
      ],
      "text/plain": [
       "                      Importance\n",
       "Nonflavanoid_Phenols    0.012541\n",
       "Ash                     0.014287\n",
       "Magnesium               0.024032\n",
       "Proanthocyanins         0.030133\n",
       "Malic_Acid              0.033374\n",
       "Total_Phenols           0.041823\n",
       "Ash_Alcanity            0.045537\n",
       "Hue                     0.067617\n",
       "Alcohol                 0.091188\n",
       "OD280                   0.095902\n",
       "Color_Intensity         0.150177\n",
       "Flavanoids              0.184291\n",
       "Proline                 0.209099"
      ]
     },
     "execution_count": 121,
     "metadata": {},
     "output_type": "execute_result"
    }
   ],
   "source": [
    "feats = pd.DataFrame(index=X.columns,\n",
    "                     data=classifier.feature_importances_, \n",
    "                     columns=['Importance'])\n",
    "imp_feats = feats.sort_values(\"Importance\")\n",
    "imp_feats"
   ]
  },
  {
   "cell_type": "code",
   "execution_count": 122,
   "metadata": {
    "id": "ku7zphoiUiIc",
    "outputId": "fcc5786e-fe4f-4d7d-dcde-0502292ad59b"
   },
   "outputs": [
    {
     "data": {
      "image/png": "[encoded data removed]",
      "text/plain": [
       "<Figure size 1000x400 with 1 Axes>"
      ]
     },
     "metadata": {},
     "output_type": "display_data"
    }
   ],
   "source": [
    "plt.figure(figsize=(10,4))\n",
    "ax = sns.barplot(data=imp_feats.sort_values('Importance'),\n",
    "                 x=imp_feats.sort_values('Importance').index,\n",
    "                 y='Importance')\n",
    "plt.xticks(rotation=90)\n",
    "ax.bar_label(ax.containers[0], fmt=\"%.2f\");"
   ]
  },
  {
   "cell_type": "markdown",
   "metadata": {
    "id": "9l9jKDFZUiIc"
   },
   "source": [
    "## Remodelling by feature importance"
   ]
  },
  {
   "cell_type": "code",
   "execution_count": 123,
   "metadata": {
    "id": "pWJcv71DUiIc"
   },
   "outputs": [],
   "source": [
    "X2 = df[[\"Proline\", \"Color_Intensity\", \"Flavanoids\"]]\n",
    "\n",
    "# We can do drop complexcity with feature selection as well as by applying feature transformation with PCA."
   ]
  },
  {
   "cell_type": "code",
   "execution_count": 124,
   "metadata": {
    "id": "fUIOSdhnUiIc"
   },
   "outputs": [],
   "source": [
    "X_train2, X_test2, y_train2, y_test2 = train_test_split(X2,\n",
    "                                                        y,\n",
    "                                                        test_size=0.2,\n",
    "                                                        stratify=y,\n",
    "                                                        random_state=0)"
   ]
  },
  {
   "cell_type": "code",
   "execution_count": 125,
   "metadata": {
    "id": "LkizmuFpUiIc",
    "outputId": "2665c0a5-ce6b-467d-981f-5207853af461"
   },
   "outputs": [
    {
     "name": "stdout",
     "output_type": "stream",
     "text": [
      "Test_Set\n",
      "[[ 9  1  0]\n",
      " [ 0 14  0]\n",
      " [ 0  1 11]]\n",
      "              precision    recall  f1-score   support\n",
      "\n",
      "           1       1.00      0.90      0.95        10\n",
      "           2       0.88      1.00      0.93        14\n",
      "           3       1.00      0.92      0.96        12\n",
      "\n",
      "    accuracy                           0.94        36\n",
      "   macro avg       0.96      0.94      0.95        36\n",
      "weighted avg       0.95      0.94      0.94        36\n",
      "\n",
      "\n",
      "Train_Set\n",
      "[[38  0  0]\n",
      " [ 0 57  0]\n",
      " [ 0  0 47]]\n",
      "              precision    recall  f1-score   support\n",
      "\n",
      "           1       1.00      1.00      1.00        38\n",
      "           2       1.00      1.00      1.00        57\n",
      "           3       1.00      1.00      1.00        47\n",
      "\n",
      "    accuracy                           1.00       142\n",
      "   macro avg       1.00      1.00      1.00       142\n",
      "weighted avg       1.00      1.00      1.00       142\n",
      "\n"
     ]
    }
   ],
   "source": [
    "classifier2 = RandomForestClassifier(random_state=0)\n",
    "classifier2.fit(X_train2, y_train2)\n",
    "eval_metric(classifier2, X_train2, y_train2, X_test2, y_test2)"
   ]
  },
  {
   "cell_type": "code",
   "execution_count": 126,
   "metadata": {
    "id": "-jNqOhSBUiId",
    "outputId": "ec0113ef-6e1e-4e37-b2e6-d337cf339dd9"
   },
   "outputs": [
    {
     "data": {
      "text/plain": [
       "test_accuracy            0.992857\n",
       "train_accuracy           1.000000\n",
       "test_precision_micro     0.992857\n",
       "train_precision_micro    1.000000\n",
       "test_recall_micro        0.992857\n",
       "train_recall_micro       1.000000\n",
       "test_f1_micro            0.992857\n",
       "train_f1_micro           1.000000\n",
       "dtype: float64"
      ]
     },
     "execution_count": 126,
     "metadata": {},
     "output_type": "execute_result"
    }
   ],
   "source": [
    "model = RandomForestClassifier(random_state=0)\n",
    "\n",
    "scores = cross_validate(model,\n",
    "                        X_train2,\n",
    "                        y_train2,\n",
    "                        scoring=['accuracy',\n",
    "                                 'precision_micro',\n",
    "                                 'recall_micro',\n",
    "                                 'f1_micro'], \n",
    "                        cv=10,\n",
    "                        return_train_score=True)\n",
    "df_scores = pd.DataFrame(scores, index=range(1, 11))\n",
    "df_scores.mean()[2:]"
   ]
  },
  {
   "cell_type": "markdown",
   "metadata": {
    "id": "_5EJcrc6UiIe"
   },
   "source": [
    "## Remodelling by PCA"
   ]
  },
  {
   "cell_type": "markdown",
   "metadata": {
    "id": "17hXWZT7UiIe"
   },
   "source": [
    "## Scaling Data"
   ]
  },
  {
   "cell_type": "code",
   "execution_count": 127,
   "metadata": {
    "id": "zYo8djxpUiIf"
   },
   "outputs": [],
   "source": [
    "from sklearn.preprocessing import StandardScaler"
   ]
  },
  {
   "cell_type": "code",
   "execution_count": 128,
   "metadata": {
    "id": "WomQyj5wUiIf"
   },
   "outputs": [],
   "source": [
    "scaler = StandardScaler()"
   ]
  },
  {
   "cell_type": "code",
   "execution_count": 129,
   "metadata": {
    "id": "va9u2J2oUiIf"
   },
   "outputs": [],
   "source": [
    "X_train_scaled = scaler.fit_transform(X_train)\n",
    "X_test_scaled = scaler.transform(X_test)"
   ]
  },
  {
   "cell_type": "code",
   "execution_count": 130,
   "metadata": {
    "id": "zh2SLuHWUiIg",
    "outputId": "ea69ca85-17c0-4929-cd8c-b96df65ffdd5"
   },
   "outputs": [
    {
     "data": {
      "image/png": "[encoded data removed]",
      "text/plain": [
       "<Figure size 700x400 with 1 Axes>"
      ]
     },
     "metadata": {},
     "output_type": "display_data"
    }
   ],
   "source": [
    "from sklearn.decomposition import PCA\n",
    "\n",
    "pca = PCA().fit(X_train_scaled)\n",
    "x = range(1,14)\n",
    "plt.plot(x, pca.explained_variance_ratio_.cumsum())\n",
    "plt.xlabel(\"Component count\")\n",
    "plt.ylabel(\"Variance Ratio\");"
   ]
  },
  {
   "cell_type": "code",
   "execution_count": 131,
   "metadata": {
    "id": "vRtkV_BVUiIg"
   },
   "outputs": [],
   "source": [
    "pca = PCA(n_components=13).fit(X_train_scaled)"
   ]
  },
  {
   "cell_type": "code",
   "execution_count": 132,
   "metadata": {
    "id": "oIKC4LkJUiIg"
   },
   "outputs": [],
   "source": [
    "my_dict = {\"explained_variance\": pca.explained_variance_, \n",
    "           \"explained_variance_ratio\": pca.explained_variance_ratio_,\n",
    "           \"cumsum_explained_variance_ratio\": pca.explained_variance_ratio_.cumsum()}"
   ]
  },
  {
   "cell_type": "code",
   "execution_count": 133,
   "metadata": {
    "id": "7OlwstK_UiIh",
    "outputId": "00a021b7-5e3b-4dbe-fe1a-f491fc641032"
   },
   "outputs": [
    {
     "data": {
      "text/html": [
       "<div>\n",
       "<style scoped>\n",
       "    .dataframe tbody tr th:only-of-type {\n",
       "        vertical-align: middle;\n",
       "    }\n",
       "\n",
       "    .dataframe tbody tr th {\n",
       "        vertical-align: top;\n",
       "    }\n",
       "\n",
       "    .dataframe thead th {\n",
       "        text-align: right;\n",
       "    }\n",
       "</style>\n",
       "<table border=\"1\" class=\"dataframe\">\n",
       "  <thead>\n",
       "    <tr style=\"text-align: right;\">\n",
       "      <th></th>\n",
       "      <th>explained_variance</th>\n",
       "      <th>explained_variance_ratio</th>\n",
       "      <th>cumsum_explained_variance_ratio</th>\n",
       "    </tr>\n",
       "  </thead>\n",
       "  <tbody>\n",
       "    <tr>\n",
       "      <th>1</th>\n",
       "      <td>4.900353</td>\n",
       "      <td>0.374296</td>\n",
       "      <td>0.374296</td>\n",
       "    </tr>\n",
       "    <tr>\n",
       "      <th>2</th>\n",
       "      <td>2.425735</td>\n",
       "      <td>0.185281</td>\n",
       "      <td>0.559577</td>\n",
       "    </tr>\n",
       "    <tr>\n",
       "      <th>3</th>\n",
       "      <td>1.418460</td>\n",
       "      <td>0.108344</td>\n",
       "      <td>0.667921</td>\n",
       "    </tr>\n",
       "    <tr>\n",
       "      <th>4</th>\n",
       "      <td>0.895242</td>\n",
       "      <td>0.068380</td>\n",
       "      <td>0.736300</td>\n",
       "    </tr>\n",
       "    <tr>\n",
       "      <th>5</th>\n",
       "      <td>0.815036</td>\n",
       "      <td>0.062254</td>\n",
       "      <td>0.798554</td>\n",
       "    </tr>\n",
       "    <tr>\n",
       "      <th>6</th>\n",
       "      <td>0.724387</td>\n",
       "      <td>0.055330</td>\n",
       "      <td>0.853884</td>\n",
       "    </tr>\n",
       "    <tr>\n",
       "      <th>7</th>\n",
       "      <td>0.512169</td>\n",
       "      <td>0.039120</td>\n",
       "      <td>0.893004</td>\n",
       "    </tr>\n",
       "    <tr>\n",
       "      <th>8</th>\n",
       "      <td>0.366809</td>\n",
       "      <td>0.028017</td>\n",
       "      <td>0.921021</td>\n",
       "    </tr>\n",
       "    <tr>\n",
       "      <th>9</th>\n",
       "      <td>0.298387</td>\n",
       "      <td>0.022791</td>\n",
       "      <td>0.943812</td>\n",
       "    </tr>\n",
       "    <tr>\n",
       "      <th>10</th>\n",
       "      <td>0.260014</td>\n",
       "      <td>0.019860</td>\n",
       "      <td>0.963673</td>\n",
       "    </tr>\n",
       "    <tr>\n",
       "      <th>11</th>\n",
       "      <td>0.219829</td>\n",
       "      <td>0.016791</td>\n",
       "      <td>0.980463</td>\n",
       "    </tr>\n",
       "    <tr>\n",
       "      <th>12</th>\n",
       "      <td>0.155975</td>\n",
       "      <td>0.011914</td>\n",
       "      <td>0.992377</td>\n",
       "    </tr>\n",
       "    <tr>\n",
       "      <th>13</th>\n",
       "      <td>0.099802</td>\n",
       "      <td>0.007623</td>\n",
       "      <td>1.000000</td>\n",
       "    </tr>\n",
       "  </tbody>\n",
       "</table>\n",
       "</div>"
      ],
      "text/plain": [
       "    explained_variance  explained_variance_ratio  \\\n",
       "1             4.900353                  0.374296   \n",
       "2             2.425735                  0.185281   \n",
       "3             1.418460                  0.108344   \n",
       "4             0.895242                  0.068380   \n",
       "5             0.815036                  0.062254   \n",
       "6             0.724387                  0.055330   \n",
       "7             0.512169                  0.039120   \n",
       "8             0.366809                  0.028017   \n",
       "9             0.298387                  0.022791   \n",
       "10            0.260014                  0.019860   \n",
       "11            0.219829                  0.016791   \n",
       "12            0.155975                  0.011914   \n",
       "13            0.099802                  0.007623   \n",
       "\n",
       "    cumsum_explained_variance_ratio  \n",
       "1                          0.374296  \n",
       "2                          0.559577  \n",
       "3                          0.667921  \n",
       "4                          0.736300  \n",
       "5                          0.798554  \n",
       "6                          0.853884  \n",
       "7                          0.893004  \n",
       "8                          0.921021  \n",
       "9                          0.943812  \n",
       "10                         0.963673  \n",
       "11                         0.980463  \n",
       "12                         0.992377  \n",
       "13                         1.000000  "
      ]
     },
     "execution_count": 133,
     "metadata": {},
     "output_type": "execute_result"
    }
   ],
   "source": [
    "df_ev = pd.DataFrame(my_dict, index=range(1,14))\n",
    "df_ev"
   ]
  },
  {
   "cell_type": "code",
   "execution_count": 134,
   "metadata": {
    "id": "LjQP2vYWUiIh",
    "outputId": "397fff44-4406-40f8-fe8f-9d22f107c4ed"
   },
   "outputs": [
    {
     "data": {
      "text/plain": [
       "13.092198581560288"
      ]
     },
     "execution_count": 134,
     "metadata": {},
     "output_type": "execute_result"
    }
   ],
   "source": [
    "df_ev.explained_variance.sum()"
   ]
  },
  {
   "cell_type": "code",
   "execution_count": 135,
   "metadata": {
    "id": "34kaYfKXUiIh"
   },
   "outputs": [],
   "source": [
    "pca = PCA(n_components=3)\n",
    "\n",
    "# Edited as n_components=3 both because we have strong features in our data and because I will be using 3D visuals.\n",
    "\n",
    "# If we write a float value between 0 and 1 against n_components, the PCA algorithm returns\n",
    "# components with information corresponding to the value we entered."
   ]
  },
  {
   "cell_type": "code",
   "execution_count": 136,
   "metadata": {
    "id": "J-Du4emsUiIi"
   },
   "outputs": [],
   "source": [
    "X_train_pca = pca.fit_transform(X_train_scaled)\n",
    "X_test_pca = pca.transform(X_test_scaled)"
   ]
  },
  {
   "cell_type": "code",
   "execution_count": 137,
   "metadata": {
    "id": "0y55FH9jUiIi",
    "outputId": "d4d01298-6b8f-4b22-e69b-471febb81313"
   },
   "outputs": [
    {
     "data": {
      "text/html": [
       "<div>\n",
       "<style scoped>\n",
       "    .dataframe tbody tr th:only-of-type {\n",
       "        vertical-align: middle;\n",
       "    }\n",
       "\n",
       "    .dataframe tbody tr th {\n",
       "        vertical-align: top;\n",
       "    }\n",
       "\n",
       "    .dataframe thead th {\n",
       "        text-align: right;\n",
       "    }\n",
       "</style>\n",
       "<table border=\"1\" class=\"dataframe\">\n",
       "  <thead>\n",
       "    <tr style=\"text-align: right;\">\n",
       "      <th></th>\n",
       "      <th>first_component</th>\n",
       "      <th>second_component</th>\n",
       "      <th>third_component</th>\n",
       "    </tr>\n",
       "  </thead>\n",
       "  <tbody>\n",
       "    <tr>\n",
       "      <th>0</th>\n",
       "      <td>-0.322303</td>\n",
       "      <td>0.499076</td>\n",
       "      <td>1.642651</td>\n",
       "    </tr>\n",
       "    <tr>\n",
       "      <th>1</th>\n",
       "      <td>-2.752398</td>\n",
       "      <td>-0.684364</td>\n",
       "      <td>0.822388</td>\n",
       "    </tr>\n",
       "    <tr>\n",
       "      <th>2</th>\n",
       "      <td>-0.050845</td>\n",
       "      <td>2.055769</td>\n",
       "      <td>0.801012</td>\n",
       "    </tr>\n",
       "    <tr>\n",
       "      <th>3</th>\n",
       "      <td>2.840375</td>\n",
       "      <td>-1.312747</td>\n",
       "      <td>-0.476727</td>\n",
       "    </tr>\n",
       "    <tr>\n",
       "      <th>4</th>\n",
       "      <td>-0.720359</td>\n",
       "      <td>2.705395</td>\n",
       "      <td>-0.760566</td>\n",
       "    </tr>\n",
       "  </tbody>\n",
       "</table>\n",
       "</div>"
      ],
      "text/plain": [
       "   first_component  second_component  third_component\n",
       "0        -0.322303          0.499076         1.642651\n",
       "1        -2.752398         -0.684364         0.822388\n",
       "2        -0.050845          2.055769         0.801012\n",
       "3         2.840375         -1.312747        -0.476727\n",
       "4        -0.720359          2.705395        -0.760566"
      ]
     },
     "execution_count": 137,
     "metadata": {},
     "output_type": "execute_result"
    }
   ],
   "source": [
    "df_pca_train = pd.DataFrame(X_train_pca)\n",
    "df_pca_train = df_pca_train.rename(columns={0: \"first_component\",\n",
    "                                            1: \"second_component\",\n",
    "                                            2: \"third_component\"})\n",
    "df_pca_train.head()\n",
    "\n",
    "# "
   ]
  },
  {
   "cell_type": "code",
   "execution_count": 138,
   "metadata": {
    "id": "okBvHXNZUiIi",
    "outputId": "a18ebd54-3ae9-4fac-e427-f35e14b99564"
   },
   "outputs": [
    {
     "data": {
      "text/html": [
       "<div>\n",
       "<style scoped>\n",
       "    .dataframe tbody tr th:only-of-type {\n",
       "        vertical-align: middle;\n",
       "    }\n",
       "\n",
       "    .dataframe tbody tr th {\n",
       "        vertical-align: top;\n",
       "    }\n",
       "\n",
       "    .dataframe thead th {\n",
       "        text-align: right;\n",
       "    }\n",
       "</style>\n",
       "<table border=\"1\" class=\"dataframe\">\n",
       "  <thead>\n",
       "    <tr style=\"text-align: right;\">\n",
       "      <th></th>\n",
       "      <th>first_component</th>\n",
       "      <th>second_component</th>\n",
       "      <th>third_component</th>\n",
       "    </tr>\n",
       "  </thead>\n",
       "  <tbody>\n",
       "    <tr>\n",
       "      <th>0</th>\n",
       "      <td>-0.489767</td>\n",
       "      <td>2.337936</td>\n",
       "      <td>1.178843</td>\n",
       "    </tr>\n",
       "    <tr>\n",
       "      <th>1</th>\n",
       "      <td>-2.228090</td>\n",
       "      <td>-2.702401</td>\n",
       "      <td>0.584823</td>\n",
       "    </tr>\n",
       "    <tr>\n",
       "      <th>2</th>\n",
       "      <td>-1.218574</td>\n",
       "      <td>0.605429</td>\n",
       "      <td>1.887888</td>\n",
       "    </tr>\n",
       "    <tr>\n",
       "      <th>3</th>\n",
       "      <td>-2.212360</td>\n",
       "      <td>-2.625781</td>\n",
       "      <td>1.584889</td>\n",
       "    </tr>\n",
       "    <tr>\n",
       "      <th>4</th>\n",
       "      <td>-0.535533</td>\n",
       "      <td>1.899966</td>\n",
       "      <td>1.252930</td>\n",
       "    </tr>\n",
       "  </tbody>\n",
       "</table>\n",
       "</div>"
      ],
      "text/plain": [
       "   first_component  second_component  third_component\n",
       "0        -0.489767          2.337936         1.178843\n",
       "1        -2.228090         -2.702401         0.584823\n",
       "2        -1.218574          0.605429         1.887888\n",
       "3        -2.212360         -2.625781         1.584889\n",
       "4        -0.535533          1.899966         1.252930"
      ]
     },
     "execution_count": 138,
     "metadata": {},
     "output_type": "execute_result"
    }
   ],
   "source": [
    "df_pca_test=pd.DataFrame(X_test_pca)\n",
    "df_pca_test = df_pca_test.rename(columns={0: \"first_component\",\n",
    "                                          1: \"second_component\",\n",
    "                                          2: \"third_component\"})\n",
    "df_pca_test.head()"
   ]
  },
  {
   "cell_type": "code",
   "execution_count": 139,
   "metadata": {
    "id": "UfN6TvywUiIj",
    "outputId": "bf22cd19-0159-4cb0-cd6b-ac7510faa56a"
   },
   "outputs": [
    {
     "data": {
      "text/plain": [
       "<seaborn.axisgrid.PairGrid at 0x2a3bda07e20>"
      ]
     },
     "execution_count": 139,
     "metadata": {},
     "output_type": "execute_result"
    },
    {
     "data": {
      "image/png": "[encoded data removed]",
      "text/plain": [
       "<Figure size 750x750 with 12 Axes>"
      ]
     },
     "metadata": {},
     "output_type": "display_data"
    }
   ],
   "source": [
    "sns.pairplot(df_pca_train)"
   ]
  },
  {
   "cell_type": "code",
   "execution_count": 140,
   "metadata": {
    "id": "MXCvjQiyUiIj",
    "outputId": "9c94d250-85d9-4e0e-e422-e4493d56a681"
   },
   "outputs": [
    {
     "data": {
      "text/plain": [
       "<Axes: >"
      ]
     },
     "execution_count": 140,
     "metadata": {},
     "output_type": "execute_result"
    },
    {
     "data": {
      "image/png": "[encoded data removed]",
      "text/plain": [
       "<Figure size 700x400 with 2 Axes>"
      ]
     },
     "metadata": {},
     "output_type": "display_data"
    }
   ],
   "source": [
    "sns.heatmap(df_pca_train.corr(),vmin=-1, vmax=1, annot=True, cmap=\"coolwarm\", fmt=\".5f\")"
   ]
  },
  {
   "cell_type": "markdown",
   "metadata": {
    "id": "ky-BNFFLUiIj"
   },
   "source": [
    "## Modelling after PCA"
   ]
  },
  {
   "cell_type": "code",
   "execution_count": 141,
   "metadata": {
    "id": "hdfnmYGLUiIj",
    "outputId": "e9a8effc-f0d6-47f6-c489-272843e291bd"
   },
   "outputs": [
    {
     "name": "stdout",
     "output_type": "stream",
     "text": [
      "Test_Set\n",
      "[[ 9  0  1]\n",
      " [ 0 13  1]\n",
      " [ 0  1 11]]\n",
      "              precision    recall  f1-score   support\n",
      "\n",
      "           1       1.00      0.90      0.95        10\n",
      "           2       0.93      0.93      0.93        14\n",
      "           3       0.85      0.92      0.88        12\n",
      "\n",
      "    accuracy                           0.92        36\n",
      "   macro avg       0.92      0.92      0.92        36\n",
      "weighted avg       0.92      0.92      0.92        36\n",
      "\n",
      "\n",
      "Train_Set\n",
      "[[38  0  0]\n",
      " [ 1 53  3]\n",
      " [ 0  1 46]]\n",
      "              precision    recall  f1-score   support\n",
      "\n",
      "           1       0.97      1.00      0.99        38\n",
      "           2       0.98      0.93      0.95        57\n",
      "           3       0.94      0.98      0.96        47\n",
      "\n",
      "    accuracy                           0.96       142\n",
      "   macro avg       0.96      0.97      0.97       142\n",
      "weighted avg       0.97      0.96      0.96       142\n",
      "\n"
     ]
    }
   ],
   "source": [
    "classifier3 = RandomForestClassifier(max_depth=2,random_state=0) \n",
    "classifier3.fit(X_train_pca, y_train)\n",
    "eval_metric(classifier3, X_train_pca, y_train, X_test_pca, y_test)\n",
    "\n",
    "# max_dept=2 is just used to add some bias to the train data."
   ]
  },
  {
   "cell_type": "code",
   "execution_count": 142,
   "metadata": {
    "id": "TLqM67VbUiIj"
   },
   "outputs": [],
   "source": [
    "from sklearn.pipeline import Pipeline"
   ]
  },
  {
   "cell_type": "code",
   "execution_count": 143,
   "metadata": {
    "id": "_LZ8lkczUiIj",
    "outputId": "8608a366-dfce-4807-e91e-3f4161e9690d"
   },
   "outputs": [
    {
     "data": {
      "text/plain": [
       "test_accuracy            0.957143\n",
       "train_accuracy           0.969488\n",
       "test_precision_micro     0.957143\n",
       "train_precision_micro    0.969488\n",
       "test_recall_micro        0.957143\n",
       "train_recall_micro       0.969488\n",
       "test_f1_micro            0.957143\n",
       "train_f1_micro           0.969488\n",
       "dtype: float64"
      ]
     },
     "execution_count": 143,
     "metadata": {},
     "output_type": "execute_result"
    }
   ],
   "source": [
    "operations = [(\"scaler\", StandardScaler()), \n",
    "              (\"PCA\",PCA(n_components=3)),\n",
    "              (\"RF\", RandomForestClassifier(max_depth=2, random_state=0))]\n",
    "\n",
    "pipe_model = Pipeline(steps=operations)\n",
    "                                             \n",
    "scores = cross_validate(pipe_model,\n",
    "                        X_train, \n",
    "                        y_train, \n",
    "                        scoring=['accuracy',\n",
    "                                 'precision_micro',\n",
    "                                 'recall_micro',\n",
    "                                 'f1_micro'], \n",
    "                        cv=10,\n",
    "                        return_train_score=True)\n",
    "df_scores = pd.DataFrame(scores, index=range(1, 11))\n",
    "df_scores.mean()[2:] \n",
    "\n",
    "# If the conversion algorithms are not used together with the pipeline, \n",
    "# it may cause data leakege in the CV stage."
   ]
  },
  {
   "cell_type": "markdown",
   "metadata": {
    "id": "pTBD6pcwUiIj"
   },
   "source": [
    "## Visualization of Components"
   ]
  },
  {
   "cell_type": "code",
   "execution_count": 144,
   "metadata": {
    "id": "lyuTzc2jUiIk",
    "outputId": "36af4054-92f5-40ab-d92a-58d19bd3895e"
   },
   "outputs": [
    {
     "data": {
      "application/vnd.plotly.v1+json": {
       "config": {
        "plotlyServerURL": "https://plot.ly"
       },
       "data": [
        {
         "hovertemplate": "x=%{x}<br>y=%{y}<br>z=%{z}<br>color=%{marker.color}<extra></extra>",
         "legendgroup": "",
         "marker": {
          "color": [
           2,
           1,
           2,
           3,
           2,
           1,
           1,
           2,
           3,
           2,
           2,
           2,
           3,
           2,
           2,
           1,
           1,
           3,
           2,
           3,
           1,
           2,
           1,
           2,
           2,
           1,
           1,
           2,
           2,
           2,
           3,
           3,
           3,
           2,
           3,
           3,
           2,
           1,
           2,
           3,
           3,
           3,
           3,
           2,
           3,
           1,
           3,
           1,
           3,
           2,
           2,
           3,
           1,
           1,
           3,
           1,
           2,
           3,
           2,
           1,
           3,
           1,
           1,
           3,
           2,
           2,
           2,
           2,
           2,
           3,
           3,
           2,
           3,
           3,
           3,
           3,
           2,
           1,
           2,
           3,
           3,
           1,
           3,
           1,
           2,
           2,
           2,
           1,
           3,
           1,
           1,
           1,
           1,
           3,
           1,
           2,
           3,
           1,
           2,
           2,
           2,
           2,
           2,
           1,
           3,
           2,
           1,
           2,
           2,
           3,
           2,
           2,
           3,
           1,
           2,
           3,
           2,
           1,
           3,
           2,
           2,
           1,
           2,
           2,
           1,
           2,
           2,
           1,
           1,
           2,
           3,
           3,
           2,
           3,
           3,
           3,
           1,
           3,
           1,
           2,
           3,
           3
          ],
          "coloraxis": "coloraxis",
          "symbol": "circle"
         },
         "mode": "markers",
         "name": "",
         "scene": "scene",
         "showlegend": false,
         "type": "scatter3d",
         "x": [
          -0.3223033620068909,
          -2.752398224281548,
          -0.05084480923624868,
          2.8403753243309056,
          -0.7203593725563617,
          -3.11882654316108,
          -3.6426379191532368,
          -0.5125147098786509,
          2.1371469852306757,
          -1.796781357370718,
          -1.1202697501652485,
          -0.6170013860888631,
          2.5123914662347753,
          2.1764299711176998,
          -1.5690122149753818,
          -0.9209101283356078,
          -2.8717970860525477,
          3.5581668503643273,
          -0.5011489153693656,
          3.139542191902062,
          -3.160619315996707,
          -0.275979014569025,
          -2.8577655140589964,
          0.8067425635030683,
          -1.8343092903557239,
          -2.349181585117071,
          -2.5122171851017803,
          -0.5466793857246062,
          -1.825979113601459,
          -1.366682420448327,
          2.1529240075748164,
          1.2589167458795671,
          3.253272236091849,
          0.48026935595786047,
          2.9511424102420696,
          2.1925959392366305,
          -0.7737260492007385,
          -3.4846716452474307,
          -0.7141360142131202,
          2.323109996511641,
          4.399555016903066,
          3.212911193355875,
          1.79363664373841,
          -1.6231245253572548,
          1.4819245173320996,
          -2.7565527255373192,
          2.252686434666455,
          -3.8800744478249194,
          2.0097209978736172,
          -0.7773541472716194,
          -0.8390076126021474,
          2.6725159203005227,
          -1.5313359854393511,
          -2.6669453644744485,
          2.539555623440294,
          -2.8589607628751517,
          -1.953644896662284,
          2.807509207050914,
          0.7381993256923108,
          -2.911640498666573,
          2.6624610332237126,
          -2.293886373832086,
          -4.285507082179968,
          2.2439037634650996,
          -0.3893927282041732,
          -0.021563556628569326,
          -1.521103644918123,
          1.8676054423892312,
          1.6907301419672869,
          1.6951158400337387,
          1.1324853403807962,
          1.609288614157884,
          1.1631278173182473,
          2.299383092982816,
          2.778035513350823,
          2.0941481499691523,
          0.9615137632219878,
          -2.7159810494799492,
          -2.5015189770578417,
          2.0685401736230498,
          2.283242087095002,
          -3.5544871702710243,
          1.8203187887464247,
          -1.6623447023621851,
          1.044014072476542,
          -2.542073938158352,
          1.435524798251047,
          -2.1297813711832414,
          2.586389016475549,
          -3.55523437222914,
          -2.8420723557127245,
          -3.035710077749673,
          -3.8890586888861405,
          3.474698848464038,
          -2.2439619473507797,
          -0.5798731584233728,
          2.6062019743279783,
          -2.0258511632320553,
          1.4301604549070621,
          2.2001777503728834,
          -0.1598979736186563,
          -0.1524468030246851,
          -0.46152032322568765,
          -3.3049182706120925,
          3.1118662735789027,
          0.4074147629153336,
          -3.1400030976428837,
          -1.3931813760110257,
          0.1467053354494618,
          0.6638410623834377,
          1.4412868443965121,
          0.828824538151245,
          2.1992991495114804,
          -2.3834611697993533,
          2.022026906159758,
          2.348496476407141,
          2.2185116597899097,
          -2.1336146367846287,
          1.5265853998283303,
          0.8764362695355845,
          -1.1220753855411407,
          -2.570280754786814,
          -1.5348828019005099,
          2.7677608458364067,
          -2.3871112744948415,
          0.733974386224282,
          0.03841319261129825,
          -3.3118857602998792,
          -2.0755735263996864,
          0.053114273208646264,
          2.22689336645641,
          2.44324080142459,
          -1.4878437133598432,
          2.8515981753372968,
          1.2103278366206893,
          3.6448224554197908,
          -3.0841176437743054,
          1.1841680466184545,
          -2.228674309427744,
          0.37058430186134345,
          2.767049363855167,
          1.8167353322276452
         ],
         "y": [
          0.49907553597458265,
          -0.6843644083215548,
          2.055769256971013,
          -1.3127468065853005,
          2.7053946760545533,
          -2.9172591229332827,
          -1.093543121282179,
          0.7963703558913602,
          0.20939406987438133,
          1.70925005106995,
          0.7801039409690858,
          2.652750749656574,
          -1.1258919689198352,
          1.960521953504837,
          1.210953964301131,
          -3.580694362699035,
          -1.702222405854905,
          -1.5808021008809652,
          2.038582059663549,
          -2.085436379189781,
          0.12486481560862556,
          2.91652927645283,
          -0.3163371889073181,
          2.4574874065675796,
          1.1484966907558787,
          -0.5680603226393951,
          -0.7754531621912829,
          2.3344307044356074,
          0.6435297825566949,
          2.0355888338322057,
          -0.6847735510386324,
          0.1179765440168516,
          -0.6158147547856756,
          3.857278619737729,
          -0.6747604611349491,
          -0.961795303236409,
          2.216979992402235,
          -0.9903243040185383,
          1.093674576420275,
          -2.2535636588077606,
          -2.019742704700426,
          -1.6456712117019363,
          -0.711696926124548,
          1.3506671196030335,
          -0.7179486491018394,
          -1.6920420840619943,
          -0.9034893969594576,
          -0.7772788581622889,
          -1.6191117118001541,
          0.05799524131379113,
          2.3858138999839444,
          -0.6522112514900658,
          -2.5432719329348483,
          -0.5090193679551995,
          -0.8719433992814118,
          -1.465034155782276,
          1.4781120021429266,
          -1.6987042185411725,
          3.3939974567098874,
          -0.6318487375963845,
          -1.6383027169123472,
          -0.435432682977884,
          -0.7808959681344619,
          -1.2290610172568526,
          2.1873676692239803,
          1.3194004644422517,
          1.1358115236186597,
          1.4173730586227236,
          1.0381448999107983,
          -0.011009468274362619,
          -0.8125328204659642,
          1.5764529348433334,
          -0.8654637945294982,
          -0.09683381712572667,
          -1.380912094123055,
          -1.1593952543278323,
          0.7427578695960365,
          -0.4361425465140617,
          1.1564417863693999,
          -1.6279475746339307,
          -0.6597198207598031,
          -1.4286387580498585,
          -0.5985057639199076,
          -1.5205397231581819,
          1.505797638817689,
          0.023849361171869296,
          -0.14968248329884346,
          -2.3480845137168997,
          0.19620178387836176,
          -1.9108607424403037,
          -2.0561354139512336,
          -0.5566293880219234,
          -0.31773157216648723,
          -1.1249418848284423,
          -0.47699979079254784,
          2.3311856411424103,
          -1.151744459774201,
          -2.1380440098666815,
          0.9645262983394238,
          1.5059427274846517,
          2.160045458155849,
          1.2252356647794103,
          2.1957006906942826,
          -2.347814689822843,
          -1.0859561185178774,
          1.1389883718418699,
          -0.9004693275095057,
          1.3693684181951835,
          2.4217370297168337,
          -0.08759940883201016,
          1.76558618671902,
          2.0604226990134906,
          -1.549063219064666,
          0.2586633504506602,
          1.9780781171399218,
          -1.8812890132568543,
          1.7277022591754072,
          -1.3213945198121422,
          0.7834993217001802,
          1.5722781059387525,
          1.752205940852202,
          -0.5546252305260341,
          1.8032195707562364,
          0.04648812384479221,
          -2.3629336073978933,
          1.506966551041886,
          1.2149132126070237,
          -1.4458205911533806,
          -1.190599552203896,
          2.411238200884789,
          0.3362243023233385,
          -1.7024393829719409,
          0.8992633735551524,
          -0.5148434814683776,
          -1.695346723993718,
          -2.5201367590546955,
          -0.5103372641794381,
          -0.13522030335425994,
          -2.383629543272941,
          2.182868919045694,
          -1.0547515529876776,
          0.39577925665756414
         ],
         "z": [
          1.642650539879368,
          0.822387902901493,
          0.8010123479271567,
          -0.4767273083333563,
          -0.760566481838262,
          1.0777740071453112,
          -1.254777030723836,
          0.3702578461014318,
          -0.5788925807151349,
          0.837162213189463,
          2.9656845035230153,
          0.6492746805556328,
          -1.0907757767687039,
          -2.07331292958589,
          3.333272150728826,
          1.4011494688498198,
          -0.9026742833276907,
          -0.5031657452358274,
          1.3244535028019573,
          -0.6272652280504639,
          -0.7690338432087119,
          -0.3318268558504269,
          0.01904728566498152,
          -1.6196631566657398,
          0.6262723451880754,
          -0.3638151289161794,
          -0.7805582193532353,
          -1.5115047045107166,
          -1.5246012973532903,
          -0.1509950894649205,
          -1.006229267835771,
          -1.4701959696113827,
          -0.20419763520582224,
          1.1425068333875503,
          -0.10420832221194862,
          -0.09656654551964668,
          0.7126984652798999,
          -0.51391109286612,
          0.0771579878686992,
          0.9145365879882149,
          -1.329326273884477,
          -0.19284690799475623,
          -0.19710203512840757,
          0.26062693550470667,
          0.4853943617813235,
          -0.3789547230545616,
          -0.8298233948766283,
          1.6210044711751028,
          0.8469133054717736,
          -0.6533974323665077,
          -1.5436023504327263,
          0.015408139462894337,
          0.7237948995665014,
          -0.9694620895314878,
          -1.801400283007717,
          -1.186381159731673,
          -0.15959126343497643,
          -0.6361041124094925,
          -0.4206942680229508,
          0.920504393647034,
          -0.21348268769081286,
          -0.5471032768555134,
          -1.5067699740254634,
          0.205521097964766,
          -0.579370794171038,
          0.7428562170209848,
          -0.9282871892702306,
          0.5455555793880253,
          1.8954701018215199,
          -0.2261067708635549,
          2.104118461145503,
          1.8075043941761697,
          3.8887601143309753,
          -1.1497793703217143,
          -0.33674728336507964,
          -0.03463941307816694,
          0.6134382012442299,
          0.5879310728416514,
          -1.9746839495048985,
          1.2175267866823645,
          1.3327017518669344,
          -0.14808356871083492,
          -1.2801208783683795,
          1.753808777785082,
          -0.45107148219840043,
          0.37307499321579496,
          5.450999182426242,
          0.8194821756079028,
          -0.41223216411527575,
          -0.11874132700657855,
          -0.7224554433288985,
          -1.0799020908278671,
          0.12895603787887167,
          -1.33660668097611,
          -0.9969155894880548,
          -0.46217643829808974,
          0.666276916120257,
          0.9309249758127596,
          -0.8461517575666921,
          -0.2073412235789759,
          0.3775490240383958,
          1.0206021168591533,
          1.0732502948437646,
          -0.4034195151478325,
          -0.3196015891785768,
          1.7055303551727918,
          -0.056118711727584356,
          -0.17159303116776764,
          -1.1819946710681597,
          -0.9253323405313474,
          0.32211716396304324,
          -0.23765818137582148,
          0.13835617191816416,
          -1.0737011909829266,
          0.013282080430029226,
          0.31949745919057565,
          -0.8434788469690645,
          -0.07405308452883515,
          -1.4776799581308193,
          0.7431606013130075,
          0.8324842866057482,
          -0.7733482086167187,
          0.7320034155706192,
          3.5719851333061303,
          -0.8189468726257305,
          1.1312271217152678,
          -1.8162722492959522,
          1.620832809287747,
          -1.0903497290755522,
          -0.38780463459305736,
          -2.100815155702493,
          0.18496535741670436,
          -0.5290778805273588,
          -1.106745743211407,
          -0.023736004755167555,
          -0.5567388823483264,
          -1.1017422330040165,
          -0.08092043076345908,
          -0.30326952391367556,
          -0.5800360001274498,
          -0.6312833070986673,
          0.7959427125564316
         ]
        }
       ],
       "layout": {
        "coloraxis": {
         "colorbar": {
          "title": {
           "text": "color"
          }
         },
         "colorscale": [
          [
           0,
           "#0d0887"
          ],
          [
           0.1111111111111111,
           "#46039f"
          ],
          [
           0.2222222222222222,
           "#7201a8"
          ],
          [
           0.3333333333333333,
           "#9c179e"
          ],
          [
           0.4444444444444444,
           "#bd3786"
          ],
          [
           0.5555555555555556,
           "#d8576b"
          ],
          [
           0.6666666666666666,
           "#ed7953"
          ],
          [
           0.7777777777777778,
           "#fb9f3a"
          ],
          [
           0.8888888888888888,
           "#fdca26"
          ],
          [
           1,
           "#f0f921"
          ]
         ]
        },
        "legend": {
         "tracegroupgap": 0
        },
        "margin": {
         "t": 60
        },
        "scene": {
         "domain": {
          "x": [
           0,
           1
          ],
          "y": [
           0,
           1
          ]
         },
         "xaxis": {
          "title": {
           "text": "x"
          }
         },
         "yaxis": {
          "title": {
           "text": "y"
          }
         },
         "zaxis": {
          "title": {
           "text": "z"
          }
         }
        },
        "template": {
         "data": {
          "bar": [
           {
            "error_x": {
             "color": "#2a3f5f"
            },
            "error_y": {
             "color": "#2a3f5f"
            },
            "marker": {
             "line": {
              "color": "#E5ECF6",
              "width": 0.5
             },
             "pattern": {
              "fillmode": "overlay",
              "size": 10,
              "solidity": 0.2
             }
            },
            "type": "bar"
           }
          ],
          "barpolar": [
           {
            "marker": {
             "line": {
              "color": "#E5ECF6",
              "width": 0.5
             },
             "pattern": {
              "fillmode": "overlay",
              "size": 10,
              "solidity": 0.2
             }
            },
            "type": "barpolar"
           }
          ],
          "carpet": [
           {
            "aaxis": {
             "endlinecolor": "#2a3f5f",
             "gridcolor": "white",
             "linecolor": "white",
             "minorgridcolor": "white",
             "startlinecolor": "#2a3f5f"
            },
            "baxis": {
             "endlinecolor": "#2a3f5f",
             "gridcolor": "white",
             "linecolor": "white",
             "minorgridcolor": "white",
             "startlinecolor": "#2a3f5f"
            },
            "type": "carpet"
           }
          ],
          "choropleth": [
           {
            "colorbar": {
             "outlinewidth": 0,
             "ticks": ""
            },
            "type": "choropleth"
           }
          ],
          "contour": [
           {
            "colorbar": {
             "outlinewidth": 0,
             "ticks": ""
            },
            "colorscale": [
             [
              0,
              "#0d0887"
             ],
             [
              0.1111111111111111,
              "#46039f"
             ],
             [
              0.2222222222222222,
              "#7201a8"
             ],
             [
              0.3333333333333333,
              "#9c179e"
             ],
             [
              0.4444444444444444,
              "#bd3786"
             ],
             [
              0.5555555555555556,
              "#d8576b"
             ],
             [
              0.6666666666666666,
              "#ed7953"
             ],
             [
              0.7777777777777778,
              "#fb9f3a"
             ],
             [
              0.8888888888888888,
              "#fdca26"
             ],
             [
              1,
              "#f0f921"
             ]
            ],
            "type": "contour"
           }
          ],
          "contourcarpet": [
           {
            "colorbar": {
             "outlinewidth": 0,
             "ticks": ""
            },
            "type": "contourcarpet"
           }
          ],
          "heatmap": [
           {
            "colorbar": {
             "outlinewidth": 0,
             "ticks": ""
            },
            "colorscale": [
             [
              0,
              "#0d0887"
             ],
             [
              0.1111111111111111,
              "#46039f"
             ],
             [
              0.2222222222222222,
              "#7201a8"
             ],
             [
              0.3333333333333333,
              "#9c179e"
             ],
             [
              0.4444444444444444,
              "#bd3786"
             ],
             [
              0.5555555555555556,
              "#d8576b"
             ],
             [
              0.6666666666666666,
              "#ed7953"
             ],
             [
              0.7777777777777778,
              "#fb9f3a"
             ],
             [
              0.8888888888888888,
              "#fdca26"
             ],
             [
              1,
              "#f0f921"
             ]
            ],
            "type": "heatmap"
           }
          ],
          "heatmapgl": [
           {
            "colorbar": {
             "outlinewidth": 0,
             "ticks": ""
            },
            "colorscale": [
             [
              0,
              "#0d0887"
             ],
             [
              0.1111111111111111,
              "#46039f"
             ],
             [
              0.2222222222222222,
              "#7201a8"
             ],
             [
              0.3333333333333333,
              "#9c179e"
             ],
             [
              0.4444444444444444,
              "#bd3786"
             ],
             [
              0.5555555555555556,
              "#d8576b"
             ],
             [
              0.6666666666666666,
              "#ed7953"
             ],
             [
              0.7777777777777778,
              "#fb9f3a"
             ],
             [
              0.8888888888888888,
              "#fdca26"
             ],
             [
              1,
              "#f0f921"
             ]
            ],
            "type": "heatmapgl"
           }
          ],
          "histogram": [
           {
            "marker": {
             "pattern": {
              "fillmode": "overlay",
              "size": 10,
              "solidity": 0.2
             }
            },
            "type": "histogram"
           }
          ],
          "histogram2d": [
           {
            "colorbar": {
             "outlinewidth": 0,
             "ticks": ""
            },
            "colorscale": [
             [
              0,
              "#0d0887"
             ],
             [
              0.1111111111111111,
              "#46039f"
             ],
             [
              0.2222222222222222,
              "#7201a8"
             ],
             [
              0.3333333333333333,
              "#9c179e"
             ],
             [
              0.4444444444444444,
              "#bd3786"
             ],
             [
              0.5555555555555556,
              "#d8576b"
             ],
             [
              0.6666666666666666,
              "#ed7953"
             ],
             [
              0.7777777777777778,
              "#fb9f3a"
             ],
             [
              0.8888888888888888,
              "#fdca26"
             ],
             [
              1,
              "#f0f921"
             ]
            ],
            "type": "histogram2d"
           }
          ],
          "histogram2dcontour": [
           {
            "colorbar": {
             "outlinewidth": 0,
             "ticks": ""
            },
            "colorscale": [
             [
              0,
              "#0d0887"
             ],
             [
              0.1111111111111111,
              "#46039f"
             ],
             [
              0.2222222222222222,
              "#7201a8"
             ],
             [
              0.3333333333333333,
              "#9c179e"
             ],
             [
              0.4444444444444444,
              "#bd3786"
             ],
             [
              0.5555555555555556,
              "#d8576b"
             ],
             [
              0.6666666666666666,
              "#ed7953"
             ],
             [
              0.7777777777777778,
              "#fb9f3a"
             ],
             [
              0.8888888888888888,
              "#fdca26"
             ],
             [
              1,
              "#f0f921"
             ]
            ],
            "type": "histogram2dcontour"
           }
          ],
          "mesh3d": [
           {
            "colorbar": {
             "outlinewidth": 0,
             "ticks": ""
            },
            "type": "mesh3d"
           }
          ],
          "parcoords": [
           {
            "line": {
             "colorbar": {
              "outlinewidth": 0,
              "ticks": ""
             }
            },
            "type": "parcoords"
           }
          ],
          "pie": [
           {
            "automargin": true,
            "type": "pie"
           }
          ],
          "scatter": [
           {
            "fillpattern": {
             "fillmode": "overlay",
             "size": 10,
             "solidity": 0.2
            },
            "type": "scatter"
           }
          ],
          "scatter3d": [
           {
            "line": {
             "colorbar": {
              "outlinewidth": 0,
              "ticks": ""
             }
            },
            "marker": {
             "colorbar": {
              "outlinewidth": 0,
              "ticks": ""
             }
            },
            "type": "scatter3d"
           }
          ],
          "scattercarpet": [
           {
            "marker": {
             "colorbar": {
              "outlinewidth": 0,
              "ticks": ""
             }
            },
            "type": "scattercarpet"
           }
          ],
          "scattergeo": [
           {
            "marker": {
             "colorbar": {
              "outlinewidth": 0,
              "ticks": ""
             }
            },
            "type": "scattergeo"
           }
          ],
          "scattergl": [
           {
            "marker": {
             "colorbar": {
              "outlinewidth": 0,
              "ticks": ""
             }
            },
            "type": "scattergl"
           }
          ],
          "scattermapbox": [
           {
            "marker": {
             "colorbar": {
              "outlinewidth": 0,
              "ticks": ""
             }
            },
            "type": "scattermapbox"
           }
          ],
          "scatterpolar": [
           {
            "marker": {
             "colorbar": {
              "outlinewidth": 0,
              "ticks": ""
             }
            },
            "type": "scatterpolar"
           }
          ],
          "scatterpolargl": [
           {
            "marker": {
             "colorbar": {
              "outlinewidth": 0,
              "ticks": ""
             }
            },
            "type": "scatterpolargl"
           }
          ],
          "scatterternary": [
           {
            "marker": {
             "colorbar": {
              "outlinewidth": 0,
              "ticks": ""
             }
            },
            "type": "scatterternary"
           }
          ],
          "surface": [
           {
            "colorbar": {
             "outlinewidth": 0,
             "ticks": ""
            },
            "colorscale": [
             [
              0,
              "#0d0887"
             ],
             [
              0.1111111111111111,
              "#46039f"
             ],
             [
              0.2222222222222222,
              "#7201a8"
             ],
             [
              0.3333333333333333,
              "#9c179e"
             ],
             [
              0.4444444444444444,
              "#bd3786"
             ],
             [
              0.5555555555555556,
              "#d8576b"
             ],
             [
              0.6666666666666666,
              "#ed7953"
             ],
             [
              0.7777777777777778,
              "#fb9f3a"
             ],
             [
              0.8888888888888888,
              "#fdca26"
             ],
             [
              1,
              "#f0f921"
             ]
            ],
            "type": "surface"
           }
          ],
          "table": [
           {
            "cells": {
             "fill": {
              "color": "#EBF0F8"
             },
             "line": {
              "color": "white"
             }
            },
            "header": {
             "fill": {
              "color": "#C8D4E3"
             },
             "line": {
              "color": "white"
             }
            },
            "type": "table"
           }
          ]
         },
         "layout": {
          "annotationdefaults": {
           "arrowcolor": "#2a3f5f",
           "arrowhead": 0,
           "arrowwidth": 1
          },
          "autotypenumbers": "strict",
          "coloraxis": {
           "colorbar": {
            "outlinewidth": 0,
            "ticks": ""
           }
          },
          "colorscale": {
           "diverging": [
            [
             0,
             "#8e0152"
            ],
            [
             0.1,
             "#c51b7d"
            ],
            [
             0.2,
             "#de77ae"
            ],
            [
             0.3,
             "#f1b6da"
            ],
            [
             0.4,
             "#fde0ef"
            ],
            [
             0.5,
             "#f7f7f7"
            ],
            [
             0.6,
             "#e6f5d0"
            ],
            [
             0.7,
             "#b8e186"
            ],
            [
             0.8,
             "#7fbc41"
            ],
            [
             0.9,
             "#4d9221"
            ],
            [
             1,
             "#276419"
            ]
           ],
           "sequential": [
            [
             0,
             "#0d0887"
            ],
            [
             0.1111111111111111,
             "#46039f"
            ],
            [
             0.2222222222222222,
             "#7201a8"
            ],
            [
             0.3333333333333333,
             "#9c179e"
            ],
            [
             0.4444444444444444,
             "#bd3786"
            ],
            [
             0.5555555555555556,
             "#d8576b"
            ],
            [
             0.6666666666666666,
             "#ed7953"
            ],
            [
             0.7777777777777778,
             "#fb9f3a"
            ],
            [
             0.8888888888888888,
             "#fdca26"
            ],
            [
             1,
             "#f0f921"
            ]
           ],
           "sequentialminus": [
            [
             0,
             "#0d0887"
            ],
            [
             0.1111111111111111,
             "#46039f"
            ],
            [
             0.2222222222222222,
             "#7201a8"
            ],
            [
             0.3333333333333333,
             "#9c179e"
            ],
            [
             0.4444444444444444,
             "#bd3786"
            ],
            [
             0.5555555555555556,
             "#d8576b"
            ],
            [
             0.6666666666666666,
             "#ed7953"
            ],
            [
             0.7777777777777778,
             "#fb9f3a"
            ],
            [
             0.8888888888888888,
             "#fdca26"
            ],
            [
             1,
             "#f0f921"
            ]
           ]
          },
          "colorway": [
           "#636efa",
           "#EF553B",
           "#00cc96",
           "#ab63fa",
           "#FFA15A",
           "#19d3f3",
           "#FF6692",
           "#B6E880",
           "#FF97FF",
           "#FECB52"
          ],
          "font": {
           "color": "#2a3f5f"
          },
          "geo": {
           "bgcolor": "white",
           "lakecolor": "white",
           "landcolor": "#E5ECF6",
           "showlakes": true,
           "showland": true,
           "subunitcolor": "white"
          },
          "hoverlabel": {
           "align": "left"
          },
          "hovermode": "closest",
          "mapbox": {
           "style": "light"
          },
          "paper_bgcolor": "white",
          "plot_bgcolor": "#E5ECF6",
          "polar": {
           "angularaxis": {
            "gridcolor": "white",
            "linecolor": "white",
            "ticks": ""
           },
           "bgcolor": "#E5ECF6",
           "radialaxis": {
            "gridcolor": "white",
            "linecolor": "white",
            "ticks": ""
           }
          },
          "scene": {
           "xaxis": {
            "backgroundcolor": "#E5ECF6",
            "gridcolor": "white",
            "gridwidth": 2,
            "linecolor": "white",
            "showbackground": true,
            "ticks": "",
            "zerolinecolor": "white"
           },
           "yaxis": {
            "backgroundcolor": "#E5ECF6",
            "gridcolor": "white",
            "gridwidth": 2,
            "linecolor": "white",
            "showbackground": true,
            "ticks": "",
            "zerolinecolor": "white"
           },
           "zaxis": {
            "backgroundcolor": "#E5ECF6",
            "gridcolor": "white",
            "gridwidth": 2,
            "linecolor": "white",
            "showbackground": true,
            "ticks": "",
            "zerolinecolor": "white"
           }
          },
          "shapedefaults": {
           "line": {
            "color": "#2a3f5f"
           }
          },
          "ternary": {
           "aaxis": {
            "gridcolor": "white",
            "linecolor": "white",
            "ticks": ""
           },
           "baxis": {
            "gridcolor": "white",
            "linecolor": "white",
            "ticks": ""
           },
           "bgcolor": "#E5ECF6",
           "caxis": {
            "gridcolor": "white",
            "linecolor": "white",
            "ticks": ""
           }
          },
          "title": {
           "x": 0.05
          },
          "xaxis": {
           "automargin": true,
           "gridcolor": "white",
           "linecolor": "white",
           "ticks": "",
           "title": {
            "standoff": 15
           },
           "zerolinecolor": "white",
           "zerolinewidth": 2
          },
          "yaxis": {
           "automargin": true,
           "gridcolor": "white",
           "linecolor": "white",
           "ticks": "",
           "title": {
            "standoff": 15
           },
           "zerolinecolor": "white",
           "zerolinewidth": 2
          }
         }
        }
       }
      }
     },
     "metadata": {},
     "output_type": "display_data"
    }
   ],
   "source": [
    "import plotly.express as px\n",
    "fig = px.scatter_3d(x=df_pca_train[\"first_component\"], \n",
    "                    y=df_pca_train[\"second_component\"], \n",
    "                    z=df_pca_train[\"third_component\"], \n",
    "                    color=y_train)\n",
    "fig.show();\n",
    "\n",
    "# The 3D image below is the image containing the most variance of 13 features."
   ]
  },
  {
   "cell_type": "code",
   "execution_count": null,
   "metadata": {},
   "outputs": [],
   "source": []
  }
 ],
 "metadata": {
  "colab": {
   "provenance": []
  },
  "kernelspec": {
   "display_name": "Python 3 (ipykernel)",
   "language": "python",
   "name": "python3"
  },
  "language_info": {
   "codemirror_mode": {
    "name": "ipython",
    "version": 3
   },
   "file_extension": ".py",
   "mimetype": "text/x-python",
   "name": "python",
   "nbconvert_exporter": "python",
   "pygments_lexer": "ipython3",
   "version": "3.11.7"
  },
  "nbTranslate": {
   "displayLangs": [
    "tr",
    "en"
   ],
   "hotkey": "alt-t",
   "langInMainMenu": true,
   "sourceLang": "en",
   "targetLang": "tr",
   "useGoogleTranslate": true
  },
  "toc": {
   "base_numbering": 1,
   "nav_menu": {},
   "number_sections": true,
   "sideBar": true,
   "skip_h1_title": false,
   "title_cell": "Table of Contents",
   "title_sidebar": "Contents",
   "toc_cell": false,
   "toc_position": {},
   "toc_section_display": true,
   "toc_window_display": false
  },
  "varInspector": {
   "cols": {
    "lenName": 16,
    "lenType": 16,
    "lenVar": 40
   },
   "kernels_config": {
    "python": {
     "delete_cmd_postfix": "",
     "delete_cmd_prefix": "del ",
     "library": "var_list.py",
     "varRefreshCmd": "print(var_dic_list())"
    },
    "r": {
     "delete_cmd_postfix": ") ",
     "delete_cmd_prefix": "rm(",
     "library": "var_list.r",
     "varRefreshCmd": "cat(var_dic_list()) "
    }
   },
   "types_to_exclude": [
    "module",
    "function",
    "builtin_function_or_method",
    "instance",
    "_Feature"
   ],
   "window_display": false
  }
 },
 "nbformat": 4,
 "nbformat_minor": 1
}
