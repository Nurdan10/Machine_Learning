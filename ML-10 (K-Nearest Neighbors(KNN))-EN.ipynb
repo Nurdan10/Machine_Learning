{
 "cells": [
  {
   "cell_type": "markdown",
   "id": "passive-costa",
   "metadata": {
    "id": "passive-costa"
   },
   "source": [
    "## K-Nearest Neighbors(KNN)"
   ]
  },
  {
   "cell_type": "code",
   "execution_count": null,
   "id": "prime-second",
   "metadata": {
    "ExecuteTime": {
     "end_time": "2022-12-06T15:00:54.118643Z",
     "start_time": "2022-12-06T15:00:51.903588Z"
    },
    "executionInfo": {
     "elapsed": 569,
     "status": "ok",
     "timestamp": 1696768898450,
     "user": {
      "displayName": "Orion Cloud",
      "userId": "13399699001942214669"
     },
     "user_tz": -180
    },
    "id": "prime-second"
   },
   "outputs": [],
   "source": [
    "import numpy as np\n",
    "import pandas as pd\n",
    "import matplotlib.pyplot as plt\n",
    "import seaborn as sns\n",
    "%matplotlib inline\n",
    "\n",
    "plt.rcParams[\"figure.figsize\"] = (10,6)\n",
    "import warnings\n",
    "warnings.filterwarnings(\"ignore\")\n",
    "warnings.warn(\"this will not show\")"
   ]
  },
  {
   "cell_type": "markdown",
   "id": "hWfTmwK9xaNx",
   "metadata": {
    "id": "hWfTmwK9xaNx"
   },
   "source": [
    "# User defined functions"
   ]
  },
  {
   "cell_type": "code",
   "execution_count": null,
   "id": "QMTH6dfixfDu",
   "metadata": {
    "executionInfo": {
     "elapsed": 1,
     "status": "ok",
     "timestamp": 1696768898989,
     "user": {
      "displayName": "Orion Cloud",
      "userId": "13399699001942214669"
     },
     "user_tz": -180
    },
    "id": "QMTH6dfixfDu"
   },
   "outputs": [],
   "source": [
    "def eval_metric(model, X_train, y_train, X_test, y_test):\n",
    "    y_train_pred = model.predict(X_train)\n",
    "    y_pred = model.predict(X_test)\n",
    "\n",
    "    print(\"Test_Set\")\n",
    "    print(confusion_matrix(y_test, y_pred))\n",
    "    print(classification_report(y_test, y_pred))\n",
    "    print()\n",
    "    print(\"Train_Set\")\n",
    "    print(confusion_matrix(y_train, y_train_pred))\n",
    "    print(classification_report(y_train, y_train_pred))"
   ]
  },
  {
   "cell_type": "markdown",
   "id": "therapeutic-campaign",
   "metadata": {
    "id": "therapeutic-campaign"
   },
   "source": [
    "## Exploratory Data Analysis and Visualization"
   ]
  },
  {
   "cell_type": "code",
   "execution_count": null,
   "id": "decimal-ownership",
   "metadata": {
    "ExecuteTime": {
     "end_time": "2022-12-06T15:00:54.149307Z",
     "start_time": "2022-12-06T15:00:54.119737Z"
    },
    "colab": {
     "base_uri": "https://localhost:8080/",
     "height": 206
    },
    "executionInfo": {
     "elapsed": 416,
     "status": "ok",
     "timestamp": 1696768901423,
     "user": {
      "displayName": "Orion Cloud",
      "userId": "13399699001942214669"
     },
     "user_tz": -180
    },
    "id": "decimal-ownership",
    "outputId": "a03fb898-ca97-4e78-907e-50fdb217f126"
   },
   "outputs": [],
   "source": [
    "df = pd.read_csv('gene_expression.csv')\n",
    "df.head()"
   ]
  },
  {
   "cell_type": "code",
   "execution_count": null,
   "id": "outdoor-fountain",
   "metadata": {
    "ExecuteTime": {
     "end_time": "2022-12-06T15:00:54.180945Z",
     "start_time": "2022-12-06T15:00:54.150303Z"
    },
    "colab": {
     "base_uri": "https://localhost:8080/"
    },
    "executionInfo": {
     "elapsed": 1,
     "status": "ok",
     "timestamp": 1696768903040,
     "user": {
      "displayName": "Orion Cloud",
      "userId": "13399699001942214669"
     },
     "user_tz": -180
    },
    "id": "outdoor-fountain",
    "outputId": "f942e95f-2d19-41df-cd97-8e892c6e6379"
   },
   "outputs": [],
   "source": [
    "df.info()"
   ]
  },
  {
   "cell_type": "code",
   "execution_count": null,
   "id": "informal-tamil",
   "metadata": {
    "ExecuteTime": {
     "end_time": "2022-12-06T15:00:54.212837Z",
     "start_time": "2022-12-06T15:00:54.181944Z"
    },
    "colab": {
     "base_uri": "https://localhost:8080/",
     "height": 300
    },
    "executionInfo": {
     "elapsed": 3,
     "status": "ok",
     "timestamp": 1696768903565,
     "user": {
      "displayName": "Orion Cloud",
      "userId": "13399699001942214669"
     },
     "user_tz": -180
    },
    "id": "informal-tamil",
    "outputId": "d1983661-5ab4-4ad5-8477-f07e82a12def"
   },
   "outputs": [],
   "source": [
    "df.describe()"
   ]
  },
  {
   "cell_type": "code",
   "execution_count": null,
   "id": "worst-looking",
   "metadata": {
    "ExecuteTime": {
     "end_time": "2022-12-06T15:00:54.228838Z",
     "start_time": "2022-12-06T15:00:54.213834Z"
    },
    "colab": {
     "base_uri": "https://localhost:8080/"
    },
    "executionInfo": {
     "elapsed": 398,
     "status": "ok",
     "timestamp": 1696768911504,
     "user": {
      "displayName": "Orion Cloud",
      "userId": "13399699001942214669"
     },
     "user_tz": -180
    },
    "id": "worst-looking",
    "outputId": "07849151-0220-4712-db6a-cd929702524a"
   },
   "outputs": [],
   "source": [
    "df[\"Cancer Present\"].value_counts()"
   ]
  },
  {
   "cell_type": "code",
   "execution_count": null,
   "id": "RVYe3EGVXLXd",
   "metadata": {
    "colab": {
     "base_uri": "https://localhost:8080/",
     "height": 620
    },
    "executionInfo": {
     "elapsed": 2957,
     "status": "ok",
     "timestamp": 1696771444134,
     "user": {
      "displayName": "Orion Cloud",
      "userId": "13399699001942214669"
     },
     "user_tz": -180
    },
    "id": "RVYe3EGVXLXd",
    "outputId": "f6cf3d4d-a309-4718-ecb4-2da574b0e243"
   },
   "outputs": [],
   "source": [
    "fig, ax = plt.subplots()\n",
    "ax.scatter(x='Gene One',y='Gene Two',c='Cancer Present', data=df, cmap=\"coolwarm\")\n",
    "axin = ax.inset_axes([1.1, -0.1, 0.4, 0.4])\n",
    "axin.scatter(x='Gene One',y='Gene Two',c='Cancer Present', data=df, cmap=\"Paired\")\n",
    "axin.set_xlim(3.5, 6)\n",
    "axin.set_ylim(5.5, 8)\n",
    "ax.indicate_inset_zoom(axin, linewidth=2, color=\"black\");\n",
    "axin1 = ax.inset_axes([1.1, 0.7, 0.4, 0.4])\n",
    "axin1.scatter(x='Gene One',y='Gene Two',c='Cancer Present', data=df, cmap=\"Paired\")\n",
    "axin1.set_xlim(6, 8)\n",
    "axin1.set_ylim(3, 5.5)\n",
    "ax.indicate_inset_zoom(axin1, linewidth=2, color=\"black\");\n",
    "\n",
    "\n",
    "# KNN algorithms give much better results on data that are seperated from each other.\n",
    "# On the other hand, it gives bad results with complicated data\n",
    "# For example, this data will make the most mistakes in border-boundary observations,\n",
    "# that is, in places that are intricately connected to each other."
   ]
  },
  {
   "cell_type": "code",
   "execution_count": null,
   "id": "portable-helicopter",
   "metadata": {
    "ExecuteTime": {
     "end_time": "2022-12-06T15:00:55.403758Z",
     "start_time": "2022-12-06T15:00:54.689952Z"
    },
    "colab": {
     "base_uri": "https://localhost:8080/",
     "height": 807
    },
    "executionInfo": {
     "elapsed": 3665,
     "status": "ok",
     "timestamp": 1696754526310,
     "user": {
      "displayName": "Orion Cloud",
      "userId": "13399699001942214669"
     },
     "user_tz": -180
    },
    "id": "portable-helicopter",
    "outputId": "8ea99c02-3ebe-4289-858d-2cc34aae56c1"
   },
   "outputs": [],
   "source": [
    "sns.pairplot(data=df, hue=\"Cancer Present\", height=4, aspect =1);\n",
    "\n",
    "# Gene one feature, the 2 classes seem to be intricately related to each other by almost 50%.\n",
    "# Gene two feature, the 2 class seem to be intricately related to each other by almost %25.\n",
    "# Gene two feature is more succesful seperating classes.\n",
    "\n",
    "# Lets check these insights with Boxplot"
   ]
  },
  {
   "cell_type": "code",
   "execution_count": null,
   "id": "grateful-climate",
   "metadata": {
    "ExecuteTime": {
     "end_time": "2022-12-06T15:00:55.467293Z",
     "start_time": "2022-12-06T15:00:55.404758Z"
    },
    "colab": {
     "base_uri": "https://localhost:8080/",
     "height": 542
    },
    "executionInfo": {
     "elapsed": 4,
     "status": "ok",
     "timestamp": 1696754526310,
     "user": {
      "displayName": "Orion Cloud",
      "userId": "13399699001942214669"
     },
     "user_tz": -180
    },
    "id": "grateful-climate",
    "outputId": "69c28646-5bef-41e2-f150-7656b53f645c"
   },
   "outputs": [],
   "source": [
    "sns.boxplot(x= 'Cancer Present', y = 'Gene One', data=df);\n",
    "\n",
    "# The bigger gene one gets, the greater the risk of getting cancer.\n",
    "# In Gene one 2 classes overlap more compared to Gene two."
   ]
  },
  {
   "cell_type": "code",
   "execution_count": null,
   "id": "useful-difficulty",
   "metadata": {
    "ExecuteTime": {
     "end_time": "2022-12-06T15:00:55.531293Z",
     "start_time": "2022-12-06T15:00:55.468288Z"
    },
    "colab": {
     "base_uri": "https://localhost:8080/",
     "height": 542
    },
    "executionInfo": {
     "elapsed": 464,
     "status": "ok",
     "timestamp": 1696754526771,
     "user": {
      "displayName": "Orion Cloud",
      "userId": "13399699001942214669"
     },
     "user_tz": -180
    },
    "id": "useful-difficulty",
    "outputId": "4b139ee9-8e07-4109-8cd8-995000ced524"
   },
   "outputs": [],
   "source": [
    "sns.boxplot(x= 'Cancer Present', y = 'Gene Two', data=df);\n",
    "\n",
    "# The smaller gene two gets, the greater the risk of getting cancer."
   ]
  },
  {
   "cell_type": "code",
   "execution_count": null,
   "id": "silent-joseph",
   "metadata": {
    "ExecuteTime": {
     "end_time": "2022-12-06T15:00:55.689095Z",
     "start_time": "2022-12-06T15:00:55.532294Z"
    },
    "colab": {
     "base_uri": "https://localhost:8080/",
     "height": 528
    },
    "executionInfo": {
     "elapsed": 544,
     "status": "ok",
     "timestamp": 1696754527314,
     "user": {
      "displayName": "Orion Cloud",
      "userId": "13399699001942214669"
     },
     "user_tz": -180
    },
    "id": "silent-joseph",
    "outputId": "85988e7a-df15-484e-a579-dfdfc72e4c63"
   },
   "outputs": [],
   "source": [
    "sns.heatmap(df.corr(),vmin=-1, vmax=1, annot=True, cmap=\"coolwarm\");\n",
    "\n",
    "# We can see similar insights as we extracted from the boxplots."
   ]
  },
  {
   "cell_type": "code",
   "execution_count": null,
   "id": "funky-kenya",
   "metadata": {
    "id": "funky-kenya"
   },
   "outputs": [],
   "source": []
  },
  {
   "cell_type": "markdown",
   "id": "sorted-calendar",
   "metadata": {
    "id": "sorted-calendar"
   },
   "source": [
    "## Train|Test Split and Scaling Data"
   ]
  },
  {
   "cell_type": "code",
   "execution_count": null,
   "id": "threaded-barrel",
   "metadata": {
    "ExecuteTime": {
     "end_time": "2022-12-06T15:00:55.908246Z",
     "start_time": "2022-12-06T15:00:55.691103Z"
    },
    "id": "threaded-barrel"
   },
   "outputs": [],
   "source": [
    "from sklearn.model_selection import train_test_split"
   ]
  },
  {
   "cell_type": "code",
   "execution_count": null,
   "id": "unknown-prophet",
   "metadata": {
    "ExecuteTime": {
     "end_time": "2022-12-06T15:00:55.924268Z",
     "start_time": "2022-12-06T15:00:55.909236Z"
    },
    "id": "unknown-prophet"
   },
   "outputs": [],
   "source": [
    "X = df.drop('Cancer Present',axis=1)\n",
    "y = df['Cancer Present']"
   ]
  },
  {
   "cell_type": "code",
   "execution_count": null,
   "id": "enclosed-request",
   "metadata": {
    "ExecuteTime": {
     "end_time": "2022-12-06T15:00:55.939943Z",
     "start_time": "2022-12-06T15:00:55.925266Z"
    },
    "id": "enclosed-request"
   },
   "outputs": [],
   "source": [
    "X_train, X_test, y_train, y_test = train_test_split(X, y, test_size=0.3, random_state=42)"
   ]
  },
  {
   "cell_type": "markdown",
   "id": "adapted-table",
   "metadata": {
    "id": "adapted-table"
   },
   "source": [
    "## Modelling"
   ]
  },
  {
   "cell_type": "code",
   "execution_count": null,
   "id": "synthetic-andrews",
   "metadata": {
    "ExecuteTime": {
     "end_time": "2022-12-06T15:00:56.081936Z",
     "start_time": "2022-12-06T15:00:55.940949Z"
    },
    "id": "synthetic-andrews"
   },
   "outputs": [],
   "source": [
    "from sklearn.preprocessing import StandardScaler\n",
    "from sklearn.pipeline import Pipeline\n",
    "from sklearn.neighbors import KNeighborsClassifier\n",
    "from sklearn.dummy import DummyClassifier\n",
    "from sklearn.metrics import confusion_matrix, classification_report, ConfusionMatrixDisplay"
   ]
  },
  {
   "cell_type": "markdown",
   "id": "K-FmMBDCyC6P",
   "metadata": {
    "id": "K-FmMBDCyC6P"
   },
   "source": [
    "### Taking basic scores with Dummy_classifier\n",
    "- DummyClassifier makes predictions that ignore the input features.\n",
    "\n",
    "- This classifier serves as a simple baseline to compare against other more\n",
    "complex classifiers.\n"
   ]
  },
  {
   "cell_type": "code",
   "execution_count": null,
   "id": "xLgtwdm4yN3J",
   "metadata": {
    "id": "xLgtwdm4yN3J"
   },
   "outputs": [],
   "source": [
    "DummyClassifier?"
   ]
  },
  {
   "cell_type": "code",
   "execution_count": null,
   "id": "8SxAuT3Lw3Th",
   "metadata": {
    "colab": {
     "base_uri": "https://localhost:8080/",
     "height": 126
    },
    "executionInfo": {
     "elapsed": 297,
     "status": "ok",
     "timestamp": 1696754527987,
     "user": {
      "displayName": "Orion Cloud",
      "userId": "13399699001942214669"
     },
     "user_tz": -180
    },
    "id": "8SxAuT3Lw3Th",
    "outputId": "751212cd-dbfe-4a54-afec-111d20848c35"
   },
   "outputs": [],
   "source": [
    "operations = [(\"scaler\", StandardScaler()), (\"dummy\", DummyClassifier(strategy=\"stratified\", random_state=42))]\n",
    "\n",
    "dummy_model = Pipeline(steps=operations)\n",
    "\n",
    "dummy_model.fit(X_train, y_train)\n"
   ]
  },
  {
   "cell_type": "code",
   "execution_count": null,
   "id": "1nDiSYqjw3Pq",
   "metadata": {
    "colab": {
     "base_uri": "https://localhost:8080/"
    },
    "executionInfo": {
     "elapsed": 5,
     "status": "ok",
     "timestamp": 1696754527987,
     "user": {
      "displayName": "Orion Cloud",
      "userId": "13399699001942214669"
     },
     "user_tz": -180
    },
    "id": "1nDiSYqjw3Pq",
    "outputId": "da12b693-1206-4d88-fb8a-1efcd4bd9e00"
   },
   "outputs": [],
   "source": [
    "eval_metric(dummy_model, X_train, y_train, X_test, y_test)"
   ]
  },
  {
   "cell_type": "code",
   "execution_count": null,
   "id": "nhCAjaPtw3Bf",
   "metadata": {
    "id": "nhCAjaPtw3Bf"
   },
   "outputs": [],
   "source": [
    "# Now we exemined our basic score for hold out test set and we need to improve accuracy of it."
   ]
  },
  {
   "cell_type": "markdown",
   "id": "jdWEVsKtzped",
   "metadata": {
    "id": "jdWEVsKtzped"
   },
   "source": [
    "### KNN"
   ]
  },
  {
   "cell_type": "code",
   "execution_count": null,
   "id": "0cee3ef3",
   "metadata": {
    "ExecuteTime": {
     "end_time": "2022-12-06T15:00:56.097812Z",
     "start_time": "2022-12-06T15:00:56.082921Z"
    },
    "colab": {
     "base_uri": "https://localhost:8080/",
     "height": 126
    },
    "executionInfo": {
     "elapsed": 3,
     "status": "ok",
     "timestamp": 1696754527987,
     "user": {
      "displayName": "Orion Cloud",
      "userId": "13399699001942214669"
     },
     "user_tz": -180
    },
    "id": "0cee3ef3",
    "outputId": "1ba3c70c-baa3-46e9-b8b4-5e0999f7dfb3"
   },
   "outputs": [],
   "source": [
    "operations = [(\"scaler\", StandardScaler()), (\"knn\", KNeighborsClassifier(n_neighbors=5))]\n",
    "\n",
    "pipe_model = Pipeline(steps=operations)\n",
    "\n",
    "pipe_model.fit(X_train, y_train)\n",
    "\n",
    "# Since KNN is distance-based algortihm we must scale the data\n",
    "# Each classes takes values in between 1-10. We can pass the scaling but it is better to try either way."
   ]
  },
  {
   "cell_type": "code",
   "execution_count": null,
   "id": "sitting-chosen",
   "metadata": {
    "ExecuteTime": {
     "end_time": "2022-12-06T15:00:56.127812Z",
     "start_time": "2022-12-06T15:00:56.098811Z"
    },
    "colab": {
     "base_uri": "https://localhost:8080/"
    },
    "executionInfo": {
     "elapsed": 344,
     "status": "ok",
     "timestamp": 1696754528328,
     "user": {
      "displayName": "Orion Cloud",
      "userId": "13399699001942214669"
     },
     "user_tz": -180
    },
    "id": "sitting-chosen",
    "outputId": "4a6f01dd-bb94-4bfa-d342-03277b89b603"
   },
   "outputs": [],
   "source": [
    "y_pred = pipe_model.predict(X_test)\n",
    "y_pred"
   ]
  },
  {
   "cell_type": "code",
   "execution_count": null,
   "id": "verified-prospect",
   "metadata": {
    "ExecuteTime": {
     "end_time": "2022-12-06T15:00:56.143824Z",
     "start_time": "2022-12-06T15:00:56.128812Z"
    },
    "id": "verified-prospect"
   },
   "outputs": [],
   "source": [
    "y_pred_proba = pipe_model.predict_proba(X_test)\n",
    "\n",
    "# If weights=uniform then all neighbors are equally weighted. If weights=distance closer neighbors get more weight\n",
    "# farther neighbors are less weighted.\n",
    "\n",
    "# According to neighbor count and weights hyperparameters classes are determined."
   ]
  },
  {
   "cell_type": "code",
   "execution_count": null,
   "id": "conceptual-germany",
   "metadata": {
    "ExecuteTime": {
     "end_time": "2022-12-06T15:00:56.159348Z",
     "start_time": "2022-12-06T15:00:56.144820Z"
    },
    "colab": {
     "base_uri": "https://localhost:8080/",
     "height": 424
    },
    "executionInfo": {
     "elapsed": 5,
     "status": "ok",
     "timestamp": 1696754528328,
     "user": {
      "displayName": "Orion Cloud",
      "userId": "13399699001942214669"
     },
     "user_tz": -180
    },
    "id": "conceptual-germany",
    "outputId": "2dcde508-b8d8-4875-8e65-35f2736c52cb"
   },
   "outputs": [],
   "source": [
    "pd.DataFrame(y_pred_proba)\n",
    "\n",
    "# weights= uniform and k=5 so 3 out of 5 neighbors around 895th sample belongs to class 1 (0.6)\n",
    "# 2 out of 5 neighbors around 895th sample belongs to class 0 (0.4). Since it is assigned to class 1"
   ]
  },
  {
   "cell_type": "code",
   "execution_count": null,
   "id": "stuck-nurse",
   "metadata": {
    "ExecuteTime": {
     "end_time": "2022-12-06T15:00:56.191343Z",
     "start_time": "2022-12-06T15:00:56.176343Z"
    },
    "id": "stuck-nurse"
   },
   "outputs": [],
   "source": [
    "my_dict = {\"Actual\": y_test, \"Pred\":y_pred, \"Proba_1\":y_pred_proba[:,1], \"Proba_0\":y_pred_proba[:,0]}"
   ]
  },
  {
   "cell_type": "code",
   "execution_count": null,
   "id": "mediterranean-marking",
   "metadata": {
    "ExecuteTime": {
     "end_time": "2022-12-06T15:00:56.207347Z",
     "start_time": "2022-12-06T15:00:56.192343Z"
    },
    "colab": {
     "base_uri": "https://localhost:8080/",
     "height": 363
    },
    "executionInfo": {
     "elapsed": 4,
     "status": "ok",
     "timestamp": 1696754528328,
     "user": {
      "displayName": "Orion Cloud",
      "userId": "13399699001942214669"
     },
     "user_tz": -180
    },
    "id": "mediterranean-marking",
    "outputId": "dce8185e-436f-464b-fd74-ff0275b9a405"
   },
   "outputs": [],
   "source": [
    "pd.DataFrame.from_dict(my_dict).sample(10)\n",
    "\n",
    "# Real class label, predicted class, probability to belong class 1 and  probability to belong class 0 together."
   ]
  },
  {
   "cell_type": "markdown",
   "id": "ranging-width",
   "metadata": {
    "id": "ranging-width"
   },
   "source": [
    "## Model Performance on Classification Tasks"
   ]
  },
  {
   "cell_type": "code",
   "execution_count": null,
   "id": "heavy-prior",
   "metadata": {
    "ExecuteTime": {
     "end_time": "2022-12-06T15:00:56.239347Z",
     "start_time": "2022-12-06T15:00:56.224343Z"
    },
    "colab": {
     "base_uri": "https://localhost:8080/"
    },
    "executionInfo": {
     "elapsed": 4,
     "status": "ok",
     "timestamp": 1696754528328,
     "user": {
      "displayName": "Orion Cloud",
      "userId": "13399699001942214669"
     },
     "user_tz": -180
    },
    "id": "heavy-prior",
    "outputId": "1529b68b-17fe-491e-a115-479998a1b3cf"
   },
   "outputs": [],
   "source": [
    "confusion_matrix(y_test, y_pred)"
   ]
  },
  {
   "cell_type": "code",
   "execution_count": null,
   "id": "organic-frank",
   "metadata": {
    "ExecuteTime": {
     "end_time": "2022-12-06T15:00:56.349905Z",
     "start_time": "2022-12-06T15:00:56.240342Z"
    },
    "colab": {
     "base_uri": "https://localhost:8080/",
     "height": 559
    },
    "executionInfo": {
     "elapsed": 923,
     "status": "ok",
     "timestamp": 1696754529248,
     "user": {
      "displayName": "Orion Cloud",
      "userId": "13399699001942214669"
     },
     "user_tz": -180
    },
    "id": "organic-frank",
    "outputId": "e5905f4f-9737-4aba-8db4-155c76a636c3"
   },
   "outputs": [],
   "source": [
    "ConfusionMatrixDisplay.from_estimator(pipe_model,X_test, y_test)"
   ]
  },
  {
   "cell_type": "code",
   "execution_count": null,
   "id": "a86f4b78",
   "metadata": {
    "ExecuteTime": {
     "end_time": "2022-12-06T15:00:56.429370Z",
     "start_time": "2022-12-06T15:00:56.366370Z"
    },
    "colab": {
     "base_uri": "https://localhost:8080/"
    },
    "executionInfo": {
     "elapsed": 367,
     "status": "ok",
     "timestamp": 1696754529613,
     "user": {
      "displayName": "Orion Cloud",
      "userId": "13399699001942214669"
     },
     "user_tz": -180
    },
    "id": "a86f4b78",
    "outputId": "8e22303c-b5d5-4c69-e3c0-a034cdde05ee"
   },
   "outputs": [],
   "source": [
    "eval_metric(pipe_model, X_train, y_train, X_test, y_test)"
   ]
  },
  {
   "cell_type": "markdown",
   "id": "popular-technique",
   "metadata": {
    "id": "popular-technique"
   },
   "source": [
    "## Elbow Method for Choosing Reasonable K Values"
   ]
  },
  {
   "cell_type": "code",
   "execution_count": null,
   "id": "sporting-finnish",
   "metadata": {
    "ExecuteTime": {
     "end_time": "2022-12-06T15:00:56.444384Z",
     "start_time": "2022-12-06T15:00:56.430370Z"
    },
    "id": "sporting-finnish"
   },
   "outputs": [],
   "source": [
    "from sklearn.metrics import accuracy_score, f1_score, recall_score, precision_score\n",
    "from sklearn.model_selection import cross_val_score, cross_validate"
   ]
  },
  {
   "cell_type": "code",
   "execution_count": null,
   "id": "3d68f548",
   "metadata": {
    "ExecuteTime": {
     "end_time": "2022-12-06T15:00:58.264096Z",
     "start_time": "2022-12-06T15:00:56.445379Z"
    },
    "id": "3d68f548"
   },
   "outputs": [],
   "source": [
    "test_error_rates = []\n",
    "\n",
    "\n",
    "for k in range(1,30):\n",
    "\n",
    "    operations = [(\"scaler\", StandardScaler()), (\"knn\", KNeighborsClassifier(n_neighbors=k))]\n",
    "\n",
    "    knn_pipe_model = Pipeline(steps=operations)\n",
    "\n",
    "    scores = cross_validate(knn_pipe_model, X_train, y_train, scoring = ['accuracy'], cv = 10)\n",
    "\n",
    "    accuracy_mean = scores[\"test_accuracy\"].mean()\n",
    "\n",
    "    test_error = 1 - accuracy_mean\n",
    "\n",
    "    test_error_rates.append(test_error)\n",
    "\n",
    "# To find Optimal K value if data is blanced use accuracy metric if imbalanced use recall of target class\n",
    "\n",
    "# For each k between 1-30 first find accuracy score than substract this acuuracy score from 1 to find error score(1-acc)\n",
    "\n",
    "# Since optimal K value found using test data (hold out set) can cause data leakage problem\n",
    "# while using train data in CV and we evaluate our model over validation set error score."
   ]
  },
  {
   "cell_type": "code",
   "execution_count": null,
   "id": "25c0b0aa",
   "metadata": {
    "ExecuteTime": {
     "end_time": "2022-12-06T15:00:58.356396Z",
     "start_time": "2022-12-06T15:00:58.264641Z"
    },
    "colab": {
     "base_uri": "https://localhost:8080/",
     "height": 718
    },
    "executionInfo": {
     "elapsed": 817,
     "status": "ok",
     "timestamp": 1696754549927,
     "user": {
      "displayName": "Orion Cloud",
      "userId": "13399699001942214669"
     },
     "user_tz": -180
    },
    "id": "25c0b0aa",
    "outputId": "ff965072-444a-42d6-bd1e-0e8fb3d04a26"
   },
   "outputs": [],
   "source": [
    "plt.figure(figsize=(15,8))\n",
    "plt.plot(range(1,30), test_error_rates, color='blue', linestyle='--', marker='o',\n",
    "         markerfacecolor='red', markersize=10)\n",
    "\n",
    "plt.title('Error Rate vs. K Value')\n",
    "plt.xlabel('K_values')\n",
    "plt.ylabel('Error Rate')\n",
    "plt.hlines(y=0.074, xmin = 0, xmax = 30, colors= 'r', linestyles=\"--\")\n",
    "plt.hlines(y=0.069, xmin = 0, xmax = 30, colors= 'r', linestyles=\"--\");\n",
    "\n",
    "# We visualize the error scores we find."
   ]
  },
  {
   "cell_type": "markdown",
   "id": "48e2fc57",
   "metadata": {
    "id": "48e2fc57"
   },
   "source": [
    "## Overfiting and underfiting control for k values"
   ]
  },
  {
   "cell_type": "code",
   "execution_count": null,
   "id": "sticky-airline",
   "metadata": {
    "ExecuteTime": {
     "end_time": "2022-12-06T15:01:09.125971Z",
     "start_time": "2022-12-06T15:00:58.357391Z"
    },
    "id": "sticky-airline"
   },
   "outputs": [],
   "source": [
    "test_error_rates = []\n",
    "train_error_rates = []\n",
    "\n",
    "\n",
    "for k in range(1,30):\n",
    "\n",
    "    operations = [(\"scaler\", StandardScaler()), (\"knn\", KNeighborsClassifier(n_neighbors=k))]\n",
    "\n",
    "    knn_pipe_model = Pipeline(steps=operations)\n",
    "\n",
    "    knn_pipe_model.fit(X_train,y_train)\n",
    "\n",
    "    scores = cross_validate(knn_pipe_model, X_train, y_train, scoring = ['accuracy'], cv = 10, return_train_score=True)\n",
    "\n",
    "    accuracy_test_mean = scores[\"test_accuracy\"].mean()\n",
    "    accuracy_train_mean = scores[\"train_accuracy\"].mean()\n",
    "\n",
    "\n",
    "    test_error = 1 - accuracy_test_mean\n",
    "    train_error = 1 - accuracy_train_mean\n",
    "    test_error_rates.append(test_error)\n",
    "    train_error_rates.append(train_error)\n",
    "\n",
    "# Like the same process as above.We compare the average error errors of the validation and train data\n",
    "# we have obtained from the train data given in the CV\n",
    "# Thus, we will be able to see more easily whether it has overfitting or not."
   ]
  },
  {
   "cell_type": "code",
   "execution_count": null,
   "id": "collaborative-buying",
   "metadata": {
    "ExecuteTime": {
     "end_time": "2022-12-06T15:01:09.251656Z",
     "start_time": "2022-12-06T15:01:09.126735Z"
    },
    "colab": {
     "base_uri": "https://localhost:8080/",
     "height": 718
    },
    "executionInfo": {
     "elapsed": 672,
     "status": "ok",
     "timestamp": 1696754600050,
     "user": {
      "displayName": "Orion Cloud",
      "userId": "13399699001942214669"
     },
     "user_tz": -180
    },
    "id": "collaborative-buying",
    "outputId": "652ce5e2-c262-4de2-faa2-ab17248dd65a"
   },
   "outputs": [],
   "source": [
    "plt.figure(figsize=(15,8))\n",
    "plt.plot(range(1,30), test_error_rates, color='blue', linestyle='--', marker='o',\n",
    "         markerfacecolor='red', markersize=10)\n",
    "\n",
    "plt.plot(range(1,30), train_error_rates, color='green', linestyle='--', marker='o',\n",
    "         markerfacecolor='blue', markersize=10)\n",
    "\n",
    "plt.title('Error Rate vs. K Value')\n",
    "plt.xlabel('K_values')\n",
    "plt.ylabel('Error Rate')\n",
    "plt.hlines(y=0.074, xmin = 0, xmax = 30, colors= 'r', linestyles=\"--\")\n",
    "plt.hlines(y=0.069, xmin = 0, xmax = 30, colors= 'r', linestyles=\"--\");\n",
    "\n",
    "# The reds are the validation data, the blues are the scores of the train data.\n",
    "# The lowest error score for the validation data was achieved at K=21,\n",
    "# but if we choose 21, the complexity of the model, that is, the operation costs, MIGHT increase.\n",
    "# While the error is 0.074 for K= 9, the error is 0.069 for K=21. For a difference of 0.005,\n",
    "# is it worth risking the chance of increasing computational complexity?\n",
    "# It's not worth the expense for a difference of 0.005.\n",
    "\n",
    "# Keep in mind that the computational complexity of KNN wif the search algorithm is brute force is generally O(nd).\n",
    "# This means, the value of k won't affect the computational complexity of the problem significantly.\n",
    "# However, if the search algorithm is a tree based algorithm (kd-tree or ball-tree),\n",
    "# then the value of k actually will impact the computational complexity of the model.\n",
    "\n",
    "# At K=21, the scores are almost the same as the error scores in both validation and train data.\n",
    "# However, if K=9, the error score of the validation data is 0.074, while the error score of the train data is 0.060.\n",
    "# The difference is 0.014. In other words, since the difference is very small, we can choose K=9 with peace of mind."
   ]
  },
  {
   "attachments": {
    "image.png": {
     "image/png": "[encoded data removed]"
    }
   },
   "cell_type": "markdown",
   "id": "8ba27010",
   "metadata": {},
   "source": [
    "![image.png](attachment:image.png)"
   ]
  },
  {
   "cell_type": "markdown",
   "id": "consecutive-financing",
   "metadata": {
    "id": "consecutive-financing"
   },
   "source": [
    "## Scores by Various K Values"
   ]
  },
  {
   "cell_type": "code",
   "execution_count": null,
   "id": "14dd23d5",
   "metadata": {
    "ExecuteTime": {
     "end_time": "2022-12-06T15:01:09.331635Z",
     "start_time": "2022-12-06T15:01:09.253162Z"
    },
    "colab": {
     "base_uri": "https://localhost:8080/"
    },
    "executionInfo": {
     "elapsed": 461,
     "status": "ok",
     "timestamp": 1696754600508,
     "user": {
      "displayName": "Orion Cloud",
      "userId": "13399699001942214669"
     },
     "user_tz": -180
    },
    "id": "14dd23d5",
    "outputId": "128eeb93-ad9a-47fc-c3a7-d116a8210584"
   },
   "outputs": [],
   "source": [
    "operations = [(\"scaler\", StandardScaler()), (\"knn\", KNeighborsClassifier(n_neighbors=1))]\n",
    "knn1 = Pipeline(steps=operations)\n",
    "\n",
    "knn1.fit(X_train, y_train)\n",
    "print('WITH K=1\\n')\n",
    "eval_metric(knn1, X_train, y_train, X_test, y_test)\n"
   ]
  },
  {
   "cell_type": "code",
   "execution_count": null,
   "id": "9dd79224",
   "metadata": {
    "ExecuteTime": {
     "end_time": "2022-12-06T15:01:09.411163Z",
     "start_time": "2022-12-06T15:01:09.332635Z"
    },
    "colab": {
     "base_uri": "https://localhost:8080/"
    },
    "executionInfo": {
     "elapsed": 3,
     "status": "ok",
     "timestamp": 1696754600508,
     "user": {
      "displayName": "Orion Cloud",
      "userId": "13399699001942214669"
     },
     "user_tz": -180
    },
    "id": "9dd79224",
    "outputId": "5c1331ba-652c-43e1-c186-63c2294101a1"
   },
   "outputs": [],
   "source": [
    "operations = [(\"scaler\", StandardScaler()), (\"knn\", KNeighborsClassifier(n_neighbors=21))]\n",
    "knn21 = Pipeline(steps=operations)\n",
    "\n",
    "knn21.fit(X_train, y_train)\n",
    "print('WITH K=21\\n')\n",
    "eval_metric(knn21, X_train, y_train, X_test, y_test) #28+21 wrong prediction"
   ]
  },
  {
   "cell_type": "code",
   "execution_count": null,
   "id": "0004596b",
   "metadata": {
    "ExecuteTime": {
     "end_time": "2022-12-06T15:01:09.489793Z",
     "start_time": "2022-12-06T15:01:09.412159Z"
    },
    "colab": {
     "base_uri": "https://localhost:8080/"
    },
    "executionInfo": {
     "elapsed": 2,
     "status": "ok",
     "timestamp": 1696754600508,
     "user": {
      "displayName": "Orion Cloud",
      "userId": "13399699001942214669"
     },
     "user_tz": -180
    },
    "id": "0004596b",
    "outputId": "d351cc63-0cea-422f-a651-7c3d2ff30c7b"
   },
   "outputs": [],
   "source": [
    "operations = [(\"scaler\", StandardScaler()), (\"knn\", KNeighborsClassifier(n_neighbors=9))]\n",
    "knn9 = Pipeline(steps=operations)\n",
    "\n",
    "knn9.fit(X_train, y_train)\n",
    "print('WITH K=9\\n')\n",
    "eval_metric(knn9, X_train, y_train, X_test, y_test) # 28 + 24 wrong prediction"
   ]
  },
  {
   "cell_type": "markdown",
   "id": "cooked-quebec",
   "metadata": {
    "id": "cooked-quebec"
   },
   "source": [
    "## Cross Validate For Optimal K Value"
   ]
  },
  {
   "cell_type": "code",
   "execution_count": null,
   "id": "curious-cowboy",
   "metadata": {
    "ExecuteTime": {
     "end_time": "2022-12-06T15:01:09.505685Z",
     "start_time": "2022-12-06T15:01:09.490743Z"
    },
    "id": "curious-cowboy"
   },
   "outputs": [],
   "source": [
    "from sklearn.model_selection import cross_val_score, cross_validate"
   ]
  },
  {
   "cell_type": "code",
   "execution_count": null,
   "id": "impressed-contact",
   "metadata": {
    "ExecuteTime": {
     "end_time": "2022-12-06T15:01:09.978494Z",
     "start_time": "2022-12-06T15:01:09.506694Z"
    },
    "colab": {
     "base_uri": "https://localhost:8080/"
    },
    "executionInfo": {
     "elapsed": 1833,
     "status": "ok",
     "timestamp": 1696754602340,
     "user": {
      "displayName": "Orion Cloud",
      "userId": "13399699001942214669"
     },
     "user_tz": -180
    },
    "id": "impressed-contact",
    "outputId": "fb2fd536-fd4d-4620-8426-fa25c5dc5718"
   },
   "outputs": [],
   "source": [
    "operations = [(\"scaler\", StandardScaler()), (\"knn\", KNeighborsClassifier(n_neighbors=9))]\n",
    "model = Pipeline(steps=operations)\n",
    "\n",
    "scores = cross_validate(model,\n",
    "                        X_train,\n",
    "                        y_train,\n",
    "                        scoring=['accuracy',\n",
    "                                 'precision',\n",
    "                                 'recall',\n",
    "                                 'f1'],\n",
    "                        cv=10,\n",
    "                        return_train_score=True)\n",
    "df_scores = pd.DataFrame(scores, index = range(1, 11))\n",
    "df_scores.mean()[2:]"
   ]
  },
  {
   "cell_type": "markdown",
   "id": "breathing-adams",
   "metadata": {
    "id": "breathing-adams"
   },
   "source": [
    "## Gridsearch Method for Choosing Reasonable K Values"
   ]
  },
  {
   "cell_type": "code",
   "execution_count": null,
   "id": "hybrid-backup",
   "metadata": {
    "ExecuteTime": {
     "end_time": "2022-12-06T15:01:10.009513Z",
     "start_time": "2022-12-06T15:01:09.998495Z"
    },
    "id": "hybrid-backup"
   },
   "outputs": [],
   "source": [
    "from sklearn.model_selection import GridSearchCV"
   ]
  },
  {
   "cell_type": "code",
   "execution_count": null,
   "id": "2c91156d",
   "metadata": {
    "ExecuteTime": {
     "end_time": "2022-12-06T15:01:10.024779Z",
     "start_time": "2022-12-06T15:01:10.010506Z"
    },
    "id": "2c91156d"
   },
   "outputs": [],
   "source": [
    "operations = [(\"scaler\", StandardScaler()), (\"knn\", KNeighborsClassifier())]\n",
    "knn_model = Pipeline(steps=operations)"
   ]
  },
  {
   "cell_type": "code",
   "execution_count": null,
   "id": "5324b074",
   "metadata": {
    "ExecuteTime": {
     "end_time": "2022-12-06T15:01:10.040891Z",
     "start_time": "2022-12-06T15:01:10.025773Z"
    },
    "colab": {
     "base_uri": "https://localhost:8080/"
    },
    "executionInfo": {
     "elapsed": 3,
     "status": "ok",
     "timestamp": 1696754602340,
     "user": {
      "displayName": "Orion Cloud",
      "userId": "13399699001942214669"
     },
     "user_tz": -180
    },
    "id": "5324b074",
    "outputId": "93264621-e71c-42f6-9b67-01625dddcf07"
   },
   "outputs": [],
   "source": [
    "knn_model.get_params()"
   ]
  },
  {
   "cell_type": "code",
   "execution_count": null,
   "id": "thousand-criterion",
   "metadata": {
    "ExecuteTime": {
     "end_time": "2022-12-06T15:01:10.056687Z",
     "start_time": "2022-12-06T15:01:10.041894Z"
    },
    "id": "thousand-criterion"
   },
   "outputs": [],
   "source": [
    "k_values= range(1,30)"
   ]
  },
  {
   "cell_type": "code",
   "execution_count": null,
   "id": "detected-petersburg",
   "metadata": {
    "ExecuteTime": {
     "end_time": "2022-12-06T15:01:10.072354Z",
     "start_time": "2022-12-06T15:01:10.057693Z"
    },
    "id": "detected-petersburg"
   },
   "outputs": [],
   "source": [
    "param_grid = {\"knn__n_neighbors\":k_values, \"knn__p\": [1,2], \"knn__weights\": ['uniform', \"distance\"]}\n",
    "\n",
    "# most important hyper_parameters for KNN:\n",
    "# 1. n_neighbors (In binary classification, it should be noted that k is preferred as odd number\n",
    "                # so that there can not be equality between the classes.\n",
    "                # It doesn't matter in multiclass classification the k is odd or even.)\n",
    "# 2. weights\n",
    "# 3. p"
   ]
  },
  {
   "cell_type": "code",
   "execution_count": null,
   "id": "through-patrick",
   "metadata": {
    "ExecuteTime": {
     "end_time": "2022-12-06T15:01:10.087519Z",
     "start_time": "2022-12-06T15:01:10.073358Z"
    },
    "id": "through-patrick"
   },
   "outputs": [],
   "source": [
    "knn_grid_model = GridSearchCV(knn_model, param_grid, cv=10, return_train_score=True)"
   ]
  },
  {
   "cell_type": "code",
   "execution_count": null,
   "id": "abroad-minneapolis",
   "metadata": {
    "ExecuteTime": {
     "end_time": "2022-12-06T15:01:38.719616Z",
     "start_time": "2022-12-06T15:01:10.088459Z"
    },
    "colab": {
     "base_uri": "https://localhost:8080/",
     "height": 152
    },
    "executionInfo": {
     "elapsed": 101691,
     "status": "ok",
     "timestamp": 1696754704030,
     "user": {
      "displayName": "Orion Cloud",
      "userId": "13399699001942214669"
     },
     "user_tz": -180
    },
    "id": "abroad-minneapolis",
    "outputId": "6213a3ff-eb11-4ae8-94f9-04a2b019a9d5"
   },
   "outputs": [],
   "source": [
    "knn_grid_model.fit(X_train, y_train)"
   ]
  },
  {
   "cell_type": "code",
   "execution_count": null,
   "id": "c549ba50",
   "metadata": {
    "ExecuteTime": {
     "end_time": "2022-12-06T15:01:38.751563Z",
     "start_time": "2022-12-06T15:01:38.736563Z"
    },
    "colab": {
     "base_uri": "https://localhost:8080/",
     "height": 126
    },
    "executionInfo": {
     "elapsed": 13,
     "status": "ok",
     "timestamp": 1696754704030,
     "user": {
      "displayName": "Orion Cloud",
      "userId": "13399699001942214669"
     },
     "user_tz": -180
    },
    "id": "c549ba50",
    "outputId": "00cf4ae5-98bd-46dc-f212-164ae16772c8"
   },
   "outputs": [],
   "source": [
    "knn_grid_model.best_estimator_\n",
    "# GridsearchCV always returns the maximum metric score, which will give the lowest error score.\n",
    "# Since the number of n_neighbors we will find after GridsearchCV can be very costly,\n",
    "# it is best practice to choose with the elbow method."
   ]
  },
  {
   "cell_type": "code",
   "execution_count": null,
   "id": "90ac10e2",
   "metadata": {},
   "outputs": [],
   "source": [
    "knn_grid_model.best_index_"
   ]
  },
  {
   "cell_type": "code",
   "execution_count": null,
   "id": "cc0ec03a",
   "metadata": {
    "ExecuteTime": {
     "end_time": "2022-12-06T15:01:38.783096Z",
     "start_time": "2022-12-06T15:01:38.768572Z"
    },
    "colab": {
     "base_uri": "https://localhost:8080/"
    },
    "executionInfo": {
     "elapsed": 12,
     "status": "ok",
     "timestamp": 1696754704030,
     "user": {
      "displayName": "Orion Cloud",
      "userId": "13399699001942214669"
     },
     "user_tz": -180
    },
    "id": "cc0ec03a",
    "outputId": "2b631678-e400-43b3-e6a9-49237265e51d"
   },
   "outputs": [],
   "source": [
    "pd.DataFrame(knn_grid_model.cv_results_).loc[knn_grid_model.best_index_, [\"mean_test_score\", \"mean_train_score\"]]"
   ]
  },
  {
   "cell_type": "code",
   "execution_count": null,
   "id": "d26fa793",
   "metadata": {
    "ExecuteTime": {
     "end_time": "2022-12-06T15:01:38.879157Z",
     "start_time": "2022-12-06T15:01:38.800100Z"
    },
    "colab": {
     "base_uri": "https://localhost:8080/"
    },
    "executionInfo": {
     "elapsed": 11,
     "status": "ok",
     "timestamp": 1696754704030,
     "user": {
      "displayName": "Orion Cloud",
      "userId": "13399699001942214669"
     },
     "user_tz": -180
    },
    "id": "d26fa793",
    "outputId": "e5493b75-0e99-43f3-b988-f1776cddb225"
   },
   "outputs": [],
   "source": [
    "print('WITH K=21\\n')\n",
    "eval_metric(knn_grid_model, X_train, y_train, X_test, y_test)"
   ]
  },
  {
   "cell_type": "markdown",
   "id": "rough-budapest",
   "metadata": {
    "id": "rough-budapest"
   },
   "source": [
    "## Evaluating ROC Curves and AUC"
   ]
  },
  {
   "cell_type": "code",
   "execution_count": null,
   "id": "adolescent-brief",
   "metadata": {
    "ExecuteTime": {
     "end_time": "2022-12-06T15:01:38.894627Z",
     "start_time": "2022-12-06T15:01:38.880107Z"
    },
    "id": "adolescent-brief"
   },
   "outputs": [],
   "source": [
    "from sklearn.metrics import roc_auc_score, auc, roc_curve, RocCurveDisplay, PrecisionRecallDisplay"
   ]
  },
  {
   "cell_type": "code",
   "execution_count": null,
   "id": "other-louisville",
   "metadata": {
    "ExecuteTime": {
     "end_time": "2022-12-06T15:01:39.006149Z",
     "start_time": "2022-12-06T15:01:38.895616Z"
    },
    "colab": {
     "base_uri": "https://localhost:8080/",
     "height": 559
    },
    "executionInfo": {
     "elapsed": 588,
     "status": "ok",
     "timestamp": 1696754704608,
     "user": {
      "displayName": "Orion Cloud",
      "userId": "13399699001942214669"
     },
     "user_tz": -180
    },
    "id": "other-louisville",
    "outputId": "bc1d0895-c170-4eb6-f6c5-dca189b2728b"
   },
   "outputs": [],
   "source": [
    "RocCurveDisplay.from_estimator(knn9, X_test, y_test)"
   ]
  },
  {
   "cell_type": "code",
   "execution_count": null,
   "id": "desperate-canyon",
   "metadata": {
    "ExecuteTime": {
     "end_time": "2022-12-06T15:01:39.021624Z",
     "start_time": "2022-12-06T15:01:39.007173Z"
    },
    "colab": {
     "base_uri": "https://localhost:8080/"
    },
    "executionInfo": {
     "elapsed": 5,
     "status": "ok",
     "timestamp": 1696754704608,
     "user": {
      "displayName": "Orion Cloud",
      "userId": "13399699001942214669"
     },
     "user_tz": -180
    },
    "id": "desperate-canyon",
    "outputId": "f84a8e7e-1abe-4311-825e-0a299c3500b3"
   },
   "outputs": [],
   "source": [
    "y_pred_proba = knn9.predict_proba(X_test)\n",
    "roc_auc_score(y_test, y_pred_proba[:,1])"
   ]
  },
  {
   "cell_type": "code",
   "execution_count": null,
   "id": "Gvf9laqfcMFK",
   "metadata": {
    "colab": {
     "base_uri": "https://localhost:8080/",
     "height": 126
    },
    "executionInfo": {
     "elapsed": 3,
     "status": "ok",
     "timestamp": 1696754704608,
     "user": {
      "displayName": "Orion Cloud",
      "userId": "13399699001942214669"
     },
     "user_tz": -180
    },
    "id": "Gvf9laqfcMFK",
    "outputId": "dacf0cbe-0cbf-43b9-bf9b-e2629020aa23"
   },
   "outputs": [],
   "source": [
    "knn9"
   ]
  },
  {
   "cell_type": "code",
   "execution_count": null,
   "id": "75167bd7",
   "metadata": {
    "colab": {
     "base_uri": "https://localhost:8080/",
     "height": 542
    },
    "executionInfo": {
     "elapsed": 721,
     "status": "ok",
     "timestamp": 1696754705326,
     "user": {
      "displayName": "Orion Cloud",
      "userId": "13399699001942214669"
     },
     "user_tz": -180
    },
    "id": "75167bd7",
    "outputId": "81db61ec-a1e4-4d4c-b131-f2a75d595dd6"
   },
   "outputs": [],
   "source": [
    "PrecisionRecallDisplay.from_estimator(knn9, X_test, y_test);"
   ]
  },
  {
   "cell_type": "markdown",
   "id": "equipped-tactics",
   "metadata": {
    "id": "equipped-tactics"
   },
   "source": [
    "## Final Model and Model Deployment"
   ]
  },
  {
   "cell_type": "code",
   "execution_count": null,
   "id": "9a646903",
   "metadata": {
    "ExecuteTime": {
     "end_time": "2022-12-06T15:01:39.037586Z",
     "start_time": "2022-12-06T15:01:39.022585Z"
    },
    "colab": {
     "base_uri": "https://localhost:8080/",
     "height": 126
    },
    "executionInfo": {
     "elapsed": 7,
     "status": "ok",
     "timestamp": 1696754705326,
     "user": {
      "displayName": "Orion Cloud",
      "userId": "13399699001942214669"
     },
     "user_tz": -180
    },
    "id": "9a646903",
    "outputId": "7474eb59-7aec-402b-8854-bf2364836c19"
   },
   "outputs": [],
   "source": [
    "operations = [(\"scaler\", StandardScaler()), (\"knn\", KNeighborsClassifier(n_neighbors=9))]\n",
    "\n",
    "final_model = Pipeline(steps=operations)\n",
    "\n",
    "final_model.fit(X, y)"
   ]
  },
  {
   "cell_type": "code",
   "execution_count": null,
   "id": "american-monster",
   "metadata": {
    "ExecuteTime": {
     "end_time": "2022-12-06T15:01:39.053586Z",
     "start_time": "2022-12-06T15:01:39.038590Z"
    },
    "id": "american-monster"
   },
   "outputs": [],
   "source": [
    "import pickle"
   ]
  },
  {
   "cell_type": "code",
   "execution_count": null,
   "id": "outstanding-middle",
   "metadata": {
    "ExecuteTime": {
     "end_time": "2022-12-06T15:01:39.068759Z",
     "start_time": "2022-12-06T15:01:39.054592Z"
    },
    "id": "outstanding-middle"
   },
   "outputs": [],
   "source": [
    "pickle.dump(final_model, open('knn_final_model', 'wb'))"
   ]
  },
  {
   "cell_type": "markdown",
   "id": "conservative-eclipse",
   "metadata": {
    "id": "conservative-eclipse"
   },
   "source": [
    "## Predict New Observations"
   ]
  },
  {
   "cell_type": "code",
   "execution_count": null,
   "id": "english-princeton",
   "metadata": {
    "ExecuteTime": {
     "end_time": "2022-12-06T15:01:39.083974Z",
     "start_time": "2022-12-06T15:01:39.069771Z"
    },
    "id": "english-princeton"
   },
   "outputs": [],
   "source": [
    "loaded_model = pickle.load(open('knn_final_model', 'rb'))"
   ]
  },
  {
   "cell_type": "code",
   "execution_count": null,
   "id": "alone-vancouver",
   "metadata": {
    "ExecuteTime": {
     "end_time": "2022-12-06T15:01:39.099974Z",
     "start_time": "2022-12-06T15:01:39.084974Z"
    },
    "colab": {
     "base_uri": "https://localhost:8080/",
     "height": 300
    },
    "executionInfo": {
     "elapsed": 6,
     "status": "ok",
     "timestamp": 1696754705326,
     "user": {
      "displayName": "Orion Cloud",
      "userId": "13399699001942214669"
     },
     "user_tz": -180
    },
    "id": "alone-vancouver",
    "outputId": "f75b6563-9c14-47bb-efeb-957bdf8009d1"
   },
   "outputs": [],
   "source": [
    "X.describe()"
   ]
  },
  {
   "cell_type": "code",
   "execution_count": null,
   "id": "inner-roman",
   "metadata": {
    "ExecuteTime": {
     "end_time": "2022-12-06T15:01:39.115976Z",
     "start_time": "2022-12-06T15:01:39.100974Z"
    },
    "id": "inner-roman"
   },
   "outputs": [],
   "source": [
    "new_obs = {\"Gene One\": [1, 3, 4.3, 5.6, 7, 9.5, 2, 6],\n",
    "           \"Gene Two\": [1, 4, 4, 5.5, 6.7, 10, 8, 1]\n",
    "          }"
   ]
  },
  {
   "cell_type": "code",
   "execution_count": null,
   "id": "western-lightning",
   "metadata": {
    "ExecuteTime": {
     "end_time": "2022-12-06T15:01:39.130974Z",
     "start_time": "2022-12-06T15:01:39.116976Z"
    },
    "colab": {
     "base_uri": "https://localhost:8080/",
     "height": 300
    },
    "executionInfo": {
     "elapsed": 6,
     "status": "ok",
     "timestamp": 1696754705326,
     "user": {
      "displayName": "Orion Cloud",
      "userId": "13399699001942214669"
     },
     "user_tz": -180
    },
    "id": "western-lightning",
    "outputId": "37a450af-a5b4-4974-a692-c26ff2f5f033"
   },
   "outputs": [],
   "source": [
    "samples = pd.DataFrame(new_obs)\n",
    "samples"
   ]
  },
  {
   "cell_type": "code",
   "execution_count": null,
   "id": "increased-timing",
   "metadata": {
    "ExecuteTime": {
     "end_time": "2022-12-06T15:01:39.145974Z",
     "start_time": "2022-12-06T15:01:39.131978Z"
    },
    "id": "increased-timing"
   },
   "outputs": [],
   "source": [
    "predictions = loaded_model.predict(samples)\n",
    "predictions_proba = loaded_model.predict_proba(samples)"
   ]
  },
  {
   "cell_type": "code",
   "execution_count": null,
   "id": "collaborative-lunch",
   "metadata": {
    "ExecuteTime": {
     "end_time": "2022-12-06T15:01:39.161975Z",
     "start_time": "2022-12-06T15:01:39.147970Z"
    },
    "colab": {
     "base_uri": "https://localhost:8080/",
     "height": 300
    },
    "executionInfo": {
     "elapsed": 5,
     "status": "ok",
     "timestamp": 1696754705326,
     "user": {
      "displayName": "Orion Cloud",
      "userId": "13399699001942214669"
     },
     "user_tz": -180
    },
    "id": "collaborative-lunch",
    "outputId": "57fb4b92-3362-4f2f-f548-c5eaa9c70422"
   },
   "outputs": [],
   "source": [
    "samples[\"pred\"] = predictions\n",
    "samples[\"pred_proba_1\"] = predictions_proba[:,1]\n",
    "samples[\"pred_proba_0\"] = predictions_proba[:,0]\n",
    "samples"
   ]
  }
 ],
 "metadata": {
  "colab": {
   "provenance": []
  },
  "hide_input": false,
  "kernelspec": {
   "display_name": "mlenv",
   "language": "python",
   "name": "mlenv"
  },
  "language_info": {
   "codemirror_mode": {
    "name": "ipython",
    "version": 3
   },
   "file_extension": ".py",
   "mimetype": "text/x-python",
   "name": "python",
   "nbconvert_exporter": "python",
   "pygments_lexer": "ipython3",
   "version": "3.9.19"
  },
  "toc": {
   "base_numbering": 1,
   "nav_menu": {},
   "number_sections": true,
   "sideBar": true,
   "skip_h1_title": false,
   "title_cell": "Table of Contents",
   "title_sidebar": "Contents",
   "toc_cell": false,
   "toc_position": {},
   "toc_section_display": true,
   "toc_window_display": false
  },
  "varInspector": {
   "cols": {
    "lenName": 16,
    "lenType": 16,
    "lenVar": 40
   },
   "kernels_config": {
    "python": {
     "delete_cmd_postfix": "",
     "delete_cmd_prefix": "del ",
     "library": "var_list.py",
     "varRefreshCmd": "print(var_dic_list())"
    },
    "r": {
     "delete_cmd_postfix": ") ",
     "delete_cmd_prefix": "rm(",
     "library": "var_list.r",
     "varRefreshCmd": "cat(var_dic_list()) "
    }
   },
   "types_to_exclude": [
    "module",
    "function",
    "builtin_function_or_method",
    "instance",
    "_Feature"
   ],
   "window_display": false
  }
 },
 "nbformat": 4,
 "nbformat_minor": 5
}
