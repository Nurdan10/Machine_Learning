{
 "cells": [
  {
   "cell_type": "markdown",
   "metadata": {
    "id": "4UCsvzbImqZN"
   },
   "source": [
    "___\n",
    "\n",
    "<p style=\"text-align: center;\"><img src=\"https://docs.google.com/uc?id=1lY0Uj5R04yMY3-ZppPWxqCr5pvBLYPnV\" class=\"img-fluid\" alt=\"CLRSWY\"></p>\n",
    "\n",
    "___"
   ]
  },
  {
   "cell_type": "markdown",
   "metadata": {
    "id": "i5WapR8JmqZN"
   },
   "source": [
    "# WELCOME!"
   ]
  },
  {
   "cell_type": "markdown",
   "metadata": {
    "id": "ZyeGWbuTmqZN"
   },
   "source": [
    "Welcome to \"***Car Price Prediction Project***\". This is the first medium project of ***Machine Learning*** course. In this project you will have the opportunity to apply many algorithms commonly used for regression problems.\n",
    "\n",
    "Also, you will apply various processes such as pre-processing, ***train-test spilit*** and ***cross validation*** that you will use in algorithm modeling and prediction processes in Python with ***scikit-learn***.\n",
    "\n",
    "Before diving into the project, please take a look at the determines and tasks.\n",
    "\n",
    "- **NOTE:** This project assumes that you already know the basics of coding in Python. You should also be familiar with the theory behind regression algorithms and scikit-learn module as well as Machine Learning before you begin.\n"
   ]
  },
  {
   "cell_type": "markdown",
   "metadata": {
    "id": "c0Iul5QymqZN"
   },
   "source": [
    "# #Determines\n",
    "\n",
    "**Auto Scout** data which using for this project, scraped from the on-line car trading company(https://www.autoscout24.com), contains many features of different car models. In this project, you will use the data set which is already preprocessed and prepared for algorithms .\n",
    "\n",
    "The aim of this project to understand of machine learning algorithms. Therefore, you will not need any EDA process as you will be working on the edited data.\n",
    "\n",
    "---\n",
    "\n",
    "In this Senario, you will estimate the prices of cars using regression algorithms.\n",
    "\n",
    "While starting you should import the necessary modules and load the data given as pkl file. Also you'll need to do a few pre-processing before moving to modelling. After that you will implement ***Linear Regression, Ridge Regression, Lasso Regression,and Elastic-Net algorithms respectively*** (After completion of Unsupervised Learning section, you can also add bagging and boosting algorithms such as ***Random Forest and XG Boost*** this notebook to develop the project. You can measure the success of your models with regression evaluation metrics as well as with cross validation method.\n",
    "\n",
    "For the better results, you should try to increase the success of your models by performing hyperparameter tuning. Determine feature importances for the model. You can set your model with the most important features for resource saving. You should try to apply this especially in Random Forest and XG Boost algorithms. Unlike the others, you will perform hyperparameter tuning for Random Forest and XG Boost using the ***GridSearchCV*** method.\n",
    "\n",
    "Finally You can compare the performances of algorithms, work more on the algorithm have the most successful prediction rate.\n",
    "\n",
    "\n",
    "\n",
    "\n"
   ]
  },
  {
   "cell_type": "markdown",
   "metadata": {
    "id": "pL-jJ1irmqZN"
   },
   "source": [
    "# #Tasks\n",
    "\n",
    "#### 1. Import Modules, Load Data and Data Review\n",
    "#### 2. Data Pre-Processing\n",
    "#### 3. Implement Linear Regression\n",
    "#### 4. Implement Ridge Regression\n",
    "#### 5. Implement Lasso Regression\n",
    "#### 6. Implement Elastic-Net\n",
    "#### 7. Visually Compare Models Performance In a Graph"
   ]
  },
  {
   "cell_type": "markdown",
   "metadata": {
    "id": "Rik6d_vimqZN"
   },
   "source": [
    "## 1. Import Modules, Load Data and Data Review"
   ]
  },
  {
   "cell_type": "code",
   "execution_count": 89,
   "metadata": {
    "id": "QBddHlqgmqZN"
   },
   "outputs": [],
   "source": [
    "import numpy as np\n",
    "import pandas as pd\n",
    "import matplotlib.pyplot as plt\n",
    "import seaborn as sns\n",
    "%matplotlib inline\n",
    "\n",
    "plt.rcParams[\"figure.figsize\"] = (10,6)\n",
    "pd.set_option('display.max_columns', 100)"
   ]
  },
  {
   "cell_type": "code",
   "execution_count": 90,
   "metadata": {},
   "outputs": [],
   "source": [
    "df = pd.read_csv(\"Ready_to_ML.csv\")"
   ]
  },
  {
   "cell_type": "code",
   "execution_count": 91,
   "metadata": {},
   "outputs": [
    {
     "data": {
      "text/html": [
       "<div>\n",
       "<style scoped>\n",
       "    .dataframe tbody tr th:only-of-type {\n",
       "        vertical-align: middle;\n",
       "    }\n",
       "\n",
       "    .dataframe tbody tr th {\n",
       "        vertical-align: top;\n",
       "    }\n",
       "\n",
       "    .dataframe thead th {\n",
       "        text-align: right;\n",
       "    }\n",
       "</style>\n",
       "<table border=\"1\" class=\"dataframe\">\n",
       "  <thead>\n",
       "    <tr style=\"text-align: right;\">\n",
       "      <th></th>\n",
       "      <th>make_model</th>\n",
       "      <th>make</th>\n",
       "      <th>location</th>\n",
       "      <th>price</th>\n",
       "      <th>body_type</th>\n",
       "      <th>type</th>\n",
       "      <th>warranty</th>\n",
       "      <th>mileage</th>\n",
       "      <th>gearbox</th>\n",
       "      <th>fuel_type</th>\n",
       "      <th>seller</th>\n",
       "      <th>engine_size</th>\n",
       "      <th>gears</th>\n",
       "      <th>co_emissions</th>\n",
       "      <th>drivetrain</th>\n",
       "      <th>extras</th>\n",
       "      <th>empty_weight</th>\n",
       "      <th>full_service_history</th>\n",
       "      <th>upholstery</th>\n",
       "      <th>previous_owner</th>\n",
       "      <th>energy_efficiency_class</th>\n",
       "      <th>age</th>\n",
       "      <th>power_kW</th>\n",
       "      <th>cons_avg</th>\n",
       "      <th>comfort_&amp;_convenience_Package</th>\n",
       "      <th>entertainment_&amp;_media_Package</th>\n",
       "      <th>safety_&amp;_security_Package</th>\n",
       "    </tr>\n",
       "  </thead>\n",
       "  <tbody>\n",
       "    <tr>\n",
       "      <th>0</th>\n",
       "      <td>Mercedes-Benz A 160</td>\n",
       "      <td>Mercedes-Benz</td>\n",
       "      <td>P.I. EL PALMAR C/FORJA 6,  11500 PUERTO DE SAN...</td>\n",
       "      <td>16950.0</td>\n",
       "      <td>Compact</td>\n",
       "      <td>Used</td>\n",
       "      <td>Yes</td>\n",
       "      <td>120200.0</td>\n",
       "      <td>Manual</td>\n",
       "      <td>Diesel</td>\n",
       "      <td>Dealer</td>\n",
       "      <td>1595.0</td>\n",
       "      <td>5.0</td>\n",
       "      <td>98.0</td>\n",
       "      <td>Front</td>\n",
       "      <td>Alloy wheels</td>\n",
       "      <td>1270.0</td>\n",
       "      <td>No</td>\n",
       "      <td>Cloth</td>\n",
       "      <td>2.0</td>\n",
       "      <td>efficient</td>\n",
       "      <td>6.0</td>\n",
       "      <td>75.0</td>\n",
       "      <td>3.800</td>\n",
       "      <td>Standard</td>\n",
       "      <td>Standard</td>\n",
       "      <td>Safety Premium Package</td>\n",
       "    </tr>\n",
       "    <tr>\n",
       "      <th>1</th>\n",
       "      <td>Mercedes-Benz EQE 350</td>\n",
       "      <td>Mercedes-Benz</td>\n",
       "      <td>APARTADO DE CORREOS 1032,  26140 LOGROÑO, ES</td>\n",
       "      <td>80900.0</td>\n",
       "      <td>Compact</td>\n",
       "      <td>Pre-registered</td>\n",
       "      <td>Yes</td>\n",
       "      <td>5000.0</td>\n",
       "      <td>Automatic</td>\n",
       "      <td>Electric</td>\n",
       "      <td>Dealer</td>\n",
       "      <td>1.0</td>\n",
       "      <td>1.0</td>\n",
       "      <td>0.0</td>\n",
       "      <td>4WD</td>\n",
       "      <td>Alloy wheels (21\"), Shift paddles, Sport packa...</td>\n",
       "      <td>2355.0</td>\n",
       "      <td>No</td>\n",
       "      <td>Part/Full Leather</td>\n",
       "      <td>1.0</td>\n",
       "      <td>efficient</td>\n",
       "      <td>0.0</td>\n",
       "      <td>215.0</td>\n",
       "      <td>2.359</td>\n",
       "      <td>Premium</td>\n",
       "      <td>Plus</td>\n",
       "      <td>Safety Premium Package</td>\n",
       "    </tr>\n",
       "    <tr>\n",
       "      <th>2</th>\n",
       "      <td>Mercedes-Benz A 45 AMG</td>\n",
       "      <td>Mercedes-Benz</td>\n",
       "      <td>PORT. TARRACO, MOLL DE LLEVANT, Nº 5, LOC. 6-8...</td>\n",
       "      <td>69900.0</td>\n",
       "      <td>Compact</td>\n",
       "      <td>Used</td>\n",
       "      <td>Yes</td>\n",
       "      <td>18900.0</td>\n",
       "      <td>Automatic</td>\n",
       "      <td>Benzine</td>\n",
       "      <td>Dealer</td>\n",
       "      <td>1991.0</td>\n",
       "      <td>8.0</td>\n",
       "      <td>162.0</td>\n",
       "      <td>4WD</td>\n",
       "      <td>Alloy wheels</td>\n",
       "      <td>1555.0</td>\n",
       "      <td>No</td>\n",
       "      <td>Part/Full Leather</td>\n",
       "      <td>2.0</td>\n",
       "      <td>unefficient</td>\n",
       "      <td>2.0</td>\n",
       "      <td>310.0</td>\n",
       "      <td>8.400</td>\n",
       "      <td>Standard</td>\n",
       "      <td>Standard</td>\n",
       "      <td>Safety Premium Plus Package</td>\n",
       "    </tr>\n",
       "    <tr>\n",
       "      <th>3</th>\n",
       "      <td>Mercedes-Benz A 35 AMG</td>\n",
       "      <td>Mercedes-Benz</td>\n",
       "      <td>Carrer de Provença, 31 Local,  8029 BARCELONA, ES</td>\n",
       "      <td>46990.0</td>\n",
       "      <td>Compact</td>\n",
       "      <td>Used</td>\n",
       "      <td>Yes</td>\n",
       "      <td>18995.0</td>\n",
       "      <td>Automatic</td>\n",
       "      <td>Benzine</td>\n",
       "      <td>Dealer</td>\n",
       "      <td>1991.0</td>\n",
       "      <td>7.0</td>\n",
       "      <td>169.0</td>\n",
       "      <td>4WD</td>\n",
       "      <td>Sport seats</td>\n",
       "      <td>1455.0</td>\n",
       "      <td>No</td>\n",
       "      <td>Part/Full Leather</td>\n",
       "      <td>2.0</td>\n",
       "      <td>unefficient</td>\n",
       "      <td>2.0</td>\n",
       "      <td>225.0</td>\n",
       "      <td>7.300</td>\n",
       "      <td>Standard</td>\n",
       "      <td>Standard</td>\n",
       "      <td>Safety Premium Package</td>\n",
       "    </tr>\n",
       "    <tr>\n",
       "      <th>4</th>\n",
       "      <td>Mercedes-Benz A 45 AMG</td>\n",
       "      <td>Mercedes-Benz</td>\n",
       "      <td>CARRIL ARAGONES 4,  30007 CASILLAS, ES</td>\n",
       "      <td>16800.0</td>\n",
       "      <td>Compact</td>\n",
       "      <td>Used</td>\n",
       "      <td>Yes</td>\n",
       "      <td>197000.0</td>\n",
       "      <td>Automatic</td>\n",
       "      <td>Diesel</td>\n",
       "      <td>Dealer</td>\n",
       "      <td>2143.0</td>\n",
       "      <td>7.0</td>\n",
       "      <td>162.0</td>\n",
       "      <td>4WD</td>\n",
       "      <td>Alloy wheels</td>\n",
       "      <td>1545.0</td>\n",
       "      <td>No</td>\n",
       "      <td>Part/Full Leather</td>\n",
       "      <td>2.0</td>\n",
       "      <td>unefficient</td>\n",
       "      <td>7.0</td>\n",
       "      <td>100.0</td>\n",
       "      <td>4.900</td>\n",
       "      <td>Standard</td>\n",
       "      <td>Standard</td>\n",
       "      <td>Safety Premium Plus Package</td>\n",
       "    </tr>\n",
       "  </tbody>\n",
       "</table>\n",
       "</div>"
      ],
      "text/plain": [
       "               make_model           make  \\\n",
       "0     Mercedes-Benz A 160  Mercedes-Benz   \n",
       "1   Mercedes-Benz EQE 350  Mercedes-Benz   \n",
       "2  Mercedes-Benz A 45 AMG  Mercedes-Benz   \n",
       "3  Mercedes-Benz A 35 AMG  Mercedes-Benz   \n",
       "4  Mercedes-Benz A 45 AMG  Mercedes-Benz   \n",
       "\n",
       "                                            location    price body_type  \\\n",
       "0  P.I. EL PALMAR C/FORJA 6,  11500 PUERTO DE SAN...  16950.0   Compact   \n",
       "1       APARTADO DE CORREOS 1032,  26140 LOGROÑO, ES  80900.0   Compact   \n",
       "2  PORT. TARRACO, MOLL DE LLEVANT, Nº 5, LOC. 6-8...  69900.0   Compact   \n",
       "3  Carrer de Provença, 31 Local,  8029 BARCELONA, ES  46990.0   Compact   \n",
       "4             CARRIL ARAGONES 4,  30007 CASILLAS, ES  16800.0   Compact   \n",
       "\n",
       "             type warranty   mileage    gearbox fuel_type  seller  \\\n",
       "0            Used      Yes  120200.0     Manual    Diesel  Dealer   \n",
       "1  Pre-registered      Yes    5000.0  Automatic  Electric  Dealer   \n",
       "2            Used      Yes   18900.0  Automatic   Benzine  Dealer   \n",
       "3            Used      Yes   18995.0  Automatic   Benzine  Dealer   \n",
       "4            Used      Yes  197000.0  Automatic    Diesel  Dealer   \n",
       "\n",
       "   engine_size  gears  co_emissions drivetrain  \\\n",
       "0       1595.0    5.0          98.0      Front   \n",
       "1          1.0    1.0           0.0        4WD   \n",
       "2       1991.0    8.0         162.0        4WD   \n",
       "3       1991.0    7.0         169.0        4WD   \n",
       "4       2143.0    7.0         162.0        4WD   \n",
       "\n",
       "                                              extras  empty_weight  \\\n",
       "0                                       Alloy wheels        1270.0   \n",
       "1  Alloy wheels (21\"), Shift paddles, Sport packa...        2355.0   \n",
       "2                                       Alloy wheels        1555.0   \n",
       "3                                        Sport seats        1455.0   \n",
       "4                                       Alloy wheels        1545.0   \n",
       "\n",
       "  full_service_history         upholstery  previous_owner  \\\n",
       "0                   No              Cloth             2.0   \n",
       "1                   No  Part/Full Leather             1.0   \n",
       "2                   No  Part/Full Leather             2.0   \n",
       "3                   No  Part/Full Leather             2.0   \n",
       "4                   No  Part/Full Leather             2.0   \n",
       "\n",
       "  energy_efficiency_class  age  power_kW  cons_avg  \\\n",
       "0               efficient  6.0      75.0     3.800   \n",
       "1               efficient  0.0     215.0     2.359   \n",
       "2             unefficient  2.0     310.0     8.400   \n",
       "3             unefficient  2.0     225.0     7.300   \n",
       "4             unefficient  7.0     100.0     4.900   \n",
       "\n",
       "  comfort_&_convenience_Package entertainment_&_media_Package  \\\n",
       "0                      Standard                      Standard   \n",
       "1                       Premium                          Plus   \n",
       "2                      Standard                      Standard   \n",
       "3                      Standard                      Standard   \n",
       "4                      Standard                      Standard   \n",
       "\n",
       "     safety_&_security_Package  \n",
       "0       Safety Premium Package  \n",
       "1       Safety Premium Package  \n",
       "2  Safety Premium Plus Package  \n",
       "3       Safety Premium Package  \n",
       "4  Safety Premium Plus Package  "
      ]
     },
     "execution_count": 91,
     "metadata": {},
     "output_type": "execute_result"
    }
   ],
   "source": [
    "df.head()"
   ]
  },
  {
   "cell_type": "code",
   "execution_count": 92,
   "metadata": {},
   "outputs": [
    {
     "data": {
      "text/plain": [
       "(26711, 27)"
      ]
     },
     "execution_count": 92,
     "metadata": {},
     "output_type": "execute_result"
    }
   ],
   "source": [
    "df.shape"
   ]
  },
  {
   "cell_type": "code",
   "execution_count": 93,
   "metadata": {},
   "outputs": [
    {
     "name": "stdout",
     "output_type": "stream",
     "text": [
      "<class 'pandas.core.frame.DataFrame'>\n",
      "RangeIndex: 26711 entries, 0 to 26710\n",
      "Data columns (total 27 columns):\n",
      " #   Column                         Non-Null Count  Dtype  \n",
      "---  ------                         --------------  -----  \n",
      " 0   make_model                     26711 non-null  object \n",
      " 1   make                           26711 non-null  object \n",
      " 2   location                       26711 non-null  object \n",
      " 3   price                          26711 non-null  float64\n",
      " 4   body_type                      26711 non-null  object \n",
      " 5   type                           26711 non-null  object \n",
      " 6   warranty                       26711 non-null  object \n",
      " 7   mileage                        26711 non-null  float64\n",
      " 8   gearbox                        26711 non-null  object \n",
      " 9   fuel_type                      26711 non-null  object \n",
      " 10  seller                         26711 non-null  object \n",
      " 11  engine_size                    26711 non-null  float64\n",
      " 12  gears                          26711 non-null  float64\n",
      " 13  co_emissions                   26711 non-null  float64\n",
      " 14  drivetrain                     26711 non-null  object \n",
      " 15  extras                         26711 non-null  object \n",
      " 16  empty_weight                   26711 non-null  float64\n",
      " 17  full_service_history           26711 non-null  object \n",
      " 18  upholstery                     26711 non-null  object \n",
      " 19  previous_owner                 26711 non-null  float64\n",
      " 20  energy_efficiency_class        26711 non-null  object \n",
      " 21  age                            26711 non-null  float64\n",
      " 22  power_kW                       26711 non-null  float64\n",
      " 23  cons_avg                       26711 non-null  float64\n",
      " 24  comfort_&_convenience_Package  26711 non-null  object \n",
      " 25  entertainment_&_media_Package  26711 non-null  object \n",
      " 26  safety_&_security_Package      26711 non-null  object \n",
      "dtypes: float64(10), object(17)\n",
      "memory usage: 5.5+ MB\n"
     ]
    }
   ],
   "source": [
    "df.info()"
   ]
  },
  {
   "cell_type": "code",
   "execution_count": 94,
   "metadata": {},
   "outputs": [
    {
     "data": {
      "text/plain": [
       "1815"
      ]
     },
     "execution_count": 94,
     "metadata": {},
     "output_type": "execute_result"
    }
   ],
   "source": [
    "df.duplicated().sum()"
   ]
  },
  {
   "cell_type": "code",
   "execution_count": 95,
   "metadata": {},
   "outputs": [],
   "source": [
    "df.drop_duplicates(inplace=True)"
   ]
  },
  {
   "cell_type": "code",
   "execution_count": 96,
   "metadata": {},
   "outputs": [
    {
     "data": {
      "text/plain": [
       "0"
      ]
     },
     "execution_count": 96,
     "metadata": {},
     "output_type": "execute_result"
    }
   ],
   "source": [
    "df.duplicated().sum()"
   ]
  },
  {
   "cell_type": "code",
   "execution_count": 97,
   "metadata": {},
   "outputs": [
    {
     "data": {
      "text/html": [
       "<div>\n",
       "<style scoped>\n",
       "    .dataframe tbody tr th:only-of-type {\n",
       "        vertical-align: middle;\n",
       "    }\n",
       "\n",
       "    .dataframe tbody tr th {\n",
       "        vertical-align: top;\n",
       "    }\n",
       "\n",
       "    .dataframe thead th {\n",
       "        text-align: right;\n",
       "    }\n",
       "</style>\n",
       "<table border=\"1\" class=\"dataframe\">\n",
       "  <thead>\n",
       "    <tr style=\"text-align: right;\">\n",
       "      <th></th>\n",
       "      <th>price</th>\n",
       "      <th>mileage</th>\n",
       "      <th>engine_size</th>\n",
       "      <th>gears</th>\n",
       "      <th>co_emissions</th>\n",
       "      <th>empty_weight</th>\n",
       "      <th>previous_owner</th>\n",
       "      <th>age</th>\n",
       "      <th>power_kW</th>\n",
       "      <th>cons_avg</th>\n",
       "    </tr>\n",
       "  </thead>\n",
       "  <tbody>\n",
       "    <tr>\n",
       "      <th>count</th>\n",
       "      <td>24896.000000</td>\n",
       "      <td>24896.000000</td>\n",
       "      <td>24896.000000</td>\n",
       "      <td>24896.000000</td>\n",
       "      <td>24896.000000</td>\n",
       "      <td>24896.000000</td>\n",
       "      <td>24896.000000</td>\n",
       "      <td>24896.000000</td>\n",
       "      <td>24896.000000</td>\n",
       "      <td>24896.000000</td>\n",
       "    </tr>\n",
       "    <tr>\n",
       "      <th>mean</th>\n",
       "      <td>23267.093067</td>\n",
       "      <td>67626.156910</td>\n",
       "      <td>1698.132150</td>\n",
       "      <td>5.774582</td>\n",
       "      <td>129.384751</td>\n",
       "      <td>1409.004820</td>\n",
       "      <td>1.458507</td>\n",
       "      <td>5.128213</td>\n",
       "      <td>117.265284</td>\n",
       "      <td>5.540101</td>\n",
       "    </tr>\n",
       "    <tr>\n",
       "      <th>std</th>\n",
       "      <td>20929.617776</td>\n",
       "      <td>61708.674086</td>\n",
       "      <td>789.478406</td>\n",
       "      <td>1.407822</td>\n",
       "      <td>54.363831</td>\n",
       "      <td>299.565866</td>\n",
       "      <td>0.849019</td>\n",
       "      <td>4.607968</td>\n",
       "      <td>66.075700</td>\n",
       "      <td>2.226174</td>\n",
       "    </tr>\n",
       "    <tr>\n",
       "      <th>min</th>\n",
       "      <td>490.000000</td>\n",
       "      <td>0.000000</td>\n",
       "      <td>0.000000</td>\n",
       "      <td>1.000000</td>\n",
       "      <td>0.000000</td>\n",
       "      <td>347.000000</td>\n",
       "      <td>1.000000</td>\n",
       "      <td>0.000000</td>\n",
       "      <td>33.000000</td>\n",
       "      <td>0.000000</td>\n",
       "    </tr>\n",
       "    <tr>\n",
       "      <th>25%</th>\n",
       "      <td>12480.000000</td>\n",
       "      <td>19000.000000</td>\n",
       "      <td>1242.000000</td>\n",
       "      <td>5.000000</td>\n",
       "      <td>106.000000</td>\n",
       "      <td>1205.000000</td>\n",
       "      <td>1.000000</td>\n",
       "      <td>2.000000</td>\n",
       "      <td>77.000000</td>\n",
       "      <td>4.300000</td>\n",
       "    </tr>\n",
       "    <tr>\n",
       "      <th>50%</th>\n",
       "      <td>17990.000000</td>\n",
       "      <td>52862.500000</td>\n",
       "      <td>1580.000000</td>\n",
       "      <td>6.000000</td>\n",
       "      <td>123.000000</td>\n",
       "      <td>1365.000000</td>\n",
       "      <td>1.000000</td>\n",
       "      <td>4.000000</td>\n",
       "      <td>97.000000</td>\n",
       "      <td>5.100000</td>\n",
       "    </tr>\n",
       "    <tr>\n",
       "      <th>75%</th>\n",
       "      <td>27900.000000</td>\n",
       "      <td>99532.250000</td>\n",
       "      <td>1969.000000</td>\n",
       "      <td>6.000000</td>\n",
       "      <td>150.000000</td>\n",
       "      <td>1575.000000</td>\n",
       "      <td>2.000000</td>\n",
       "      <td>7.000000</td>\n",
       "      <td>132.000000</td>\n",
       "      <td>6.400000</td>\n",
       "    </tr>\n",
       "    <tr>\n",
       "      <th>max</th>\n",
       "      <td>549000.000000</td>\n",
       "      <td>667128.000000</td>\n",
       "      <td>6300.000000</td>\n",
       "      <td>8.000000</td>\n",
       "      <td>399.000000</td>\n",
       "      <td>3150.000000</td>\n",
       "      <td>9.000000</td>\n",
       "      <td>20.000000</td>\n",
       "      <td>450.000000</td>\n",
       "      <td>18.300000</td>\n",
       "    </tr>\n",
       "  </tbody>\n",
       "</table>\n",
       "</div>"
      ],
      "text/plain": [
       "               price        mileage   engine_size         gears  co_emissions  \\\n",
       "count   24896.000000   24896.000000  24896.000000  24896.000000  24896.000000   \n",
       "mean    23267.093067   67626.156910   1698.132150      5.774582    129.384751   \n",
       "std     20929.617776   61708.674086    789.478406      1.407822     54.363831   \n",
       "min       490.000000       0.000000      0.000000      1.000000      0.000000   \n",
       "25%     12480.000000   19000.000000   1242.000000      5.000000    106.000000   \n",
       "50%     17990.000000   52862.500000   1580.000000      6.000000    123.000000   \n",
       "75%     27900.000000   99532.250000   1969.000000      6.000000    150.000000   \n",
       "max    549000.000000  667128.000000   6300.000000      8.000000    399.000000   \n",
       "\n",
       "       empty_weight  previous_owner           age      power_kW      cons_avg  \n",
       "count  24896.000000    24896.000000  24896.000000  24896.000000  24896.000000  \n",
       "mean    1409.004820        1.458507      5.128213    117.265284      5.540101  \n",
       "std      299.565866        0.849019      4.607968     66.075700      2.226174  \n",
       "min      347.000000        1.000000      0.000000     33.000000      0.000000  \n",
       "25%     1205.000000        1.000000      2.000000     77.000000      4.300000  \n",
       "50%     1365.000000        1.000000      4.000000     97.000000      5.100000  \n",
       "75%     1575.000000        2.000000      7.000000    132.000000      6.400000  \n",
       "max     3150.000000        9.000000     20.000000    450.000000     18.300000  "
      ]
     },
     "execution_count": 97,
     "metadata": {},
     "output_type": "execute_result"
    }
   ],
   "source": [
    "df.describe()"
   ]
  },
  {
   "cell_type": "code",
   "execution_count": 98,
   "metadata": {},
   "outputs": [
    {
     "data": {
      "text/html": [
       "<div>\n",
       "<style scoped>\n",
       "    .dataframe tbody tr th:only-of-type {\n",
       "        vertical-align: middle;\n",
       "    }\n",
       "\n",
       "    .dataframe tbody tr th {\n",
       "        vertical-align: top;\n",
       "    }\n",
       "\n",
       "    .dataframe thead th {\n",
       "        text-align: right;\n",
       "    }\n",
       "</style>\n",
       "<table border=\"1\" class=\"dataframe\">\n",
       "  <thead>\n",
       "    <tr style=\"text-align: right;\">\n",
       "      <th></th>\n",
       "      <th>price</th>\n",
       "      <th>mileage</th>\n",
       "      <th>engine_size</th>\n",
       "      <th>gears</th>\n",
       "      <th>co_emissions</th>\n",
       "      <th>empty_weight</th>\n",
       "      <th>previous_owner</th>\n",
       "      <th>age</th>\n",
       "      <th>power_kW</th>\n",
       "      <th>cons_avg</th>\n",
       "    </tr>\n",
       "  </thead>\n",
       "  <tbody>\n",
       "    <tr>\n",
       "      <th>price</th>\n",
       "      <td>1.000000</td>\n",
       "      <td>-0.389668</td>\n",
       "      <td>0.452135</td>\n",
       "      <td>0.193783</td>\n",
       "      <td>0.241257</td>\n",
       "      <td>0.580873</td>\n",
       "      <td>-0.181174</td>\n",
       "      <td>-0.394801</td>\n",
       "      <td>0.708968</td>\n",
       "      <td>0.251454</td>\n",
       "    </tr>\n",
       "    <tr>\n",
       "      <th>mileage</th>\n",
       "      <td>-0.389668</td>\n",
       "      <td>1.000000</td>\n",
       "      <td>0.129491</td>\n",
       "      <td>-0.025685</td>\n",
       "      <td>0.170655</td>\n",
       "      <td>0.004025</td>\n",
       "      <td>0.368222</td>\n",
       "      <td>0.731396</td>\n",
       "      <td>-0.095839</td>\n",
       "      <td>0.139659</td>\n",
       "    </tr>\n",
       "    <tr>\n",
       "      <th>engine_size</th>\n",
       "      <td>0.452135</td>\n",
       "      <td>0.129491</td>\n",
       "      <td>1.000000</td>\n",
       "      <td>0.249758</td>\n",
       "      <td>0.672491</td>\n",
       "      <td>0.559162</td>\n",
       "      <td>0.083194</td>\n",
       "      <td>0.194488</td>\n",
       "      <td>0.770654</td>\n",
       "      <td>0.671041</td>\n",
       "    </tr>\n",
       "    <tr>\n",
       "      <th>gears</th>\n",
       "      <td>0.193783</td>\n",
       "      <td>-0.025685</td>\n",
       "      <td>0.249758</td>\n",
       "      <td>1.000000</td>\n",
       "      <td>0.239586</td>\n",
       "      <td>0.290264</td>\n",
       "      <td>-0.048624</td>\n",
       "      <td>-0.090815</td>\n",
       "      <td>0.272957</td>\n",
       "      <td>0.174519</td>\n",
       "    </tr>\n",
       "    <tr>\n",
       "      <th>co_emissions</th>\n",
       "      <td>0.241257</td>\n",
       "      <td>0.170655</td>\n",
       "      <td>0.672491</td>\n",
       "      <td>0.239586</td>\n",
       "      <td>1.000000</td>\n",
       "      <td>0.326153</td>\n",
       "      <td>0.118931</td>\n",
       "      <td>0.317986</td>\n",
       "      <td>0.524973</td>\n",
       "      <td>0.812006</td>\n",
       "    </tr>\n",
       "    <tr>\n",
       "      <th>empty_weight</th>\n",
       "      <td>0.580873</td>\n",
       "      <td>0.004025</td>\n",
       "      <td>0.559162</td>\n",
       "      <td>0.290264</td>\n",
       "      <td>0.326153</td>\n",
       "      <td>1.000000</td>\n",
       "      <td>-0.049365</td>\n",
       "      <td>-0.073288</td>\n",
       "      <td>0.665614</td>\n",
       "      <td>0.299871</td>\n",
       "    </tr>\n",
       "    <tr>\n",
       "      <th>previous_owner</th>\n",
       "      <td>-0.181174</td>\n",
       "      <td>0.368222</td>\n",
       "      <td>0.083194</td>\n",
       "      <td>-0.048624</td>\n",
       "      <td>0.118931</td>\n",
       "      <td>-0.049365</td>\n",
       "      <td>1.000000</td>\n",
       "      <td>0.469071</td>\n",
       "      <td>-0.013652</td>\n",
       "      <td>0.139314</td>\n",
       "    </tr>\n",
       "    <tr>\n",
       "      <th>age</th>\n",
       "      <td>-0.394801</td>\n",
       "      <td>0.731396</td>\n",
       "      <td>0.194488</td>\n",
       "      <td>-0.090815</td>\n",
       "      <td>0.317986</td>\n",
       "      <td>-0.073288</td>\n",
       "      <td>0.469071</td>\n",
       "      <td>1.000000</td>\n",
       "      <td>-0.048920</td>\n",
       "      <td>0.342378</td>\n",
       "    </tr>\n",
       "    <tr>\n",
       "      <th>power_kW</th>\n",
       "      <td>0.708968</td>\n",
       "      <td>-0.095839</td>\n",
       "      <td>0.770654</td>\n",
       "      <td>0.272957</td>\n",
       "      <td>0.524973</td>\n",
       "      <td>0.665614</td>\n",
       "      <td>-0.013652</td>\n",
       "      <td>-0.048920</td>\n",
       "      <td>1.000000</td>\n",
       "      <td>0.569033</td>\n",
       "    </tr>\n",
       "    <tr>\n",
       "      <th>cons_avg</th>\n",
       "      <td>0.251454</td>\n",
       "      <td>0.139659</td>\n",
       "      <td>0.671041</td>\n",
       "      <td>0.174519</td>\n",
       "      <td>0.812006</td>\n",
       "      <td>0.299871</td>\n",
       "      <td>0.139314</td>\n",
       "      <td>0.342378</td>\n",
       "      <td>0.569033</td>\n",
       "      <td>1.000000</td>\n",
       "    </tr>\n",
       "  </tbody>\n",
       "</table>\n",
       "</div>"
      ],
      "text/plain": [
       "                   price   mileage  engine_size     gears  co_emissions  \\\n",
       "price           1.000000 -0.389668     0.452135  0.193783      0.241257   \n",
       "mileage        -0.389668  1.000000     0.129491 -0.025685      0.170655   \n",
       "engine_size     0.452135  0.129491     1.000000  0.249758      0.672491   \n",
       "gears           0.193783 -0.025685     0.249758  1.000000      0.239586   \n",
       "co_emissions    0.241257  0.170655     0.672491  0.239586      1.000000   \n",
       "empty_weight    0.580873  0.004025     0.559162  0.290264      0.326153   \n",
       "previous_owner -0.181174  0.368222     0.083194 -0.048624      0.118931   \n",
       "age            -0.394801  0.731396     0.194488 -0.090815      0.317986   \n",
       "power_kW        0.708968 -0.095839     0.770654  0.272957      0.524973   \n",
       "cons_avg        0.251454  0.139659     0.671041  0.174519      0.812006   \n",
       "\n",
       "                empty_weight  previous_owner       age  power_kW  cons_avg  \n",
       "price               0.580873       -0.181174 -0.394801  0.708968  0.251454  \n",
       "mileage             0.004025        0.368222  0.731396 -0.095839  0.139659  \n",
       "engine_size         0.559162        0.083194  0.194488  0.770654  0.671041  \n",
       "gears               0.290264       -0.048624 -0.090815  0.272957  0.174519  \n",
       "co_emissions        0.326153        0.118931  0.317986  0.524973  0.812006  \n",
       "empty_weight        1.000000       -0.049365 -0.073288  0.665614  0.299871  \n",
       "previous_owner     -0.049365        1.000000  0.469071 -0.013652  0.139314  \n",
       "age                -0.073288        0.469071  1.000000 -0.048920  0.342378  \n",
       "power_kW            0.665614       -0.013652 -0.048920  1.000000  0.569033  \n",
       "cons_avg            0.299871        0.139314  0.342378  0.569033  1.000000  "
      ]
     },
     "execution_count": 98,
     "metadata": {},
     "output_type": "execute_result"
    }
   ],
   "source": [
    "df.corr(numeric_only=True)"
   ]
  },
  {
   "cell_type": "markdown",
   "metadata": {
    "id": "t-zj-mrMF-7R"
   },
   "source": [
    "## Feature Engineering\n",
    "\n",
    "- Focus on the \"Extras\" column\n",
    "- Think how a categorical feature can be converted into ordinal."
   ]
  },
  {
   "cell_type": "code",
   "execution_count": 99,
   "metadata": {},
   "outputs": [
    {
     "data": {
      "text/plain": [
       "0                                             Alloy wheels\n",
       "1        Alloy wheels (21\"), Shift paddles, Sport packa...\n",
       "2                                             Alloy wheels\n",
       "3                                              Sport seats\n",
       "4                                             Alloy wheels\n",
       "                               ...                        \n",
       "26706                                         Alloy wheels\n",
       "26707                    Alloy wheels (16\"), Trailer hitch\n",
       "26708    Alloy wheels, Automatically dimming interior m...\n",
       "26709    Alloy wheels (18\"), Automatically dimming inte...\n",
       "26710    Alloy wheels, Automatically dimming interior m...\n",
       "Name: extras, Length: 24896, dtype: object"
      ]
     },
     "execution_count": 99,
     "metadata": {},
     "output_type": "execute_result"
    }
   ],
   "source": [
    "df[\"extras\"]"
   ]
  },
  {
   "cell_type": "code",
   "execution_count": 100,
   "metadata": {},
   "outputs": [
    {
     "data": {
      "text/plain": [
       "0        1\n",
       "1        6\n",
       "2        1\n",
       "3        1\n",
       "4        1\n",
       "        ..\n",
       "26706    1\n",
       "26707    2\n",
       "26708    3\n",
       "26709    2\n",
       "26710    4\n",
       "Name: extras, Length: 24896, dtype: int64"
      ]
     },
     "execution_count": 100,
     "metadata": {},
     "output_type": "execute_result"
    }
   ],
   "source": [
    "df.extras.str.count(\",\").add(1)"
   ]
  },
  {
   "cell_type": "code",
   "execution_count": 101,
   "metadata": {},
   "outputs": [
    {
     "data": {
      "text/plain": [
       "0        1\n",
       "1        6\n",
       "2        1\n",
       "3        1\n",
       "4        1\n",
       "        ..\n",
       "26706    1\n",
       "26707    2\n",
       "26708    3\n",
       "26709    2\n",
       "26710    4\n",
       "Name: extras, Length: 24896, dtype: int64"
      ]
     },
     "execution_count": 101,
     "metadata": {},
     "output_type": "execute_result"
    }
   ],
   "source": [
    "df[\"extras\"].apply(lambda x: x.count(\",\")).add(1)"
   ]
  },
  {
   "cell_type": "markdown",
   "metadata": {
    "id": "BE4GulyIF-7R"
   },
   "source": [
    "### Converting the Extras feature from object to numeric"
   ]
  },
  {
   "cell_type": "code",
   "execution_count": 102,
   "metadata": {
    "id": "0PM9kzjQF-7S"
   },
   "outputs": [],
   "source": [
    "df[\"extras\"] = df[\"extras\"].apply(lambda x: x.count(\",\")).add(1)"
   ]
  },
  {
   "cell_type": "code",
   "execution_count": 103,
   "metadata": {},
   "outputs": [
    {
     "data": {
      "text/html": [
       "<div>\n",
       "<style scoped>\n",
       "    .dataframe tbody tr th:only-of-type {\n",
       "        vertical-align: middle;\n",
       "    }\n",
       "\n",
       "    .dataframe tbody tr th {\n",
       "        vertical-align: top;\n",
       "    }\n",
       "\n",
       "    .dataframe thead th {\n",
       "        text-align: right;\n",
       "    }\n",
       "</style>\n",
       "<table border=\"1\" class=\"dataframe\">\n",
       "  <thead>\n",
       "    <tr style=\"text-align: right;\">\n",
       "      <th></th>\n",
       "      <th>make_model</th>\n",
       "      <th>make</th>\n",
       "      <th>location</th>\n",
       "      <th>price</th>\n",
       "      <th>body_type</th>\n",
       "      <th>type</th>\n",
       "      <th>warranty</th>\n",
       "      <th>mileage</th>\n",
       "      <th>gearbox</th>\n",
       "      <th>fuel_type</th>\n",
       "      <th>seller</th>\n",
       "      <th>engine_size</th>\n",
       "      <th>gears</th>\n",
       "      <th>co_emissions</th>\n",
       "      <th>drivetrain</th>\n",
       "      <th>extras</th>\n",
       "      <th>empty_weight</th>\n",
       "      <th>full_service_history</th>\n",
       "      <th>upholstery</th>\n",
       "      <th>previous_owner</th>\n",
       "      <th>energy_efficiency_class</th>\n",
       "      <th>age</th>\n",
       "      <th>power_kW</th>\n",
       "      <th>cons_avg</th>\n",
       "      <th>comfort_&amp;_convenience_Package</th>\n",
       "      <th>entertainment_&amp;_media_Package</th>\n",
       "      <th>safety_&amp;_security_Package</th>\n",
       "    </tr>\n",
       "  </thead>\n",
       "  <tbody>\n",
       "    <tr>\n",
       "      <th>0</th>\n",
       "      <td>Mercedes-Benz A 160</td>\n",
       "      <td>Mercedes-Benz</td>\n",
       "      <td>P.I. EL PALMAR C/FORJA 6,  11500 PUERTO DE SAN...</td>\n",
       "      <td>16950.0</td>\n",
       "      <td>Compact</td>\n",
       "      <td>Used</td>\n",
       "      <td>Yes</td>\n",
       "      <td>120200.0</td>\n",
       "      <td>Manual</td>\n",
       "      <td>Diesel</td>\n",
       "      <td>Dealer</td>\n",
       "      <td>1595.0</td>\n",
       "      <td>5.0</td>\n",
       "      <td>98.0</td>\n",
       "      <td>Front</td>\n",
       "      <td>1</td>\n",
       "      <td>1270.0</td>\n",
       "      <td>No</td>\n",
       "      <td>Cloth</td>\n",
       "      <td>2.0</td>\n",
       "      <td>efficient</td>\n",
       "      <td>6.0</td>\n",
       "      <td>75.0</td>\n",
       "      <td>3.800</td>\n",
       "      <td>Standard</td>\n",
       "      <td>Standard</td>\n",
       "      <td>Safety Premium Package</td>\n",
       "    </tr>\n",
       "    <tr>\n",
       "      <th>1</th>\n",
       "      <td>Mercedes-Benz EQE 350</td>\n",
       "      <td>Mercedes-Benz</td>\n",
       "      <td>APARTADO DE CORREOS 1032,  26140 LOGROÑO, ES</td>\n",
       "      <td>80900.0</td>\n",
       "      <td>Compact</td>\n",
       "      <td>Pre-registered</td>\n",
       "      <td>Yes</td>\n",
       "      <td>5000.0</td>\n",
       "      <td>Automatic</td>\n",
       "      <td>Electric</td>\n",
       "      <td>Dealer</td>\n",
       "      <td>1.0</td>\n",
       "      <td>1.0</td>\n",
       "      <td>0.0</td>\n",
       "      <td>4WD</td>\n",
       "      <td>6</td>\n",
       "      <td>2355.0</td>\n",
       "      <td>No</td>\n",
       "      <td>Part/Full Leather</td>\n",
       "      <td>1.0</td>\n",
       "      <td>efficient</td>\n",
       "      <td>0.0</td>\n",
       "      <td>215.0</td>\n",
       "      <td>2.359</td>\n",
       "      <td>Premium</td>\n",
       "      <td>Plus</td>\n",
       "      <td>Safety Premium Package</td>\n",
       "    </tr>\n",
       "    <tr>\n",
       "      <th>2</th>\n",
       "      <td>Mercedes-Benz A 45 AMG</td>\n",
       "      <td>Mercedes-Benz</td>\n",
       "      <td>PORT. TARRACO, MOLL DE LLEVANT, Nº 5, LOC. 6-8...</td>\n",
       "      <td>69900.0</td>\n",
       "      <td>Compact</td>\n",
       "      <td>Used</td>\n",
       "      <td>Yes</td>\n",
       "      <td>18900.0</td>\n",
       "      <td>Automatic</td>\n",
       "      <td>Benzine</td>\n",
       "      <td>Dealer</td>\n",
       "      <td>1991.0</td>\n",
       "      <td>8.0</td>\n",
       "      <td>162.0</td>\n",
       "      <td>4WD</td>\n",
       "      <td>1</td>\n",
       "      <td>1555.0</td>\n",
       "      <td>No</td>\n",
       "      <td>Part/Full Leather</td>\n",
       "      <td>2.0</td>\n",
       "      <td>unefficient</td>\n",
       "      <td>2.0</td>\n",
       "      <td>310.0</td>\n",
       "      <td>8.400</td>\n",
       "      <td>Standard</td>\n",
       "      <td>Standard</td>\n",
       "      <td>Safety Premium Plus Package</td>\n",
       "    </tr>\n",
       "    <tr>\n",
       "      <th>3</th>\n",
       "      <td>Mercedes-Benz A 35 AMG</td>\n",
       "      <td>Mercedes-Benz</td>\n",
       "      <td>Carrer de Provença, 31 Local,  8029 BARCELONA, ES</td>\n",
       "      <td>46990.0</td>\n",
       "      <td>Compact</td>\n",
       "      <td>Used</td>\n",
       "      <td>Yes</td>\n",
       "      <td>18995.0</td>\n",
       "      <td>Automatic</td>\n",
       "      <td>Benzine</td>\n",
       "      <td>Dealer</td>\n",
       "      <td>1991.0</td>\n",
       "      <td>7.0</td>\n",
       "      <td>169.0</td>\n",
       "      <td>4WD</td>\n",
       "      <td>1</td>\n",
       "      <td>1455.0</td>\n",
       "      <td>No</td>\n",
       "      <td>Part/Full Leather</td>\n",
       "      <td>2.0</td>\n",
       "      <td>unefficient</td>\n",
       "      <td>2.0</td>\n",
       "      <td>225.0</td>\n",
       "      <td>7.300</td>\n",
       "      <td>Standard</td>\n",
       "      <td>Standard</td>\n",
       "      <td>Safety Premium Package</td>\n",
       "    </tr>\n",
       "    <tr>\n",
       "      <th>4</th>\n",
       "      <td>Mercedes-Benz A 45 AMG</td>\n",
       "      <td>Mercedes-Benz</td>\n",
       "      <td>CARRIL ARAGONES 4,  30007 CASILLAS, ES</td>\n",
       "      <td>16800.0</td>\n",
       "      <td>Compact</td>\n",
       "      <td>Used</td>\n",
       "      <td>Yes</td>\n",
       "      <td>197000.0</td>\n",
       "      <td>Automatic</td>\n",
       "      <td>Diesel</td>\n",
       "      <td>Dealer</td>\n",
       "      <td>2143.0</td>\n",
       "      <td>7.0</td>\n",
       "      <td>162.0</td>\n",
       "      <td>4WD</td>\n",
       "      <td>1</td>\n",
       "      <td>1545.0</td>\n",
       "      <td>No</td>\n",
       "      <td>Part/Full Leather</td>\n",
       "      <td>2.0</td>\n",
       "      <td>unefficient</td>\n",
       "      <td>7.0</td>\n",
       "      <td>100.0</td>\n",
       "      <td>4.900</td>\n",
       "      <td>Standard</td>\n",
       "      <td>Standard</td>\n",
       "      <td>Safety Premium Plus Package</td>\n",
       "    </tr>\n",
       "  </tbody>\n",
       "</table>\n",
       "</div>"
      ],
      "text/plain": [
       "               make_model           make  \\\n",
       "0     Mercedes-Benz A 160  Mercedes-Benz   \n",
       "1   Mercedes-Benz EQE 350  Mercedes-Benz   \n",
       "2  Mercedes-Benz A 45 AMG  Mercedes-Benz   \n",
       "3  Mercedes-Benz A 35 AMG  Mercedes-Benz   \n",
       "4  Mercedes-Benz A 45 AMG  Mercedes-Benz   \n",
       "\n",
       "                                            location    price body_type  \\\n",
       "0  P.I. EL PALMAR C/FORJA 6,  11500 PUERTO DE SAN...  16950.0   Compact   \n",
       "1       APARTADO DE CORREOS 1032,  26140 LOGROÑO, ES  80900.0   Compact   \n",
       "2  PORT. TARRACO, MOLL DE LLEVANT, Nº 5, LOC. 6-8...  69900.0   Compact   \n",
       "3  Carrer de Provença, 31 Local,  8029 BARCELONA, ES  46990.0   Compact   \n",
       "4             CARRIL ARAGONES 4,  30007 CASILLAS, ES  16800.0   Compact   \n",
       "\n",
       "             type warranty   mileage    gearbox fuel_type  seller  \\\n",
       "0            Used      Yes  120200.0     Manual    Diesel  Dealer   \n",
       "1  Pre-registered      Yes    5000.0  Automatic  Electric  Dealer   \n",
       "2            Used      Yes   18900.0  Automatic   Benzine  Dealer   \n",
       "3            Used      Yes   18995.0  Automatic   Benzine  Dealer   \n",
       "4            Used      Yes  197000.0  Automatic    Diesel  Dealer   \n",
       "\n",
       "   engine_size  gears  co_emissions drivetrain  extras  empty_weight  \\\n",
       "0       1595.0    5.0          98.0      Front       1        1270.0   \n",
       "1          1.0    1.0           0.0        4WD       6        2355.0   \n",
       "2       1991.0    8.0         162.0        4WD       1        1555.0   \n",
       "3       1991.0    7.0         169.0        4WD       1        1455.0   \n",
       "4       2143.0    7.0         162.0        4WD       1        1545.0   \n",
       "\n",
       "  full_service_history         upholstery  previous_owner  \\\n",
       "0                   No              Cloth             2.0   \n",
       "1                   No  Part/Full Leather             1.0   \n",
       "2                   No  Part/Full Leather             2.0   \n",
       "3                   No  Part/Full Leather             2.0   \n",
       "4                   No  Part/Full Leather             2.0   \n",
       "\n",
       "  energy_efficiency_class  age  power_kW  cons_avg  \\\n",
       "0               efficient  6.0      75.0     3.800   \n",
       "1               efficient  0.0     215.0     2.359   \n",
       "2             unefficient  2.0     310.0     8.400   \n",
       "3             unefficient  2.0     225.0     7.300   \n",
       "4             unefficient  7.0     100.0     4.900   \n",
       "\n",
       "  comfort_&_convenience_Package entertainment_&_media_Package  \\\n",
       "0                      Standard                      Standard   \n",
       "1                       Premium                          Plus   \n",
       "2                      Standard                      Standard   \n",
       "3                      Standard                      Standard   \n",
       "4                      Standard                      Standard   \n",
       "\n",
       "     safety_&_security_Package  \n",
       "0       Safety Premium Package  \n",
       "1       Safety Premium Package  \n",
       "2  Safety Premium Plus Package  \n",
       "3       Safety Premium Package  \n",
       "4  Safety Premium Plus Package  "
      ]
     },
     "execution_count": 103,
     "metadata": {},
     "output_type": "execute_result"
    }
   ],
   "source": [
    "df.head()"
   ]
  },
  {
   "cell_type": "code",
   "execution_count": 104,
   "metadata": {},
   "outputs": [],
   "source": [
    "df.drop(columns=[\"make\", \"location\"], inplace=True)\n",
    "\n",
    "# make_model feature already gives us insight about make feature so we drop make feature.\n",
    "# We are dropping the location feature because we don't think it will have an effect on prices."
   ]
  },
  {
   "cell_type": "markdown",
   "metadata": {
    "id": "k5whiXJgF-7S"
   },
   "source": [
    "## multicollinearity control"
   ]
  },
  {
   "cell_type": "code",
   "execution_count": 105,
   "metadata": {
    "id": "cX7UfF2GF-7S"
   },
   "outputs": [],
   "source": [
    "def color_red(val):\n",
    "\n",
    "    if (val > 0.90 and val < 1) or (val < -0.90 and val > -1):\n",
    "        color = 'red'\n",
    "    else:\n",
    "        color = 'black'\n",
    "    return f'color: {color}'\n",
    "\n",
    "# This function will return the correlation between independent features coloured based on their correlation strength.\n",
    "# If the correlation is between (-0.90, +0.90), the value will be coloured red, otherwise black.\n",
    "\n",
    "# Linear models (linear regression, ridge, lasso, elasticnet, logistic regression) are badly affected by multicollinearity.\n",
    "# Regularisation models handle this problem gracefully as well as the overfitting situation."
   ]
  },
  {
   "cell_type": "code",
   "execution_count": 106,
   "metadata": {},
   "outputs": [
    {
     "data": {
      "text/html": [
       "<style type=\"text/css\">\n",
       "#T_a2c8d_row0_col0, #T_a2c8d_row0_col1, #T_a2c8d_row0_col2, #T_a2c8d_row0_col3, #T_a2c8d_row0_col4, #T_a2c8d_row0_col5, #T_a2c8d_row0_col6, #T_a2c8d_row0_col7, #T_a2c8d_row0_col8, #T_a2c8d_row0_col9, #T_a2c8d_row0_col10, #T_a2c8d_row1_col0, #T_a2c8d_row1_col1, #T_a2c8d_row1_col2, #T_a2c8d_row1_col3, #T_a2c8d_row1_col4, #T_a2c8d_row1_col5, #T_a2c8d_row1_col6, #T_a2c8d_row1_col7, #T_a2c8d_row1_col8, #T_a2c8d_row1_col9, #T_a2c8d_row1_col10, #T_a2c8d_row2_col0, #T_a2c8d_row2_col1, #T_a2c8d_row2_col2, #T_a2c8d_row2_col3, #T_a2c8d_row2_col4, #T_a2c8d_row2_col5, #T_a2c8d_row2_col6, #T_a2c8d_row2_col7, #T_a2c8d_row2_col8, #T_a2c8d_row2_col9, #T_a2c8d_row2_col10, #T_a2c8d_row3_col0, #T_a2c8d_row3_col1, #T_a2c8d_row3_col2, #T_a2c8d_row3_col3, #T_a2c8d_row3_col4, #T_a2c8d_row3_col5, #T_a2c8d_row3_col6, #T_a2c8d_row3_col7, #T_a2c8d_row3_col8, #T_a2c8d_row3_col9, #T_a2c8d_row3_col10, #T_a2c8d_row4_col0, #T_a2c8d_row4_col1, #T_a2c8d_row4_col2, #T_a2c8d_row4_col3, #T_a2c8d_row4_col4, #T_a2c8d_row4_col5, #T_a2c8d_row4_col6, #T_a2c8d_row4_col7, #T_a2c8d_row4_col8, #T_a2c8d_row4_col9, #T_a2c8d_row4_col10, #T_a2c8d_row5_col0, #T_a2c8d_row5_col1, #T_a2c8d_row5_col2, #T_a2c8d_row5_col3, #T_a2c8d_row5_col4, #T_a2c8d_row5_col5, #T_a2c8d_row5_col6, #T_a2c8d_row5_col7, #T_a2c8d_row5_col8, #T_a2c8d_row5_col9, #T_a2c8d_row5_col10, #T_a2c8d_row6_col0, #T_a2c8d_row6_col1, #T_a2c8d_row6_col2, #T_a2c8d_row6_col3, #T_a2c8d_row6_col4, #T_a2c8d_row6_col5, #T_a2c8d_row6_col6, #T_a2c8d_row6_col7, #T_a2c8d_row6_col8, #T_a2c8d_row6_col9, #T_a2c8d_row6_col10, #T_a2c8d_row7_col0, #T_a2c8d_row7_col1, #T_a2c8d_row7_col2, #T_a2c8d_row7_col3, #T_a2c8d_row7_col4, #T_a2c8d_row7_col5, #T_a2c8d_row7_col6, #T_a2c8d_row7_col7, #T_a2c8d_row7_col8, #T_a2c8d_row7_col9, #T_a2c8d_row7_col10, #T_a2c8d_row8_col0, #T_a2c8d_row8_col1, #T_a2c8d_row8_col2, #T_a2c8d_row8_col3, #T_a2c8d_row8_col4, #T_a2c8d_row8_col5, #T_a2c8d_row8_col6, #T_a2c8d_row8_col7, #T_a2c8d_row8_col8, #T_a2c8d_row8_col9, #T_a2c8d_row8_col10, #T_a2c8d_row9_col0, #T_a2c8d_row9_col1, #T_a2c8d_row9_col2, #T_a2c8d_row9_col3, #T_a2c8d_row9_col4, #T_a2c8d_row9_col5, #T_a2c8d_row9_col6, #T_a2c8d_row9_col7, #T_a2c8d_row9_col8, #T_a2c8d_row9_col9, #T_a2c8d_row9_col10, #T_a2c8d_row10_col0, #T_a2c8d_row10_col1, #T_a2c8d_row10_col2, #T_a2c8d_row10_col3, #T_a2c8d_row10_col4, #T_a2c8d_row10_col5, #T_a2c8d_row10_col6, #T_a2c8d_row10_col7, #T_a2c8d_row10_col8, #T_a2c8d_row10_col9, #T_a2c8d_row10_col10 {\n",
       "  color: black;\n",
       "}\n",
       "</style>\n",
       "<table id=\"T_a2c8d\">\n",
       "  <thead>\n",
       "    <tr>\n",
       "      <th class=\"blank level0\" >&nbsp;</th>\n",
       "      <th id=\"T_a2c8d_level0_col0\" class=\"col_heading level0 col0\" >price</th>\n",
       "      <th id=\"T_a2c8d_level0_col1\" class=\"col_heading level0 col1\" >mileage</th>\n",
       "      <th id=\"T_a2c8d_level0_col2\" class=\"col_heading level0 col2\" >engine_size</th>\n",
       "      <th id=\"T_a2c8d_level0_col3\" class=\"col_heading level0 col3\" >gears</th>\n",
       "      <th id=\"T_a2c8d_level0_col4\" class=\"col_heading level0 col4\" >co_emissions</th>\n",
       "      <th id=\"T_a2c8d_level0_col5\" class=\"col_heading level0 col5\" >extras</th>\n",
       "      <th id=\"T_a2c8d_level0_col6\" class=\"col_heading level0 col6\" >empty_weight</th>\n",
       "      <th id=\"T_a2c8d_level0_col7\" class=\"col_heading level0 col7\" >previous_owner</th>\n",
       "      <th id=\"T_a2c8d_level0_col8\" class=\"col_heading level0 col8\" >age</th>\n",
       "      <th id=\"T_a2c8d_level0_col9\" class=\"col_heading level0 col9\" >power_kW</th>\n",
       "      <th id=\"T_a2c8d_level0_col10\" class=\"col_heading level0 col10\" >cons_avg</th>\n",
       "    </tr>\n",
       "  </thead>\n",
       "  <tbody>\n",
       "    <tr>\n",
       "      <th id=\"T_a2c8d_level0_row0\" class=\"row_heading level0 row0\" >price</th>\n",
       "      <td id=\"T_a2c8d_row0_col0\" class=\"data row0 col0\" >1.000000</td>\n",
       "      <td id=\"T_a2c8d_row0_col1\" class=\"data row0 col1\" >-0.389668</td>\n",
       "      <td id=\"T_a2c8d_row0_col2\" class=\"data row0 col2\" >0.452135</td>\n",
       "      <td id=\"T_a2c8d_row0_col3\" class=\"data row0 col3\" >0.193783</td>\n",
       "      <td id=\"T_a2c8d_row0_col4\" class=\"data row0 col4\" >0.241257</td>\n",
       "      <td id=\"T_a2c8d_row0_col5\" class=\"data row0 col5\" >0.310176</td>\n",
       "      <td id=\"T_a2c8d_row0_col6\" class=\"data row0 col6\" >0.580873</td>\n",
       "      <td id=\"T_a2c8d_row0_col7\" class=\"data row0 col7\" >-0.181174</td>\n",
       "      <td id=\"T_a2c8d_row0_col8\" class=\"data row0 col8\" >-0.394801</td>\n",
       "      <td id=\"T_a2c8d_row0_col9\" class=\"data row0 col9\" >0.708968</td>\n",
       "      <td id=\"T_a2c8d_row0_col10\" class=\"data row0 col10\" >0.251454</td>\n",
       "    </tr>\n",
       "    <tr>\n",
       "      <th id=\"T_a2c8d_level0_row1\" class=\"row_heading level0 row1\" >mileage</th>\n",
       "      <td id=\"T_a2c8d_row1_col0\" class=\"data row1 col0\" >-0.389668</td>\n",
       "      <td id=\"T_a2c8d_row1_col1\" class=\"data row1 col1\" >1.000000</td>\n",
       "      <td id=\"T_a2c8d_row1_col2\" class=\"data row1 col2\" >0.129491</td>\n",
       "      <td id=\"T_a2c8d_row1_col3\" class=\"data row1 col3\" >-0.025685</td>\n",
       "      <td id=\"T_a2c8d_row1_col4\" class=\"data row1 col4\" >0.170655</td>\n",
       "      <td id=\"T_a2c8d_row1_col5\" class=\"data row1 col5\" >-0.180417</td>\n",
       "      <td id=\"T_a2c8d_row1_col6\" class=\"data row1 col6\" >0.004025</td>\n",
       "      <td id=\"T_a2c8d_row1_col7\" class=\"data row1 col7\" >0.368222</td>\n",
       "      <td id=\"T_a2c8d_row1_col8\" class=\"data row1 col8\" >0.731396</td>\n",
       "      <td id=\"T_a2c8d_row1_col9\" class=\"data row1 col9\" >-0.095839</td>\n",
       "      <td id=\"T_a2c8d_row1_col10\" class=\"data row1 col10\" >0.139659</td>\n",
       "    </tr>\n",
       "    <tr>\n",
       "      <th id=\"T_a2c8d_level0_row2\" class=\"row_heading level0 row2\" >engine_size</th>\n",
       "      <td id=\"T_a2c8d_row2_col0\" class=\"data row2 col0\" >0.452135</td>\n",
       "      <td id=\"T_a2c8d_row2_col1\" class=\"data row2 col1\" >0.129491</td>\n",
       "      <td id=\"T_a2c8d_row2_col2\" class=\"data row2 col2\" >1.000000</td>\n",
       "      <td id=\"T_a2c8d_row2_col3\" class=\"data row2 col3\" >0.249758</td>\n",
       "      <td id=\"T_a2c8d_row2_col4\" class=\"data row2 col4\" >0.672491</td>\n",
       "      <td id=\"T_a2c8d_row2_col5\" class=\"data row2 col5\" >0.185866</td>\n",
       "      <td id=\"T_a2c8d_row2_col6\" class=\"data row2 col6\" >0.559162</td>\n",
       "      <td id=\"T_a2c8d_row2_col7\" class=\"data row2 col7\" >0.083194</td>\n",
       "      <td id=\"T_a2c8d_row2_col8\" class=\"data row2 col8\" >0.194488</td>\n",
       "      <td id=\"T_a2c8d_row2_col9\" class=\"data row2 col9\" >0.770654</td>\n",
       "      <td id=\"T_a2c8d_row2_col10\" class=\"data row2 col10\" >0.671041</td>\n",
       "    </tr>\n",
       "    <tr>\n",
       "      <th id=\"T_a2c8d_level0_row3\" class=\"row_heading level0 row3\" >gears</th>\n",
       "      <td id=\"T_a2c8d_row3_col0\" class=\"data row3 col0\" >0.193783</td>\n",
       "      <td id=\"T_a2c8d_row3_col1\" class=\"data row3 col1\" >-0.025685</td>\n",
       "      <td id=\"T_a2c8d_row3_col2\" class=\"data row3 col2\" >0.249758</td>\n",
       "      <td id=\"T_a2c8d_row3_col3\" class=\"data row3 col3\" >1.000000</td>\n",
       "      <td id=\"T_a2c8d_row3_col4\" class=\"data row3 col4\" >0.239586</td>\n",
       "      <td id=\"T_a2c8d_row3_col5\" class=\"data row3 col5\" >0.187789</td>\n",
       "      <td id=\"T_a2c8d_row3_col6\" class=\"data row3 col6\" >0.290264</td>\n",
       "      <td id=\"T_a2c8d_row3_col7\" class=\"data row3 col7\" >-0.048624</td>\n",
       "      <td id=\"T_a2c8d_row3_col8\" class=\"data row3 col8\" >-0.090815</td>\n",
       "      <td id=\"T_a2c8d_row3_col9\" class=\"data row3 col9\" >0.272957</td>\n",
       "      <td id=\"T_a2c8d_row3_col10\" class=\"data row3 col10\" >0.174519</td>\n",
       "    </tr>\n",
       "    <tr>\n",
       "      <th id=\"T_a2c8d_level0_row4\" class=\"row_heading level0 row4\" >co_emissions</th>\n",
       "      <td id=\"T_a2c8d_row4_col0\" class=\"data row4 col0\" >0.241257</td>\n",
       "      <td id=\"T_a2c8d_row4_col1\" class=\"data row4 col1\" >0.170655</td>\n",
       "      <td id=\"T_a2c8d_row4_col2\" class=\"data row4 col2\" >0.672491</td>\n",
       "      <td id=\"T_a2c8d_row4_col3\" class=\"data row4 col3\" >0.239586</td>\n",
       "      <td id=\"T_a2c8d_row4_col4\" class=\"data row4 col4\" >1.000000</td>\n",
       "      <td id=\"T_a2c8d_row4_col5\" class=\"data row4 col5\" >0.102581</td>\n",
       "      <td id=\"T_a2c8d_row4_col6\" class=\"data row4 col6\" >0.326153</td>\n",
       "      <td id=\"T_a2c8d_row4_col7\" class=\"data row4 col7\" >0.118931</td>\n",
       "      <td id=\"T_a2c8d_row4_col8\" class=\"data row4 col8\" >0.317986</td>\n",
       "      <td id=\"T_a2c8d_row4_col9\" class=\"data row4 col9\" >0.524973</td>\n",
       "      <td id=\"T_a2c8d_row4_col10\" class=\"data row4 col10\" >0.812006</td>\n",
       "    </tr>\n",
       "    <tr>\n",
       "      <th id=\"T_a2c8d_level0_row5\" class=\"row_heading level0 row5\" >extras</th>\n",
       "      <td id=\"T_a2c8d_row5_col0\" class=\"data row5 col0\" >0.310176</td>\n",
       "      <td id=\"T_a2c8d_row5_col1\" class=\"data row5 col1\" >-0.180417</td>\n",
       "      <td id=\"T_a2c8d_row5_col2\" class=\"data row5 col2\" >0.185866</td>\n",
       "      <td id=\"T_a2c8d_row5_col3\" class=\"data row5 col3\" >0.187789</td>\n",
       "      <td id=\"T_a2c8d_row5_col4\" class=\"data row5 col4\" >0.102581</td>\n",
       "      <td id=\"T_a2c8d_row5_col5\" class=\"data row5 col5\" >1.000000</td>\n",
       "      <td id=\"T_a2c8d_row5_col6\" class=\"data row5 col6\" >0.329707</td>\n",
       "      <td id=\"T_a2c8d_row5_col7\" class=\"data row5 col7\" >-0.103110</td>\n",
       "      <td id=\"T_a2c8d_row5_col8\" class=\"data row5 col8\" >-0.197873</td>\n",
       "      <td id=\"T_a2c8d_row5_col9\" class=\"data row5 col9\" >0.312954</td>\n",
       "      <td id=\"T_a2c8d_row5_col10\" class=\"data row5 col10\" >0.114886</td>\n",
       "    </tr>\n",
       "    <tr>\n",
       "      <th id=\"T_a2c8d_level0_row6\" class=\"row_heading level0 row6\" >empty_weight</th>\n",
       "      <td id=\"T_a2c8d_row6_col0\" class=\"data row6 col0\" >0.580873</td>\n",
       "      <td id=\"T_a2c8d_row6_col1\" class=\"data row6 col1\" >0.004025</td>\n",
       "      <td id=\"T_a2c8d_row6_col2\" class=\"data row6 col2\" >0.559162</td>\n",
       "      <td id=\"T_a2c8d_row6_col3\" class=\"data row6 col3\" >0.290264</td>\n",
       "      <td id=\"T_a2c8d_row6_col4\" class=\"data row6 col4\" >0.326153</td>\n",
       "      <td id=\"T_a2c8d_row6_col5\" class=\"data row6 col5\" >0.329707</td>\n",
       "      <td id=\"T_a2c8d_row6_col6\" class=\"data row6 col6\" >1.000000</td>\n",
       "      <td id=\"T_a2c8d_row6_col7\" class=\"data row6 col7\" >-0.049365</td>\n",
       "      <td id=\"T_a2c8d_row6_col8\" class=\"data row6 col8\" >-0.073288</td>\n",
       "      <td id=\"T_a2c8d_row6_col9\" class=\"data row6 col9\" >0.665614</td>\n",
       "      <td id=\"T_a2c8d_row6_col10\" class=\"data row6 col10\" >0.299871</td>\n",
       "    </tr>\n",
       "    <tr>\n",
       "      <th id=\"T_a2c8d_level0_row7\" class=\"row_heading level0 row7\" >previous_owner</th>\n",
       "      <td id=\"T_a2c8d_row7_col0\" class=\"data row7 col0\" >-0.181174</td>\n",
       "      <td id=\"T_a2c8d_row7_col1\" class=\"data row7 col1\" >0.368222</td>\n",
       "      <td id=\"T_a2c8d_row7_col2\" class=\"data row7 col2\" >0.083194</td>\n",
       "      <td id=\"T_a2c8d_row7_col3\" class=\"data row7 col3\" >-0.048624</td>\n",
       "      <td id=\"T_a2c8d_row7_col4\" class=\"data row7 col4\" >0.118931</td>\n",
       "      <td id=\"T_a2c8d_row7_col5\" class=\"data row7 col5\" >-0.103110</td>\n",
       "      <td id=\"T_a2c8d_row7_col6\" class=\"data row7 col6\" >-0.049365</td>\n",
       "      <td id=\"T_a2c8d_row7_col7\" class=\"data row7 col7\" >1.000000</td>\n",
       "      <td id=\"T_a2c8d_row7_col8\" class=\"data row7 col8\" >0.469071</td>\n",
       "      <td id=\"T_a2c8d_row7_col9\" class=\"data row7 col9\" >-0.013652</td>\n",
       "      <td id=\"T_a2c8d_row7_col10\" class=\"data row7 col10\" >0.139314</td>\n",
       "    </tr>\n",
       "    <tr>\n",
       "      <th id=\"T_a2c8d_level0_row8\" class=\"row_heading level0 row8\" >age</th>\n",
       "      <td id=\"T_a2c8d_row8_col0\" class=\"data row8 col0\" >-0.394801</td>\n",
       "      <td id=\"T_a2c8d_row8_col1\" class=\"data row8 col1\" >0.731396</td>\n",
       "      <td id=\"T_a2c8d_row8_col2\" class=\"data row8 col2\" >0.194488</td>\n",
       "      <td id=\"T_a2c8d_row8_col3\" class=\"data row8 col3\" >-0.090815</td>\n",
       "      <td id=\"T_a2c8d_row8_col4\" class=\"data row8 col4\" >0.317986</td>\n",
       "      <td id=\"T_a2c8d_row8_col5\" class=\"data row8 col5\" >-0.197873</td>\n",
       "      <td id=\"T_a2c8d_row8_col6\" class=\"data row8 col6\" >-0.073288</td>\n",
       "      <td id=\"T_a2c8d_row8_col7\" class=\"data row8 col7\" >0.469071</td>\n",
       "      <td id=\"T_a2c8d_row8_col8\" class=\"data row8 col8\" >1.000000</td>\n",
       "      <td id=\"T_a2c8d_row8_col9\" class=\"data row8 col9\" >-0.048920</td>\n",
       "      <td id=\"T_a2c8d_row8_col10\" class=\"data row8 col10\" >0.342378</td>\n",
       "    </tr>\n",
       "    <tr>\n",
       "      <th id=\"T_a2c8d_level0_row9\" class=\"row_heading level0 row9\" >power_kW</th>\n",
       "      <td id=\"T_a2c8d_row9_col0\" class=\"data row9 col0\" >0.708968</td>\n",
       "      <td id=\"T_a2c8d_row9_col1\" class=\"data row9 col1\" >-0.095839</td>\n",
       "      <td id=\"T_a2c8d_row9_col2\" class=\"data row9 col2\" >0.770654</td>\n",
       "      <td id=\"T_a2c8d_row9_col3\" class=\"data row9 col3\" >0.272957</td>\n",
       "      <td id=\"T_a2c8d_row9_col4\" class=\"data row9 col4\" >0.524973</td>\n",
       "      <td id=\"T_a2c8d_row9_col5\" class=\"data row9 col5\" >0.312954</td>\n",
       "      <td id=\"T_a2c8d_row9_col6\" class=\"data row9 col6\" >0.665614</td>\n",
       "      <td id=\"T_a2c8d_row9_col7\" class=\"data row9 col7\" >-0.013652</td>\n",
       "      <td id=\"T_a2c8d_row9_col8\" class=\"data row9 col8\" >-0.048920</td>\n",
       "      <td id=\"T_a2c8d_row9_col9\" class=\"data row9 col9\" >1.000000</td>\n",
       "      <td id=\"T_a2c8d_row9_col10\" class=\"data row9 col10\" >0.569033</td>\n",
       "    </tr>\n",
       "    <tr>\n",
       "      <th id=\"T_a2c8d_level0_row10\" class=\"row_heading level0 row10\" >cons_avg</th>\n",
       "      <td id=\"T_a2c8d_row10_col0\" class=\"data row10 col0\" >0.251454</td>\n",
       "      <td id=\"T_a2c8d_row10_col1\" class=\"data row10 col1\" >0.139659</td>\n",
       "      <td id=\"T_a2c8d_row10_col2\" class=\"data row10 col2\" >0.671041</td>\n",
       "      <td id=\"T_a2c8d_row10_col3\" class=\"data row10 col3\" >0.174519</td>\n",
       "      <td id=\"T_a2c8d_row10_col4\" class=\"data row10 col4\" >0.812006</td>\n",
       "      <td id=\"T_a2c8d_row10_col5\" class=\"data row10 col5\" >0.114886</td>\n",
       "      <td id=\"T_a2c8d_row10_col6\" class=\"data row10 col6\" >0.299871</td>\n",
       "      <td id=\"T_a2c8d_row10_col7\" class=\"data row10 col7\" >0.139314</td>\n",
       "      <td id=\"T_a2c8d_row10_col8\" class=\"data row10 col8\" >0.342378</td>\n",
       "      <td id=\"T_a2c8d_row10_col9\" class=\"data row10 col9\" >0.569033</td>\n",
       "      <td id=\"T_a2c8d_row10_col10\" class=\"data row10 col10\" >1.000000</td>\n",
       "    </tr>\n",
       "  </tbody>\n",
       "</table>\n"
      ],
      "text/plain": [
       "<pandas.io.formats.style.Styler at 0x159c40c8690>"
      ]
     },
     "execution_count": 106,
     "metadata": {},
     "output_type": "execute_result"
    }
   ],
   "source": [
    "df.corr(numeric_only=True).style.applymap(color_red)"
   ]
  },
  {
   "cell_type": "code",
   "execution_count": 107,
   "metadata": {},
   "outputs": [
    {
     "data": {
      "image/png": "[encoded data removed]",
      "text/plain": [
       "<Figure size 1000x600 with 2 Axes>"
      ]
     },
     "metadata": {},
     "output_type": "display_data"
    }
   ],
   "source": [
    "sns.heatmap(df.corr(numeric_only=True), annot=True, cmap='coolwarm', vmin=-1, vmax=1)\n",
    "plt.show();"
   ]
  },
  {
   "cell_type": "code",
   "execution_count": 108,
   "metadata": {},
   "outputs": [],
   "source": [
    "from statsmodels.stats.outliers_influence import variance_inflation_factor"
   ]
  },
  {
   "cell_type": "code",
   "execution_count": 109,
   "metadata": {},
   "outputs": [],
   "source": [
    "df_predictors = df.drop(columns=['price','make_model','body_type','type','warranty','gearbox','fuel_type','seller','drivetrain','full_service_history','upholstery','energy_efficiency_class','comfort_&_convenience_Package','entertainment_&_media_Package','safety_&_security_Package'])\n",
    "predictors = df_predictors.columns"
   ]
  },
  {
   "cell_type": "code",
   "execution_count": 110,
   "metadata": {},
   "outputs": [
    {
     "data": {
      "text/plain": [
       "Index(['mileage', 'engine_size', 'gears', 'co_emissions', 'extras',\n",
       "       'empty_weight', 'previous_owner', 'age', 'power_kW', 'cons_avg'],\n",
       "      dtype='object')"
      ]
     },
     "execution_count": 110,
     "metadata": {},
     "output_type": "execute_result"
    }
   ],
   "source": [
    "predictors"
   ]
  },
  {
   "cell_type": "code",
   "execution_count": 111,
   "metadata": {},
   "outputs": [],
   "source": [
    "vif_data = pd.DataFrame()\n",
    "vif_data['Variable'] = predictors"
   ]
  },
  {
   "cell_type": "code",
   "execution_count": 112,
   "metadata": {},
   "outputs": [],
   "source": [
    "# Calculate VIF scores for each predictor\n",
    "vif_data[\"VIF\"] = [variance_inflation_factor(df[predictors].values, i) for i in range(len(predictors))]"
   ]
  },
  {
   "cell_type": "code",
   "execution_count": 113,
   "metadata": {},
   "outputs": [
    {
     "data": {
      "text/html": [
       "<div>\n",
       "<style scoped>\n",
       "    .dataframe tbody tr th:only-of-type {\n",
       "        vertical-align: middle;\n",
       "    }\n",
       "\n",
       "    .dataframe tbody tr th {\n",
       "        vertical-align: top;\n",
       "    }\n",
       "\n",
       "    .dataframe thead th {\n",
       "        text-align: right;\n",
       "    }\n",
       "</style>\n",
       "<table border=\"1\" class=\"dataframe\">\n",
       "  <thead>\n",
       "    <tr style=\"text-align: right;\">\n",
       "      <th></th>\n",
       "      <th>Variable</th>\n",
       "      <th>VIF</th>\n",
       "    </tr>\n",
       "  </thead>\n",
       "  <tbody>\n",
       "    <tr>\n",
       "      <th>0</th>\n",
       "      <td>mileage</td>\n",
       "      <td>5.152793</td>\n",
       "    </tr>\n",
       "    <tr>\n",
       "      <th>1</th>\n",
       "      <td>engine_size</td>\n",
       "      <td>19.980641</td>\n",
       "    </tr>\n",
       "    <tr>\n",
       "      <th>2</th>\n",
       "      <td>gears</td>\n",
       "      <td>16.282661</td>\n",
       "    </tr>\n",
       "    <tr>\n",
       "      <th>3</th>\n",
       "      <td>co_emissions</td>\n",
       "      <td>22.145480</td>\n",
       "    </tr>\n",
       "    <tr>\n",
       "      <th>4</th>\n",
       "      <td>extras</td>\n",
       "      <td>2.964301</td>\n",
       "    </tr>\n",
       "    <tr>\n",
       "      <th>5</th>\n",
       "      <td>empty_weight</td>\n",
       "      <td>25.555071</td>\n",
       "    </tr>\n",
       "    <tr>\n",
       "      <th>6</th>\n",
       "      <td>previous_owner</td>\n",
       "      <td>4.811779</td>\n",
       "    </tr>\n",
       "    <tr>\n",
       "      <th>7</th>\n",
       "      <td>age</td>\n",
       "      <td>6.658917</td>\n",
       "    </tr>\n",
       "    <tr>\n",
       "      <th>8</th>\n",
       "      <td>power_kW</td>\n",
       "      <td>13.699919</td>\n",
       "    </tr>\n",
       "    <tr>\n",
       "      <th>9</th>\n",
       "      <td>cons_avg</td>\n",
       "      <td>24.588493</td>\n",
       "    </tr>\n",
       "  </tbody>\n",
       "</table>\n",
       "</div>"
      ],
      "text/plain": [
       "         Variable        VIF\n",
       "0         mileage   5.152793\n",
       "1     engine_size  19.980641\n",
       "2           gears  16.282661\n",
       "3    co_emissions  22.145480\n",
       "4          extras   2.964301\n",
       "5    empty_weight  25.555071\n",
       "6  previous_owner   4.811779\n",
       "7             age   6.658917\n",
       "8        power_kW  13.699919\n",
       "9        cons_avg  24.588493"
      ]
     },
     "execution_count": 113,
     "metadata": {},
     "output_type": "execute_result"
    }
   ],
   "source": [
    "vif_data\n",
    "# check the VIF scores:\n",
    "# 1   -> no correlation\n",
    "# 1-5 -> ok\n",
    "# >5  -> Alert! Be cautious and inspect more. Consider removing.\n",
    "# >10 -> Severe multicolliniearity!!!"
   ]
  },
  {
   "cell_type": "markdown",
   "metadata": {
    "id": "q33cPxoAF-7S"
   },
   "source": [
    "## 2. Data Pre-Processing\n",
    "\n",
    "As you know, the data set must be edited before proceeding to the implementation of the model. As the last step before model fitting, you need to spilit the data set as train and test. Then, you should train the model with train data and evaluate the performance of the model on the test data. You can use the train and test data you have created for all algorithms.\n",
    "\n",
    "You must also drop your target variable, the column you are trying to predict.\n",
    "\n",
    "You can use many [performance metrics for regression](https://medium.com/analytics-vidhya/evaluation-metrics-for-regression-problems-343c4923d922) to measure the performance of the regression model you train. You can define a function to view different metric results together.\n",
    "\n",
    "You can also use the [cross validation](https://towardsdatascience.com/cross-validation-explained-evaluating-estimator-performance-e51e5430ff85) method to measure the estimator performance. Cross validation uses different data samples from your test set and calculates the accuracy score for each data sample. You can calculate the final performance of your estimator by averaging these scores."
   ]
  },
  {
   "cell_type": "markdown",
   "metadata": {
    "id": "vpoca2LgF-7T"
   },
   "source": [
    "### Train | Test Split"
   ]
  },
  {
   "cell_type": "code",
   "execution_count": 114,
   "metadata": {},
   "outputs": [],
   "source": [
    "from sklearn.model_selection import train_test_split"
   ]
  },
  {
   "cell_type": "code",
   "execution_count": 115,
   "metadata": {},
   "outputs": [],
   "source": [
    "X = df.drop(columns=\"price\", axis=1)\n",
    "y = df[\"price\"]"
   ]
  },
  {
   "cell_type": "code",
   "execution_count": 117,
   "metadata": {
    "id": "vG4xZnMSF-7T"
   },
   "outputs": [
    {
     "name": "stdout",
     "output_type": "stream",
     "text": [
      "Train features shape :  (19916, 24)\n",
      "Train target shape   :  (19916,)\n",
      "Test features shape  :  (4980, 24)\n",
      "Test target shape    :  (4980,)\n"
     ]
    }
   ],
   "source": [
    "print(\"Train features shape : \", X_train.shape)\n",
    "print(\"Train target shape   : \", y_train.shape)\n",
    "print(\"Test features shape  : \", X_test.shape)\n",
    "print(\"Test target shape    : \", y_test.shape)"
   ]
  },
  {
   "cell_type": "markdown",
   "metadata": {
    "id": "oCxOEGc3F-7T"
   },
   "source": [
    "## OneHotEncoder and OrdinalEncoder"
   ]
  },
  {
   "cell_type": "markdown",
   "metadata": {
    "id": "n7ACmG9pF-7Z"
   },
   "source": [
    "### Converting Object Features into Numerical Features Using Make Column Transformer with OrdinalEncoder and OneHotEncoder"
   ]
  },
  {
   "cell_type": "code",
   "execution_count": 118,
   "metadata": {
    "id": "1e3eGFvnF-7Z"
   },
   "outputs": [],
   "source": [
    "from sklearn.preprocessing import OneHotEncoder, OrdinalEncoder\n",
    "from sklearn.compose import make_column_transformer"
   ]
  },
  {
   "cell_type": "code",
   "execution_count": 119,
   "metadata": {},
   "outputs": [
    {
     "data": {
      "text/html": [
       "<div>\n",
       "<style scoped>\n",
       "    .dataframe tbody tr th:only-of-type {\n",
       "        vertical-align: middle;\n",
       "    }\n",
       "\n",
       "    .dataframe tbody tr th {\n",
       "        vertical-align: top;\n",
       "    }\n",
       "\n",
       "    .dataframe thead th {\n",
       "        text-align: right;\n",
       "    }\n",
       "</style>\n",
       "<table border=\"1\" class=\"dataframe\">\n",
       "  <thead>\n",
       "    <tr style=\"text-align: right;\">\n",
       "      <th></th>\n",
       "      <th>make_model</th>\n",
       "      <th>body_type</th>\n",
       "      <th>type</th>\n",
       "      <th>warranty</th>\n",
       "      <th>gearbox</th>\n",
       "      <th>fuel_type</th>\n",
       "      <th>seller</th>\n",
       "      <th>drivetrain</th>\n",
       "      <th>full_service_history</th>\n",
       "      <th>upholstery</th>\n",
       "      <th>energy_efficiency_class</th>\n",
       "      <th>comfort_&amp;_convenience_Package</th>\n",
       "      <th>entertainment_&amp;_media_Package</th>\n",
       "      <th>safety_&amp;_security_Package</th>\n",
       "    </tr>\n",
       "  </thead>\n",
       "  <tbody>\n",
       "    <tr>\n",
       "      <th>0</th>\n",
       "      <td>Mercedes-Benz A 160</td>\n",
       "      <td>Compact</td>\n",
       "      <td>Used</td>\n",
       "      <td>Yes</td>\n",
       "      <td>Manual</td>\n",
       "      <td>Diesel</td>\n",
       "      <td>Dealer</td>\n",
       "      <td>Front</td>\n",
       "      <td>No</td>\n",
       "      <td>Cloth</td>\n",
       "      <td>efficient</td>\n",
       "      <td>Standard</td>\n",
       "      <td>Standard</td>\n",
       "      <td>Safety Premium Package</td>\n",
       "    </tr>\n",
       "  </tbody>\n",
       "</table>\n",
       "</div>"
      ],
      "text/plain": [
       "            make_model body_type  type warranty gearbox fuel_type  seller  \\\n",
       "0  Mercedes-Benz A 160   Compact  Used      Yes  Manual    Diesel  Dealer   \n",
       "\n",
       "  drivetrain full_service_history upholstery energy_efficiency_class  \\\n",
       "0      Front                   No      Cloth               efficient   \n",
       "\n",
       "  comfort_&_convenience_Package entertainment_&_media_Package  \\\n",
       "0                      Standard                      Standard   \n",
       "\n",
       "  safety_&_security_Package  \n",
       "0    Safety Premium Package  "
      ]
     },
     "execution_count": 119,
     "metadata": {},
     "output_type": "execute_result"
    }
   ],
   "source": [
    "df.select_dtypes(include=\"object\").head(1)"
   ]
  },
  {
   "cell_type": "code",
   "execution_count": 120,
   "metadata": {},
   "outputs": [],
   "source": [
    "ordinal_features = ['type','comfort_&_convenience_Package','entertainment_&_media_Package','safety_&_security_Package']\n",
    "onehot_features = ['energy_efficiency_class','make_model','body_type','gearbox','fuel_type','seller','warranty','drivetrain','upholstery','full_service_history']\n",
    "\n",
    "cat_for_type = [\"Used\", \"Employee's car\", \"Demonstration\", \"Pre-registered\"]\n",
    "cat_for_comfort = ['Standard', 'Premium', 'Premium Plus']\n",
    "cat_for_ent = ['Standard', 'Plus']\n",
    "cat_for_safety = ['Safety Standard Package', 'Safety Premium Package', 'Safety Premium Plus Package']"
   ]
  },
  {
   "cell_type": "code",
   "execution_count": 126,
   "metadata": {},
   "outputs": [],
   "source": [
    "column_trans = make_column_transformer(\n",
    "                        (OneHotEncoder(handle_unknown=\"ignore\", sparse_output=False), onehot_features), \n",
    "                        (OrdinalEncoder(categories=[cat_for_type, \n",
    "                                                    cat_for_comfort, \n",
    "                                                    cat_for_ent, \n",
    "                                                    cat_for_safety]), ordinal_features),\n",
    "                         remainder='passthrough', \n",
    "                         verbose_feature_names_out=False) # MinMaxScaler()\n",
    "\n",
    "column_trans=column_trans.set_output(transform=\"pandas\")"
   ]
  },
  {
   "cell_type": "code",
   "execution_count": 127,
   "metadata": {},
   "outputs": [
    {
     "name": "stdout",
     "output_type": "stream",
     "text": [
      "       energy_efficiency_class_efficient  energy_efficiency_class_unefficient  \\\n",
      "0                                    1.0                                  0.0   \n",
      "1                                    1.0                                  0.0   \n",
      "2                                    0.0                                  1.0   \n",
      "3                                    0.0                                  1.0   \n",
      "4                                    0.0                                  1.0   \n",
      "...                                  ...                                  ...   \n",
      "26706                                1.0                                  0.0   \n",
      "26707                                1.0                                  0.0   \n",
      "26708                                0.0                                  1.0   \n",
      "26709                                1.0                                  0.0   \n",
      "26710                                0.0                                  1.0   \n",
      "\n",
      "       make_model_Dacia Break  make_model_Dacia Dokker  \\\n",
      "0                         0.0                      0.0   \n",
      "1                         0.0                      0.0   \n",
      "2                         0.0                      0.0   \n",
      "3                         0.0                      0.0   \n",
      "4                         0.0                      0.0   \n",
      "...                       ...                      ...   \n",
      "26706                     0.0                      0.0   \n",
      "26707                     0.0                      0.0   \n",
      "26708                     0.0                      0.0   \n",
      "26709                     0.0                      0.0   \n",
      "26710                     0.0                      0.0   \n",
      "\n",
      "       make_model_Dacia Duster  make_model_Dacia Jogger  \\\n",
      "0                          0.0                      0.0   \n",
      "1                          0.0                      0.0   \n",
      "2                          0.0                      0.0   \n",
      "3                          0.0                      0.0   \n",
      "4                          0.0                      0.0   \n",
      "...                        ...                      ...   \n",
      "26706                      0.0                      0.0   \n",
      "26707                      0.0                      0.0   \n",
      "26708                      0.0                      0.0   \n",
      "26709                      0.0                      0.0   \n",
      "26710                      0.0                      0.0   \n",
      "\n",
      "       make_model_Dacia Lodgy  make_model_Dacia Logan  \\\n",
      "0                         0.0                     0.0   \n",
      "1                         0.0                     0.0   \n",
      "2                         0.0                     0.0   \n",
      "3                         0.0                     0.0   \n",
      "4                         0.0                     0.0   \n",
      "...                       ...                     ...   \n",
      "26706                     0.0                     0.0   \n",
      "26707                     0.0                     0.0   \n",
      "26708                     0.0                     0.0   \n",
      "26709                     0.0                     0.0   \n",
      "26710                     0.0                     0.0   \n",
      "\n",
      "       make_model_Dacia Sandero  make_model_Dacia Spring  \\\n",
      "0                           0.0                      0.0   \n",
      "1                           0.0                      0.0   \n",
      "2                           0.0                      0.0   \n",
      "3                           0.0                      0.0   \n",
      "4                           0.0                      0.0   \n",
      "...                         ...                      ...   \n",
      "26706                       0.0                      0.0   \n",
      "26707                       0.0                      0.0   \n",
      "26708                       0.0                      0.0   \n",
      "26709                       0.0                      0.0   \n",
      "26710                       0.0                      0.0   \n",
      "\n",
      "       make_model_Fiat 124 Spider  make_model_Fiat 500  \\\n",
      "0                             0.0                  0.0   \n",
      "1                             0.0                  0.0   \n",
      "2                             0.0                  0.0   \n",
      "3                             0.0                  0.0   \n",
      "4                             0.0                  0.0   \n",
      "...                           ...                  ...   \n",
      "26706                         0.0                  0.0   \n",
      "26707                         0.0                  0.0   \n",
      "26708                         0.0                  0.0   \n",
      "26709                         0.0                  0.0   \n",
      "26710                         0.0                  0.0   \n",
      "\n",
      "       make_model_Fiat 500 Abarth  make_model_Fiat 500C  make_model_Fiat 500L  \\\n",
      "0                             0.0                   0.0                   0.0   \n",
      "1                             0.0                   0.0                   0.0   \n",
      "2                             0.0                   0.0                   0.0   \n",
      "3                             0.0                   0.0                   0.0   \n",
      "4                             0.0                   0.0                   0.0   \n",
      "...                           ...                   ...                   ...   \n",
      "26706                         0.0                   0.0                   0.0   \n",
      "26707                         0.0                   0.0                   0.0   \n",
      "26708                         0.0                   0.0                   0.0   \n",
      "26709                         0.0                   0.0                   0.0   \n",
      "26710                         0.0                   0.0                   0.0   \n",
      "\n",
      "       make_model_Fiat 500X  make_model_Fiat 500e  make_model_Fiat 595 Abarth  \\\n",
      "0                       0.0                   0.0                         0.0   \n",
      "1                       0.0                   0.0                         0.0   \n",
      "2                       0.0                   0.0                         0.0   \n",
      "3                       0.0                   0.0                         0.0   \n",
      "4                       0.0                   0.0                         0.0   \n",
      "...                     ...                   ...                         ...   \n",
      "26706                   0.0                   0.0                         0.0   \n",
      "26707                   0.0                   0.0                         0.0   \n",
      "26708                   0.0                   0.0                         0.0   \n",
      "26709                   0.0                   0.0                         0.0   \n",
      "26710                   0.0                   0.0                         0.0   \n",
      "\n",
      "       make_model_Fiat Barchetta  make_model_Fiat Bravo  \\\n",
      "0                            0.0                    0.0   \n",
      "1                            0.0                    0.0   \n",
      "2                            0.0                    0.0   \n",
      "3                            0.0                    0.0   \n",
      "4                            0.0                    0.0   \n",
      "...                          ...                    ...   \n",
      "26706                        0.0                    0.0   \n",
      "26707                        0.0                    0.0   \n",
      "26708                        0.0                    0.0   \n",
      "26709                        0.0                    0.0   \n",
      "26710                        0.0                    0.0   \n",
      "\n",
      "       make_model_Fiat Croma  make_model_Fiat Doblo  make_model_Fiat Fiorino  \\\n",
      "0                        0.0                    0.0                      0.0   \n",
      "1                        0.0                    0.0                      0.0   \n",
      "2                        0.0                    0.0                      0.0   \n",
      "3                        0.0                    0.0                      0.0   \n",
      "4                        0.0                    0.0                      0.0   \n",
      "...                      ...                    ...                      ...   \n",
      "26706                    0.0                    0.0                      0.0   \n",
      "26707                    0.0                    0.0                      0.0   \n",
      "26708                    0.0                    0.0                      0.0   \n",
      "26709                    0.0                    0.0                      0.0   \n",
      "26710                    0.0                    0.0                      0.0   \n",
      "\n",
      "       make_model_Fiat Freemont  make_model_Fiat Fullback  \\\n",
      "0                           0.0                       0.0   \n",
      "1                           0.0                       0.0   \n",
      "2                           0.0                       0.0   \n",
      "3                           0.0                       0.0   \n",
      "4                           0.0                       0.0   \n",
      "...                         ...                       ...   \n",
      "26706                       0.0                       0.0   \n",
      "26707                       0.0                       0.0   \n",
      "26708                       0.0                       0.0   \n",
      "26709                       0.0                       0.0   \n",
      "26710                       0.0                       0.0   \n",
      "\n",
      "       make_model_Fiat Grande Punto  make_model_Fiat Multipla  \\\n",
      "0                               0.0                       0.0   \n",
      "1                               0.0                       0.0   \n",
      "2                               0.0                       0.0   \n",
      "3                               0.0                       0.0   \n",
      "4                               0.0                       0.0   \n",
      "...                             ...                       ...   \n",
      "26706                           0.0                       0.0   \n",
      "26707                           0.0                       0.0   \n",
      "26708                           0.0                       0.0   \n",
      "26709                           0.0                       0.0   \n",
      "26710                           0.0                       0.0   \n",
      "\n",
      "       make_model_Fiat New Panda  make_model_Fiat Panda  \\\n",
      "0                            0.0                    0.0   \n",
      "1                            0.0                    0.0   \n",
      "2                            0.0                    0.0   \n",
      "3                            0.0                    0.0   \n",
      "4                            0.0                    0.0   \n",
      "...                          ...                    ...   \n",
      "26706                        0.0                    0.0   \n",
      "26707                        0.0                    0.0   \n",
      "26708                        0.0                    0.0   \n",
      "26709                        0.0                    0.0   \n",
      "26710                        0.0                    0.0   \n",
      "\n",
      "       make_model_Fiat Punto  make_model_Fiat Punto Evo  make_model_Fiat Qubo  \\\n",
      "0                        0.0                        0.0                   0.0   \n",
      "1                        0.0                        0.0                   0.0   \n",
      "2                        0.0                        0.0                   0.0   \n",
      "3                        0.0                        0.0                   0.0   \n",
      "4                        0.0                        0.0                   0.0   \n",
      "...                      ...                        ...                   ...   \n",
      "26706                    0.0                        0.0                   0.0   \n",
      "26707                    0.0                        0.0                   0.0   \n",
      "26708                    0.0                        0.0                   0.0   \n",
      "26709                    0.0                        0.0                   0.0   \n",
      "26710                    0.0                        0.0                   0.0   \n",
      "\n",
      "       make_model_Fiat Sedici  make_model_Fiat Seicento  \\\n",
      "0                         0.0                       0.0   \n",
      "1                         0.0                       0.0   \n",
      "2                         0.0                       0.0   \n",
      "3                         0.0                       0.0   \n",
      "4                         0.0                       0.0   \n",
      "...                       ...                       ...   \n",
      "26706                     0.0                       0.0   \n",
      "26707                     0.0                       0.0   \n",
      "26708                     0.0                       0.0   \n",
      "26709                     0.0                       0.0   \n",
      "26710                     0.0                       0.0   \n",
      "\n",
      "       make_model_Fiat Spider Europa  make_model_Fiat Stilo  \\\n",
      "0                                0.0                    0.0   \n",
      "1                                0.0                    0.0   \n",
      "2                                0.0                    0.0   \n",
      "3                                0.0                    0.0   \n",
      "4                                0.0                    0.0   \n",
      "...                              ...                    ...   \n",
      "26706                            0.0                    0.0   \n",
      "26707                            0.0                    0.0   \n",
      "26708                            0.0                    0.0   \n",
      "26709                            0.0                    0.0   \n",
      "26710                            0.0                    0.0   \n",
      "\n",
      "       make_model_Fiat Strada  make_model_Fiat Talento  make_model_Fiat Tipo  \\\n",
      "0                         0.0                      0.0                   0.0   \n",
      "1                         0.0                      0.0                   0.0   \n",
      "2                         0.0                      0.0                   0.0   \n",
      "3                         0.0                      0.0                   0.0   \n",
      "4                         0.0                      0.0                   0.0   \n",
      "...                       ...                      ...                   ...   \n",
      "26706                     0.0                      0.0                   0.0   \n",
      "26707                     0.0                      0.0                   0.0   \n",
      "26708                     0.0                      0.0                   0.0   \n",
      "26709                     0.0                      0.0                   0.0   \n",
      "26710                     0.0                      0.0                   0.0   \n",
      "\n",
      "       make_model_Ford B-Max  make_model_Ford Bronco  make_model_Ford C-Max  \\\n",
      "0                        0.0                     0.0                    0.0   \n",
      "1                        0.0                     0.0                    0.0   \n",
      "2                        0.0                     0.0                    0.0   \n",
      "3                        0.0                     0.0                    0.0   \n",
      "4                        0.0                     0.0                    0.0   \n",
      "...                      ...                     ...                    ...   \n",
      "26706                    0.0                     0.0                    0.0   \n",
      "26707                    0.0                     0.0                    0.0   \n",
      "26708                    0.0                     0.0                    0.0   \n",
      "26709                    0.0                     0.0                    0.0   \n",
      "26710                    0.0                     0.0                    0.0   \n",
      "\n",
      "       make_model_Ford EcoSport  make_model_Ford Edge  \\\n",
      "0                           0.0                   0.0   \n",
      "1                           0.0                   0.0   \n",
      "2                           0.0                   0.0   \n",
      "3                           0.0                   0.0   \n",
      "4                           0.0                   0.0   \n",
      "...                         ...                   ...   \n",
      "26706                       0.0                   0.0   \n",
      "26707                       0.0                   0.0   \n",
      "26708                       0.0                   0.0   \n",
      "26709                       0.0                   0.0   \n",
      "26710                       0.0                   0.0   \n",
      "\n",
      "       make_model_Ford Explorer  make_model_Ford F 150  make_model_Ford F 250  \\\n",
      "0                           0.0                    0.0                    0.0   \n",
      "1                           0.0                    0.0                    0.0   \n",
      "2                           0.0                    0.0                    0.0   \n",
      "3                           0.0                    0.0                    0.0   \n",
      "4                           0.0                    0.0                    0.0   \n",
      "...                         ...                    ...                    ...   \n",
      "26706                       0.0                    0.0                    0.0   \n",
      "26707                       0.0                    0.0                    0.0   \n",
      "26708                       0.0                    0.0                    0.0   \n",
      "26709                       0.0                    0.0                    0.0   \n",
      "26710                       0.0                    0.0                    0.0   \n",
      "\n",
      "       make_model_Ford Fiesta  make_model_Ford Focus  \\\n",
      "0                         0.0                    0.0   \n",
      "1                         0.0                    0.0   \n",
      "2                         0.0                    0.0   \n",
      "3                         0.0                    0.0   \n",
      "4                         0.0                    0.0   \n",
      "...                       ...                    ...   \n",
      "26706                     0.0                    0.0   \n",
      "26707                     0.0                    0.0   \n",
      "26708                     0.0                    0.0   \n",
      "26709                     0.0                    0.0   \n",
      "26710                     0.0                    0.0   \n",
      "\n",
      "       make_model_Ford Focus CC  ...  make_model_Volvo V40  \\\n",
      "0                           0.0  ...                   0.0   \n",
      "1                           0.0  ...                   0.0   \n",
      "2                           0.0  ...                   0.0   \n",
      "3                           0.0  ...                   0.0   \n",
      "4                           0.0  ...                   0.0   \n",
      "...                         ...  ...                   ...   \n",
      "26706                       0.0  ...                   0.0   \n",
      "26707                       0.0  ...                   0.0   \n",
      "26708                       0.0  ...                   0.0   \n",
      "26709                       0.0  ...                   0.0   \n",
      "26710                       0.0  ...                   0.0   \n",
      "\n",
      "       make_model_Volvo V40 Cross Country  make_model_Volvo V50  \\\n",
      "0                                     0.0                   0.0   \n",
      "1                                     0.0                   0.0   \n",
      "2                                     0.0                   0.0   \n",
      "3                                     0.0                   0.0   \n",
      "4                                     0.0                   0.0   \n",
      "...                                   ...                   ...   \n",
      "26706                                 0.0                   0.0   \n",
      "26707                                 0.0                   0.0   \n",
      "26708                                 0.0                   0.0   \n",
      "26709                                 0.0                   0.0   \n",
      "26710                                 0.0                   0.0   \n",
      "\n",
      "       make_model_Volvo V60  make_model_Volvo V60 Cross Country  \\\n",
      "0                       0.0                                 0.0   \n",
      "1                       0.0                                 0.0   \n",
      "2                       0.0                                 0.0   \n",
      "3                       0.0                                 0.0   \n",
      "4                       0.0                                 0.0   \n",
      "...                     ...                                 ...   \n",
      "26706                   0.0                                 0.0   \n",
      "26707                   0.0                                 0.0   \n",
      "26708                   0.0                                 0.0   \n",
      "26709                   0.0                                 0.0   \n",
      "26710                   0.0                                 0.0   \n",
      "\n",
      "       make_model_Volvo V70  make_model_Volvo V90  \\\n",
      "0                       0.0                   0.0   \n",
      "1                       0.0                   0.0   \n",
      "2                       0.0                   0.0   \n",
      "3                       0.0                   0.0   \n",
      "4                       0.0                   0.0   \n",
      "...                     ...                   ...   \n",
      "26706                   0.0                   0.0   \n",
      "26707                   0.0                   0.0   \n",
      "26708                   0.0                   0.0   \n",
      "26709                   0.0                   0.0   \n",
      "26710                   0.0                   0.0   \n",
      "\n",
      "       make_model_Volvo V90 Cross Country  make_model_Volvo XC40  \\\n",
      "0                                     0.0                    0.0   \n",
      "1                                     0.0                    0.0   \n",
      "2                                     0.0                    0.0   \n",
      "3                                     0.0                    0.0   \n",
      "4                                     0.0                    0.0   \n",
      "...                                   ...                    ...   \n",
      "26706                                 0.0                    0.0   \n",
      "26707                                 0.0                    0.0   \n",
      "26708                                 0.0                    0.0   \n",
      "26709                                 0.0                    0.0   \n",
      "26710                                 0.0                    0.0   \n",
      "\n",
      "       make_model_Volvo XC60  make_model_Volvo XC70  make_model_Volvo XC90  \\\n",
      "0                        0.0                    0.0                    0.0   \n",
      "1                        0.0                    0.0                    0.0   \n",
      "2                        0.0                    0.0                    0.0   \n",
      "3                        0.0                    0.0                    0.0   \n",
      "4                        0.0                    0.0                    0.0   \n",
      "...                      ...                    ...                    ...   \n",
      "26706                    0.0                    0.0                    0.0   \n",
      "26707                    0.0                    0.0                    0.0   \n",
      "26708                    0.0                    0.0                    0.0   \n",
      "26709                    0.0                    0.0                    0.0   \n",
      "26710                    0.0                    0.0                    0.0   \n",
      "\n",
      "       body_type_Compact  body_type_Convertible  body_type_Coupe  \\\n",
      "0                    1.0                    0.0              0.0   \n",
      "1                    1.0                    0.0              0.0   \n",
      "2                    1.0                    0.0              0.0   \n",
      "3                    1.0                    0.0              0.0   \n",
      "4                    1.0                    0.0              0.0   \n",
      "...                  ...                    ...              ...   \n",
      "26706                0.0                    0.0              0.0   \n",
      "26707                0.0                    0.0              0.0   \n",
      "26708                0.0                    0.0              0.0   \n",
      "26709                0.0                    0.0              0.0   \n",
      "26710                0.0                    0.0              0.0   \n",
      "\n",
      "       body_type_Off-Road/Pick-up  body_type_Sedan  body_type_Station wagon  \\\n",
      "0                             0.0              0.0                      0.0   \n",
      "1                             0.0              0.0                      0.0   \n",
      "2                             0.0              0.0                      0.0   \n",
      "3                             0.0              0.0                      0.0   \n",
      "4                             0.0              0.0                      0.0   \n",
      "...                           ...              ...                      ...   \n",
      "26706                         0.0              1.0                      0.0   \n",
      "26707                         0.0              1.0                      0.0   \n",
      "26708                         0.0              1.0                      0.0   \n",
      "26709                         0.0              1.0                      0.0   \n",
      "26710                         0.0              1.0                      0.0   \n",
      "\n",
      "       gearbox_Automatic  gearbox_Manual  gearbox_Semi-automatic  \\\n",
      "0                    0.0             1.0                     0.0   \n",
      "1                    1.0             0.0                     0.0   \n",
      "2                    1.0             0.0                     0.0   \n",
      "3                    1.0             0.0                     0.0   \n",
      "4                    1.0             0.0                     0.0   \n",
      "...                  ...             ...                     ...   \n",
      "26706                1.0             0.0                     0.0   \n",
      "26707                1.0             0.0                     0.0   \n",
      "26708                0.0             1.0                     0.0   \n",
      "26709                1.0             0.0                     0.0   \n",
      "26710                1.0             0.0                     0.0   \n",
      "\n",
      "       fuel_type_Benzine  fuel_type_Diesel  fuel_type_Electric  \\\n",
      "0                    0.0               1.0                 0.0   \n",
      "1                    0.0               0.0                 1.0   \n",
      "2                    1.0               0.0                 0.0   \n",
      "3                    1.0               0.0                 0.0   \n",
      "4                    0.0               1.0                 0.0   \n",
      "...                  ...               ...                 ...   \n",
      "26706                0.0               1.0                 0.0   \n",
      "26707                1.0               0.0                 0.0   \n",
      "26708                0.0               1.0                 0.0   \n",
      "26709                1.0               0.0                 0.0   \n",
      "26710                1.0               0.0                 0.0   \n",
      "\n",
      "       fuel_type_Liquid/Natural Gas  seller_Dealer  seller_Private seller  \\\n",
      "0                               0.0            1.0                    0.0   \n",
      "1                               0.0            1.0                    0.0   \n",
      "2                               0.0            1.0                    0.0   \n",
      "3                               0.0            1.0                    0.0   \n",
      "4                               0.0            1.0                    0.0   \n",
      "...                             ...            ...                    ...   \n",
      "26706                           0.0            1.0                    0.0   \n",
      "26707                           0.0            1.0                    0.0   \n",
      "26708                           0.0            1.0                    0.0   \n",
      "26709                           0.0            1.0                    0.0   \n",
      "26710                           0.0            1.0                    0.0   \n",
      "\n",
      "       warranty_No  warranty_Yes  drivetrain_4WD  drivetrain_Front  \\\n",
      "0              0.0           1.0             0.0               1.0   \n",
      "1              0.0           1.0             1.0               0.0   \n",
      "2              0.0           1.0             1.0               0.0   \n",
      "3              0.0           1.0             1.0               0.0   \n",
      "4              0.0           1.0             1.0               0.0   \n",
      "...            ...           ...             ...               ...   \n",
      "26706          0.0           1.0             1.0               0.0   \n",
      "26707          1.0           0.0             0.0               1.0   \n",
      "26708          0.0           1.0             0.0               1.0   \n",
      "26709          0.0           1.0             1.0               0.0   \n",
      "26710          1.0           0.0             0.0               1.0   \n",
      "\n",
      "       drivetrain_Rear  upholstery_Cloth  upholstery_Part/Full Leather  \\\n",
      "0                  0.0               1.0                           0.0   \n",
      "1                  0.0               0.0                           1.0   \n",
      "2                  0.0               0.0                           1.0   \n",
      "3                  0.0               0.0                           1.0   \n",
      "4                  0.0               0.0                           1.0   \n",
      "...                ...               ...                           ...   \n",
      "26706              0.0               0.0                           1.0   \n",
      "26707              0.0               1.0                           0.0   \n",
      "26708              0.0               1.0                           0.0   \n",
      "26709              0.0               0.0                           1.0   \n",
      "26710              0.0               0.0                           1.0   \n",
      "\n",
      "       full_service_history_No  full_service_history_Yes  type  \\\n",
      "0                          1.0                       0.0   0.0   \n",
      "1                          1.0                       0.0   3.0   \n",
      "2                          1.0                       0.0   0.0   \n",
      "3                          1.0                       0.0   0.0   \n",
      "4                          1.0                       0.0   0.0   \n",
      "...                        ...                       ...   ...   \n",
      "26706                      1.0                       0.0   0.0   \n",
      "26707                      0.0                       1.0   0.0   \n",
      "26708                      0.0                       1.0   0.0   \n",
      "26709                      0.0                       1.0   0.0   \n",
      "26710                      1.0                       0.0   0.0   \n",
      "\n",
      "       comfort_&_convenience_Package  entertainment_&_media_Package  \\\n",
      "0                                0.0                            0.0   \n",
      "1                                1.0                            1.0   \n",
      "2                                0.0                            0.0   \n",
      "3                                0.0                            0.0   \n",
      "4                                0.0                            0.0   \n",
      "...                              ...                            ...   \n",
      "26706                            0.0                            0.0   \n",
      "26707                            0.0                            0.0   \n",
      "26708                            0.0                            0.0   \n",
      "26709                            0.0                            0.0   \n",
      "26710                            0.0                            0.0   \n",
      "\n",
      "       safety_&_security_Package   mileage  engine_size  gears  co_emissions  \\\n",
      "0                            1.0  120200.0       1595.0    5.0          98.0   \n",
      "1                            1.0    5000.0          1.0    1.0           0.0   \n",
      "2                            2.0   18900.0       1991.0    8.0         162.0   \n",
      "3                            1.0   18995.0       1991.0    7.0         169.0   \n",
      "4                            2.0  197000.0       2143.0    7.0         162.0   \n",
      "...                          ...       ...          ...    ...           ...   \n",
      "26706                        2.0   40345.0       1969.0    8.0         127.0   \n",
      "26707                        0.0  145000.0       2435.0    5.0         217.0   \n",
      "26708                        1.0   96000.0       1560.0    6.0          99.0   \n",
      "26709                        1.0   94343.0       1969.0    8.0         149.0   \n",
      "26710                        1.0  230047.0       2922.0    6.0         251.0   \n",
      "\n",
      "       extras  empty_weight  previous_owner   age  power_kW  cons_avg  \n",
      "0           1        1270.0             2.0   6.0      75.0     3.800  \n",
      "1           6        2355.0             1.0   0.0     215.0     2.359  \n",
      "2           1        1555.0             2.0   2.0     310.0     8.400  \n",
      "3           1        1455.0             2.0   2.0     225.0     7.300  \n",
      "4           1        1545.0             2.0   7.0     100.0     4.900  \n",
      "...       ...           ...             ...   ...       ...       ...  \n",
      "26706       1        2077.0             2.0   3.0     288.0     2.000  \n",
      "26707       2        1357.0             3.0  18.0     125.0     9.100  \n",
      "26708       3        1356.0             1.0  11.0      84.0     3.800  \n",
      "26709       2        1617.0             1.0   5.0     187.0     6.500  \n",
      "26710       4        1573.0             5.0  20.0     147.0    10.400  \n",
      "\n",
      "[24896 rows x 530 columns]\n"
     ]
    }
   ],
   "source": [
    "X_transformed = column_trans.fit_transform(X)\n",
    "print(X_transformed)"
   ]
  },
  {
   "cell_type": "markdown",
   "metadata": {
    "id": "oWumd4pqF-7Z"
   },
   "source": [
    "## Scaling"
   ]
  },
  {
   "cell_type": "code",
   "execution_count": 122,
   "metadata": {
    "id": "Qyu6RLqdF-7a"
   },
   "outputs": [],
   "source": [
    "from sklearn.preprocessing import StandardScaler, MinMaxScaler, RobustScaler"
   ]
  },
  {
   "cell_type": "code",
   "execution_count": null,
   "metadata": {},
   "outputs": [],
   "source": [
    "scaler = StandardScaler()\n",
    "X_scaled = scaler.fit_transform(X_transformed)\n",
    "\n",
    "# DataFrame'e dönüştürme (isteğe bağlı)\n",
    "X_scaled_df = pd.DataFrame(X_scaled, columns=X_transformed.columns)\n",
    "print(X_scaled_df)"
   ]
  },
  {
   "cell_type": "code",
   "execution_count": null,
   "metadata": {},
   "outputs": [],
   "source": [
    "X_train_scaled = scaler.transform(X_train)\n",
    "X_train_scaled"
   ]
  },
  {
   "cell_type": "code",
   "execution_count": null,
   "metadata": {},
   "outputs": [],
   "source": [
    "X_test_scaled = scaler.transform(X_test)\n",
    "X_test_scaled"
   ]
  },
  {
   "cell_type": "markdown",
   "metadata": {
    "id": "An_5ITcAmqZO"
   },
   "source": [
    "## 3. Implement Linear Regression"
   ]
  },
  {
   "cell_type": "markdown",
   "metadata": {
    "id": "0c0y-w8vmqZO"
   },
   "source": [
    " - Import the modul\n",
    " - Fit the model\n",
    " - Predict the test set\n",
    " - Determine feature coefficiant\n",
    " - Evaluate model performance (use performance metrics for regression and cross_val_score)\n",
    " - Compare different evaluation metrics\n",
    "\n",
    "*Note: You can use the [dir()](https://www.geeksforgeeks.org/python-dir-function/) function to see the methods you need.*"
   ]
  },
  {
   "cell_type": "code",
   "execution_count": null,
   "metadata": {
    "id": "lq6UKn_HmqZO"
   },
   "outputs": [],
   "source": [
    "# Pre-defined functions\n",
    "\n",
    "def train_val(model, X_train, y_train, X_test, y_test):\n",
    "    \"\"\"This function will help you get regression metrics on both train\n",
    "    and test set provided.\n",
    "\n",
    "    Args:\n",
    "        model : model that is used for prediction\n",
    "        X_train : Train features\n",
    "        y_train : Train target\n",
    "        X_test  : Test features\n",
    "        y_test  : Test target\n",
    "\n",
    "    Returns:\n",
    "        Dataframe : Returns scores dataframe\n",
    "    \"\"\"\n",
    "\n",
    "    y_pred = model.predict(X_test)\n",
    "    y_train_pred = model.predict(X_train)\n",
    "\n",
    "    scores = {\"train\": {\"R2\" : r2_score(y_train, y_train_pred),\n",
    "    \"mae\" : mean_absolute_error(y_train, y_train_pred),\n",
    "    \"mse\" : mean_squared_error(y_train, y_train_pred),\n",
    "    \"rmse\" : np.sqrt(mean_squared_error(y_train, y_train_pred))},\n",
    "\n",
    "    \"test\": {\"R2\" : r2_score(y_test, y_pred),\n",
    "    \"mae\" : mean_absolute_error(y_test, y_pred),\n",
    "    \"mse\" : mean_squared_error(y_test, y_pred),\n",
    "    \"rmse\" : np.sqrt(mean_squared_error(y_test, y_pred))}}\n",
    "\n",
    "    return pd.DataFrame(scores)\n",
    "\n",
    "def adj_r2(y_test, y_pred, X):\n",
    "    \"\"\"This function gives adjusted R^2\n",
    "\n",
    "    Args:\n",
    "        y_test : Actual target\n",
    "        y_pred : Predcition\n",
    "        X : Features\n",
    "\n",
    "    Returns:\n",
    "        adj_r2: Adjusted R^2\n",
    "    \"\"\"\n",
    "    r2 = r2_score(y_test, y_pred)\n",
    "    n = X.shape[0]   # number of observations\n",
    "    p = X.shape[1]   # number of independent variables\n",
    "    adj_r2 = 1 - (1-r2)*(n-1)/(n-p-1)\n",
    "    return adj_r2\n"
   ]
  },
  {
   "cell_type": "code",
   "execution_count": null,
   "metadata": {
    "id": "IrSzfrY2F-7a"
   },
   "outputs": [],
   "source": [
    "from sklearn.linear_model import LinearRegression\n",
    "\n",
    "lm = LinearRegression()"
   ]
  },
  {
   "cell_type": "code",
   "execution_count": null,
   "metadata": {},
   "outputs": [],
   "source": [
    "lm.fit(X_train_scaled, y_train)"
   ]
  },
  {
   "cell_type": "code",
   "execution_count": null,
   "metadata": {},
   "outputs": [],
   "source": [
    "y_pred = lm.predict(X_test_scaled)\n",
    "y_train_pred = lm.predict(X_train_scaled)"
   ]
  },
  {
   "cell_type": "code",
   "execution_count": null,
   "metadata": {},
   "outputs": [],
   "source": [
    "from sklearn.metrics import mean_absolute_error, mean_squared_error, mean_absolute_percentage_error, r2_score"
   ]
  },
  {
   "cell_type": "code",
   "execution_count": null,
   "metadata": {},
   "outputs": [],
   "source": [
    "ls = train_val(\"linear\", y_train, y_train_pred, y_test, y_pred)\n",
    "ls"
   ]
  },
  {
   "cell_type": "markdown",
   "metadata": {
    "id": "InWMuiIHF-7a"
   },
   "source": [
    "## Cross Validate"
   ]
  },
  {
   "cell_type": "code",
   "execution_count": null,
   "metadata": {},
   "outputs": [],
   "source": [
    "from sklearn.model_selection import cross_validate, cross_val_score"
   ]
  },
  {
   "cell_type": "code",
   "execution_count": null,
   "metadata": {},
   "outputs": [],
   "source": [
    "model = LinearRegression()\n",
    "scores = cross_validate(model, X_train_scaled, y_train,\n",
    "                        scoring = ['r2', 'neg_mean_absolute_error','neg_mean_squared_error', \\\n",
    "                                    'neg_root_mean_squared_error', 'neg_mean_absolute_percentage_error'], cv = 10, return_train_score=True)\n",
    "\n",
    "\n",
    "# Creating a brand new model for cross validation.\n",
    "\n",
    "# Set return_train_score=True to get the train score results of cross validation as well."
   ]
  },
  {
   "cell_type": "code",
   "execution_count": null,
   "metadata": {
    "id": "j2mrIuSLF-7b"
   },
   "outputs": [],
   "source": [
    "scores\n",
    "# The scores are returned as a dictionary."
   ]
  },
  {
   "cell_type": "code",
   "execution_count": null,
   "metadata": {},
   "outputs": [],
   "source": [
    "pd.DataFrame(scores, index = range(1,11))\n",
    "# To make it easier to read, we turn the returned dictionary into a dataframe."
   ]
  },
  {
   "cell_type": "code",
   "execution_count": null,
   "metadata": {},
   "outputs": [],
   "source": [
    "scores = pd.DataFrame(scores, index=range(1,11))\n",
    "scores.iloc[:, 2:].mean()\n",
    "\n",
    "# Return the mean of the metrics we got from cross validation."
   ]
  },
  {
   "cell_type": "code",
   "execution_count": null,
   "metadata": {},
   "outputs": [],
   "source": [
    "train_val(y_train, y_train_pred, y_test, y_pred, \"linear\")\n",
    "\n",
    "# Comparing train and test scores to diagnose overfitting/underfitting is not too bad of a method, but if we strictly take the test set as a reference to tune our model,\n",
    "# we will end up overestimating the model performance in the most optimistic/ambitious way. Trying to diagnose overfitting/underfitting from CV results\n",
    "# is the best way to go about it.\n",
    "\n",
    "# Also, CV tells us much more about the consistency and reliability of the model as well as different parts of the dataset."
   ]
  },
  {
   "cell_type": "code",
   "execution_count": null,
   "metadata": {},
   "outputs": [],
   "source": [
    "adj_r2(y_test, y_pred, X_test)"
   ]
  },
  {
   "cell_type": "code",
   "execution_count": null,
   "metadata": {},
   "outputs": [],
   "source": [
    "lm.coef_\n",
    "\n",
    "# We will assign the coefficients of each model to their own variables to compare\n",
    "# how regularisation affects the coefficients later on."
   ]
  },
  {
   "cell_type": "code",
   "execution_count": null,
   "metadata": {},
   "outputs": [],
   "source": [
    "lm_df = pd.DataFrame(lm.coef_, columns = [\"lm_coef\"])\n",
    "lm_df"
   ]
  },
  {
   "cell_type": "markdown",
   "metadata": {
    "id": "RE-H0i8aF-7b"
   },
   "source": [
    "## Prediction Error"
   ]
  },
  {
   "cell_type": "code",
   "execution_count": null,
   "metadata": {},
   "outputs": [],
   "source": [
    "residuals = y_test-y_pred"
   ]
  },
  {
   "cell_type": "code",
   "execution_count": null,
   "metadata": {
    "id": "rAr7LmW1F-7b"
   },
   "outputs": [],
   "source": []
  },
  {
   "cell_type": "markdown",
   "metadata": {
    "id": "FFgf8MbJF-7b"
   },
   "source": [
    "## Residual Plot"
   ]
  },
  {
   "cell_type": "code",
   "execution_count": null,
   "metadata": {
    "id": "NP90yxtnF-7b"
   },
   "outputs": [],
   "source": [
    "plt.figure(figsize = (10,6))\n",
    "sns.scatterplot(x = y_test, y = residuals) #-residuals\n",
    "plt.axhline(y = 0, color =\"r\", linestyle = \"--\")\n",
    "plt.ylabel(\"residuals\")\n",
    "plt.show();\n",
    "\n",
    "# There are 2 very fundamental and important assumptions we make on our residuals:\n",
    "# 1- They are normally distributed.\n",
    "# 2- They are randomly spread around the mean of 0. (This phenomenon is called homoscedasticity)"
   ]
  },
  {
   "cell_type": "code",
   "execution_count": null,
   "metadata": {},
   "outputs": [],
   "source": [
    "from sklearn.metrics import PredictionErrorDisplay\n",
    "display = PredictionErrorDisplay(y_true=y_test, y_pred=y_pred)\n",
    "display.plot()\n",
    "plt.show()"
   ]
  },
  {
   "cell_type": "code",
   "execution_count": null,
   "metadata": {},
   "outputs": [],
   "source": [
    "sns.kdeplot(residuals)\n",
    "plt.show();"
   ]
  },
  {
   "cell_type": "code",
   "execution_count": null,
   "metadata": {},
   "outputs": [],
   "source": [
    "stats.probplot(residuals, dist =\"norm\", plot =plt)\n",
    "plt.show();\n",
    "\n",
    "# You can also check QQ-normality plot to check if residuals are normally distributed."
   ]
  },
  {
   "cell_type": "code",
   "execution_count": null,
   "metadata": {},
   "outputs": [],
   "source": [
    "from scipy.stats import skew\n",
    "skew(residuals)\n",
    "\n",
    "# Check the skewness of the residuals. This is another way of checking your data\n",
    "# against normality, with a more formal mathematical calculation.\n",
    "# If your skewness score is between [-1, 1], you could say that it's more or less normally distributed.\n",
    "# 0 is the perfect score, means perfectly normally distributed, which you'll probably never get."
   ]
  },
  {
   "cell_type": "code",
   "execution_count": null,
   "metadata": {},
   "outputs": [],
   "source": [
    "from yellowbrick.regressor import ResidualsPlot\n",
    "\n",
    "# Instantiate the linear model and visualizer\n",
    "model = LinearRegression()\n",
    "visualizer = ResidualsPlot(model)\n",
    "\n",
    "visualizer.fit(X_train, y_train)  # Fit the training data to the visualizer\n",
    "visualizer.score(X_test, y_test)  # Evaluate the model on the test data\n",
    "visualizer.show();                # Finalize and render the figure\n",
    "\n",
    "# A much better way of visualising residuals is using `yellowbrick.regressor.ResidualsPlot`\n",
    "# This saves us manual labour.\n",
    "# yellowbrick is a great library specifically created to visualise scikit-learn models."
   ]
  },
  {
   "cell_type": "code",
   "execution_count": null,
   "metadata": {},
   "outputs": [],
   "source": [
    "from yellowbrick.regressor import PredictionError\n",
    "\n",
    "# Instantiate the linear model and visualizer\n",
    "model = LinearRegression()\n",
    "visualizer = PredictionError(model)\n",
    "\n",
    "visualizer.fit(X_train, y_train)  # Fit the training data to the visualizer\n",
    "visualizer.score(X_test, y_test)  # Evaluate the model on the test data\n",
    "visualizer.show();\n",
    "\n",
    "\n",
    "# On the x-axis, we've got the real target values, whereas on the y-axis, we've got the predicted target values.\n",
    "# The greyed-out dashed line is the reference line, where predictions would meet our real target values should they be perfect.\n",
    "# But they're not perfect. Hence, we have the black dashed line, showing how far apart our residuals from the ideal perfect."
   ]
  },
  {
   "cell_type": "markdown",
   "metadata": {
    "id": "URTPHtYcF-7b"
   },
   "source": [
    "## Dropping outliers that worsen my predictions from the dataset\n",
    "\n",
    "- After dropping re-fit and evaluate your model"
   ]
  },
  {
   "cell_type": "code",
   "execution_count": null,
   "metadata": {
    "id": "BGNzgzZrF-7b"
   },
   "outputs": [],
   "source": []
  },
  {
   "cell_type": "markdown",
   "metadata": {
    "id": "W-n0rbT9F-7b"
   },
   "source": [
    "## Pipeline\n",
    "- Read the documentation and apply pipeline\n",
    "- link : https://scikit-learn.org/stable/modules/compose.html"
   ]
  },
  {
   "cell_type": "code",
   "execution_count": null,
   "metadata": {
    "id": "okJfx60EF-7c"
   },
   "outputs": [],
   "source": []
  },
  {
   "cell_type": "markdown",
   "metadata": {
    "id": "n2ROwYsymqZO"
   },
   "source": [
    "## 4. Implement Ridge Regression"
   ]
  },
  {
   "cell_type": "markdown",
   "metadata": {
    "id": "3RvdF8CRmqZO"
   },
   "source": [
    "- Import the modul\n",
    "- Do not forget to scale the data or use Normalize parameter as True  \n",
    "- ***Fit the model (use pipeline)***\n",
    "- Predict the test set\n",
    "- Evaluate model performance (use performance metrics for regression)\n",
    "- Tune alpha hiperparameter by using [GridSearchCV](https://scikit-learn.org/stable/modules/generated/sklearn.model_selection.GridSearchCV.html) and determine the optimal alpha value.\n",
    "- Fit the model and predict again with the new alpha value."
   ]
  },
  {
   "cell_type": "markdown",
   "metadata": {
    "id": "QGAQoQ06F-7c"
   },
   "source": [
    "## Ridge"
   ]
  },
  {
   "cell_type": "code",
   "execution_count": null,
   "metadata": {
    "id": "-WMygy61F-7c"
   },
   "outputs": [],
   "source": []
  },
  {
   "cell_type": "markdown",
   "metadata": {
    "id": "wZBtuBrEF-7d"
   },
   "source": [
    "## Cross Validation"
   ]
  },
  {
   "cell_type": "code",
   "execution_count": null,
   "metadata": {
    "id": "CzapEg-2F-7d"
   },
   "outputs": [],
   "source": []
  },
  {
   "cell_type": "markdown",
   "metadata": {
    "id": "Tr-oyh1OF-7d"
   },
   "source": [
    "## Finding best alpha for Ridge"
   ]
  },
  {
   "cell_type": "code",
   "execution_count": null,
   "metadata": {
    "id": "XPsQ7-1TF-7d"
   },
   "outputs": [],
   "source": []
  },
  {
   "cell_type": "markdown",
   "metadata": {
    "id": "oDfXOSnpmqZO"
   },
   "source": [
    "## 5. Implement Lasso Regression"
   ]
  },
  {
   "cell_type": "markdown",
   "metadata": {
    "id": "icqyxzBymqZO"
   },
   "source": [
    "- Import the modul\n",
    "- Do not forget to scale the data or use Normalize parameter as True\n",
    "- ***Fit the model (use pipeline)***\n",
    "- Predict the test set\n",
    "- Evaluate model performance (use performance metrics for regression)\n",
    "- Tune alpha hiperparameter by using [GridSearchCV](https://scikit-learn.org/stable/modules/generated/sklearn.model_selection.GridSearchCV.html) and determine the optimal alpha value.\n",
    "- Fit the model and predict again with the new alpha value.\n",
    "- Compare different evaluation metrics\n",
    "\n",
    "*Note: To understand the importance of the alpha hyperparameter, you can observe the effects of different alpha values on feature coefficants.*"
   ]
  },
  {
   "cell_type": "code",
   "execution_count": null,
   "metadata": {
    "id": "owng4dw1F-7d"
   },
   "outputs": [],
   "source": []
  },
  {
   "cell_type": "markdown",
   "metadata": {
    "id": "BSXCKR06F-7d"
   },
   "source": [
    "## Cross Validation"
   ]
  },
  {
   "cell_type": "code",
   "execution_count": null,
   "metadata": {
    "id": "SaM1GGhzF-7e"
   },
   "outputs": [],
   "source": []
  },
  {
   "cell_type": "markdown",
   "metadata": {
    "id": "mAouR2ywF-7e"
   },
   "source": [
    "## Finding best alpha for Lasso"
   ]
  },
  {
   "cell_type": "code",
   "execution_count": null,
   "metadata": {
    "id": "TeDHVg38F-7e"
   },
   "outputs": [],
   "source": []
  },
  {
   "cell_type": "markdown",
   "metadata": {
    "id": "qpoOypMbmqZO"
   },
   "source": [
    "## 6. Implement Elastic-Net"
   ]
  },
  {
   "cell_type": "markdown",
   "metadata": {
    "id": "El7SNJUemqZO"
   },
   "source": [
    "- Import the modul\n",
    "- Do not forget to scale the data or use Normalize parameter as True\n",
    "- ***Fit the model (use pipeline)***\n",
    "- Predict the test set\n",
    "- Evaluate model performance (use performance metrics for regression)\n",
    "- Tune alpha hiperparameter by using [GridSearchCV](https://scikit-learn.org/stable/modules/generated/sklearn.model_selection.GridSearchCV.html) and determine the optimal alpha value.\n",
    "- Fit the model and predict again with the new alpha value.\n",
    "- Compare different evaluation metrics"
   ]
  },
  {
   "cell_type": "code",
   "execution_count": null,
   "metadata": {
    "id": "BGM084LtF-7e"
   },
   "outputs": [],
   "source": []
  },
  {
   "cell_type": "markdown",
   "metadata": {
    "id": "aWT3lTo8F-7e"
   },
   "source": [
    "## Cross Validation"
   ]
  },
  {
   "cell_type": "code",
   "execution_count": null,
   "metadata": {
    "id": "NSjikFHMF-7f"
   },
   "outputs": [],
   "source": []
  },
  {
   "cell_type": "markdown",
   "metadata": {
    "id": "8GItG3rNF-7f"
   },
   "source": [
    "## Finding best alpha and l1_ratio for ElasticNet"
   ]
  },
  {
   "cell_type": "code",
   "execution_count": null,
   "metadata": {
    "id": "K3YQsaKrF-7f"
   },
   "outputs": [],
   "source": []
  },
  {
   "cell_type": "markdown",
   "metadata": {
    "id": "ioM54h28F-7g"
   },
   "source": [
    "## Feature İmportance\n",
    "- Select the first 6 important features with the use of LASSO and re-fit the model"
   ]
  },
  {
   "cell_type": "code",
   "execution_count": null,
   "metadata": {
    "id": "EMlZZz5IF-7g"
   },
   "outputs": [],
   "source": []
  },
  {
   "cell_type": "markdown",
   "metadata": {
    "id": "eZP06lMdF-7g"
   },
   "source": [
    "## Cross Validate"
   ]
  },
  {
   "cell_type": "code",
   "execution_count": null,
   "metadata": {
    "id": "li4LrvP1F-7g"
   },
   "outputs": [],
   "source": []
  },
  {
   "cell_type": "markdown",
   "metadata": {
    "id": "sYyuZQtWmqZO"
   },
   "source": [
    "## 7. Visually Compare Models Performance In a Graph"
   ]
  },
  {
   "cell_type": "code",
   "execution_count": null,
   "metadata": {
    "id": "fiJWKHHFF-7h"
   },
   "outputs": [],
   "source": []
  },
  {
   "cell_type": "markdown",
   "metadata": {
    "id": "bjHSTwb1F-7h"
   },
   "source": [
    "## Prediction a new observation\n",
    "- Create an observation and predict its price"
   ]
  },
  {
   "cell_type": "code",
   "execution_count": null,
   "metadata": {
    "id": "IoXIveJBF-7h"
   },
   "outputs": [],
   "source": []
  },
  {
   "cell_type": "markdown",
   "metadata": {
    "id": "gYoSnSbDF-7h"
   },
   "source": [
    "___\n",
    "\n",
    "<p style=\"text-align: center;\"><img src=\"https://docs.google.com/uc?id=1lY0Uj5R04yMY3-ZppPWxqCr5pvBLYPnV\" class=\"img-fluid\" alt=\"CLRSWY\"></p>\n",
    "\n",
    "___"
   ]
  }
 ],
 "metadata": {
  "colab": {
   "provenance": []
  },
  "kernelspec": {
   "display_name": "Python 3 (ipykernel)",
   "language": "python",
   "name": "python3"
  },
  "language_info": {
   "codemirror_mode": {
    "name": "ipython",
    "version": 3
   },
   "file_extension": ".py",
   "mimetype": "text/x-python",
   "name": "python",
   "nbconvert_exporter": "python",
   "pygments_lexer": "ipython3",
   "version": "3.11.5"
  },
  "vscode": {
   "interpreter": {
    "hash": "9a4c4f48a7c69f416f6cf2655c5700f68b3ff724cce5aaacbc7bad0fd37e2def"
   }
  }
 },
 "nbformat": 4,
 "nbformat_minor": 1
}
